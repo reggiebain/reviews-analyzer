{
 "cells": [
  {
   "cell_type": "markdown",
   "id": "7ed1ac46",
   "metadata": {
    "papermill": {
     "duration": 0.005333,
     "end_time": "2025-04-06T15:06:42.618863",
     "exception": false,
     "start_time": "2025-04-06T15:06:42.613530",
     "status": "completed"
    },
    "tags": []
   },
   "source": [
    "# Sentiment Analyzer - Modeling\n",
    "- Load in created features as well as original reviews and review meta data\n",
    "- Build from-scratch model with multi class logistic regression, random forest, etc\n",
    "- Compare results with state-of-the art pre-trained neural net like Distilhubert\n",
    "- Target - Correctly predict sentiment of course reviews"
   ]
  },
  {
   "cell_type": "markdown",
   "id": "a6f462c6",
   "metadata": {
    "papermill": {
     "duration": 0.004421,
     "end_time": "2025-04-06T15:06:42.628029",
     "exception": false,
     "start_time": "2025-04-06T15:06:42.623608",
     "status": "completed"
    },
    "tags": []
   },
   "source": [
    "## Imports and Data Prep"
   ]
  },
  {
   "cell_type": "code",
   "execution_count": 1,
   "id": "fc9a2408",
   "metadata": {
    "execution": {
     "iopub.execute_input": "2025-04-06T15:06:42.637978Z",
     "iopub.status.busy": "2025-04-06T15:06:42.637685Z",
     "iopub.status.idle": "2025-04-06T15:06:49.363964Z",
     "shell.execute_reply": "2025-04-06T15:06:49.363116Z"
    },
    "papermill": {
     "duration": 6.733028,
     "end_time": "2025-04-06T15:06:49.365483",
     "exception": false,
     "start_time": "2025-04-06T15:06:42.632455",
     "status": "completed"
    },
    "tags": []
   },
   "outputs": [
    {
     "name": "stdout",
     "output_type": "stream",
     "text": [
      "\u001b[2K     \u001b[90m━━━━━━━━━━━━━━━━━━━━━━━━━━━━━━━━━━━━━━━━\u001b[0m \u001b[32m981.5/981.5 kB\u001b[0m \u001b[31m19.1 MB/s\u001b[0m eta \u001b[36m0:00:00\u001b[0m\r\n",
      "\u001b[?25h  Preparing metadata (setup.py) ... \u001b[?25l\u001b[?25hdone\r\n",
      "  Building wheel for langdetect (setup.py) ... \u001b[?25l\u001b[?25hdone\r\n"
     ]
    }
   ],
   "source": [
    "!pip install -q langdetect transformers xgboost"
   ]
  },
  {
   "cell_type": "code",
   "execution_count": 2,
   "id": "89f1d9b9",
   "metadata": {
    "execution": {
     "iopub.execute_input": "2025-04-06T15:06:49.376335Z",
     "iopub.status.busy": "2025-04-06T15:06:49.376066Z",
     "iopub.status.idle": "2025-04-06T15:07:11.813231Z",
     "shell.execute_reply": "2025-04-06T15:07:11.812557Z"
    },
    "papermill": {
     "duration": 22.444143,
     "end_time": "2025-04-06T15:07:11.814818",
     "exception": false,
     "start_time": "2025-04-06T15:06:49.370675",
     "status": "completed"
    },
    "tags": []
   },
   "outputs": [],
   "source": [
    "import pickle\n",
    "import pandas as pd\n",
    "import numpy as np\n",
    "from collections import Counter, defaultdict\n",
    "import math\n",
    "import re\n",
    "import itertools\n",
    "from langdetect import detect\n",
    "import warnings\n",
    "from tqdm import tqdm\n",
    "import torch\n",
    "from transformers import XLMRobertaTokenizer, XLMRobertaModel\n",
    "from sklearn.metrics.pairwise import cosine_similarity\n",
    "import os\n",
    "import matplotlib.pyplot as plt\n",
    "import seaborn as sns"
   ]
  },
  {
   "cell_type": "markdown",
   "id": "db4eb392",
   "metadata": {
    "papermill": {
     "duration": 0.004903,
     "end_time": "2025-04-06T15:07:11.825017",
     "exception": false,
     "start_time": "2025-04-06T15:07:11.820114",
     "status": "completed"
    },
    "tags": []
   },
   "source": [
    "### Import Coursera Data Set w/ Sentiment Features\n",
    "- Has been filtered for gibberish\n",
    "- Prep the data for predicting sentiment and summarizing\n",
    "- Compare against transformers\n",
    "- **NOTE:** For now, we'll limit to english words, as the transformer models that handle multiple languages have to be fine tuned for sentiment and very computationally intensive to fine-tune/run/download."
   ]
  },
  {
   "cell_type": "code",
   "execution_count": 3,
   "id": "456c3430",
   "metadata": {
    "execution": {
     "iopub.execute_input": "2025-04-06T15:07:11.835665Z",
     "iopub.status.busy": "2025-04-06T15:07:11.835102Z",
     "iopub.status.idle": "2025-04-06T15:07:12.952876Z",
     "shell.execute_reply": "2025-04-06T15:07:12.952164Z"
    },
    "papermill": {
     "duration": 1.124621,
     "end_time": "2025-04-06T15:07:12.954400",
     "exception": false,
     "start_time": "2025-04-06T15:07:11.829779",
     "status": "completed"
    },
    "tags": []
   },
   "outputs": [],
   "source": [
    "train_df = pd.read_pickle('/kaggle/input/reviews-analyzer-dataset/clean_sentiment_data/sentiment_train_clean.pkl')\n",
    "val_df = pd.read_pickle('/kaggle/input/reviews-analyzer-dataset/clean_sentiment_data/sentiment_val_clean.pkl')\n",
    "test_df = pd.read_pickle('/kaggle/input/reviews-analyzer-dataset/clean_sentiment_data/sentiment_test_clean.pkl')"
   ]
  },
  {
   "cell_type": "markdown",
   "id": "0760362a",
   "metadata": {
    "papermill": {
     "duration": 0.004589,
     "end_time": "2025-04-06T15:07:12.964476",
     "exception": false,
     "start_time": "2025-04-06T15:07:12.959887",
     "status": "completed"
    },
    "tags": []
   },
   "source": [
    "- **Sample Size:** When using the transformers, we need to use a fraction of the entries to avoid super long training times and overloading memory. Sample size still will be on the order 10^4 so should be fine.\n",
    "- **Languages:** Up to this point our analysis has been multi-language, but with fine tuning tranformer models, xlm-roberta-base is so large it presented issues with training. Additionally, many of the transformer models fine tuned for sentiment analysis (so we could get an out of the box comparison) didn't have many of the languages we needed. English will suffice for now. Additionaly, when sampling, VERY few of the entries are non english anyway."
   ]
  },
  {
   "cell_type": "code",
   "execution_count": 4,
   "id": "74ccb490",
   "metadata": {
    "execution": {
     "iopub.execute_input": "2025-04-06T15:07:12.975057Z",
     "iopub.status.busy": "2025-04-06T15:07:12.974787Z",
     "iopub.status.idle": "2025-04-06T15:07:12.992458Z",
     "shell.execute_reply": "2025-04-06T15:07:12.991622Z"
    },
    "papermill": {
     "duration": 0.024507,
     "end_time": "2025-04-06T15:07:12.993644",
     "exception": false,
     "start_time": "2025-04-06T15:07:12.969137",
     "status": "completed"
    },
    "tags": []
   },
   "outputs": [
    {
     "name": "stdout",
     "output_type": "stream",
     "text": [
      "The first three weeks are good, a lot of good content, but he (despite trying) has trouble fitting all the methodologies together in one single framework that is actionable. 4th week is an absolute waste of time.Ideally, to improve the course, the author should give a concise overall picture, concatenating ideas, connecting them with a timeline of the PM's role throughout the product's life cycle/challenges.It seems to me that the course lacks an overarching view of the whole process. At the same time, the author goes through all the views, methodologies, and prisms of what it is to be a PM, he does not make those views compatible, which makes the course lack pragmatism, despite being a good introduction.\n"
     ]
    }
   ],
   "source": [
    "print(train_df[train_df['sentiment'] == 1].review.iloc[0])"
   ]
  },
  {
   "cell_type": "code",
   "execution_count": 5,
   "id": "f3220669",
   "metadata": {
    "execution": {
     "iopub.execute_input": "2025-04-06T15:07:13.004320Z",
     "iopub.status.busy": "2025-04-06T15:07:13.004051Z",
     "iopub.status.idle": "2025-04-06T15:07:13.098444Z",
     "shell.execute_reply": "2025-04-06T15:07:13.097541Z"
    },
    "papermill": {
     "duration": 0.101037,
     "end_time": "2025-04-06T15:07:13.099766",
     "exception": false,
     "start_time": "2025-04-06T15:07:12.998729",
     "status": "completed"
    },
    "tags": []
   },
   "outputs": [
    {
     "data": {
      "text/plain": [
       "\"\\n# Create balanced set for training\\nmin_count = train_df['sentiment'].value_counts().min()\\n# Sample min_count rows from each class\\ntrain_df = (\\n    train_df.groupby('sentiment')\\n    .sample(n=min_count, random_state=42)  # random_state for reproducibility\\n    .reset_index(drop=True)\\n)\\n# Create balanced set for training\\nmin_count = val_df['sentiment'].value_counts().min()\\n# Sample min_count rows from each class\\nval_df = (\\n    val_df.groupby('sentiment')\\n    .sample(n=min_count, random_state=42)  # random_state for reproducibility\\n    .reset_index(drop=True)\\n)\\n# Create balanced set for training\\nmin_count = test_df['sentiment'].value_counts().min()\\n# Sample min_count rows from each class\\ntest_df = (\\n    test_df.groupby('sentiment')\\n    .sample(n=min_count, random_state=42)  # random_state for reproducibility\\n    .reset_index(drop=True)\\n)\\n\""
      ]
     },
     "execution_count": 5,
     "metadata": {},
     "output_type": "execute_result"
    }
   ],
   "source": [
    "#train_df = train_df.sample(frac=0.50)\n",
    "#val_df = val_df.sample(frac=0.50)\n",
    "#test_df = test_df.sample(frac=0.50)\n",
    "\n",
    "# Keep only positive and negative, toss neutral\n",
    "#train_df = train_df[train_df['sentiment'] != 1]\n",
    "#val_df = val_df[val_df['sentiment'] != 1]\n",
    "#test_df = test_df[test_df['sentiment'] != 1]\n",
    "\n",
    "# Try re labeling neutral as negative\n",
    "train_df['sentiment'] = (train_df['sentiment'] == 2).astype(int)\n",
    "val_df['sentiment'] = (val_df['sentiment'] == 2).astype(int)\n",
    "test_df['sentiment'] = (test_df['sentiment'] == 2).astype(int)\n",
    "\n",
    "# Filter only english for now\n",
    "train_df = train_df[train_df['language'] == 'en']\n",
    "val_df = val_df[val_df['language'] == 'en']\n",
    "test_df = test_df[test_df['language'] == 'en']\n",
    "\n",
    "# Get ratio of classes for XGBoost later\n",
    "scale_pos_weight = train_df.sentiment.value_counts().values[1]/train_df.sentiment.value_counts().values[0]\n",
    "'''\n",
    "# Create balanced set for training\n",
    "min_count = train_df['sentiment'].value_counts().min()\n",
    "# Sample min_count rows from each class\n",
    "train_df = (\n",
    "    train_df.groupby('sentiment')\n",
    "    .sample(n=min_count, random_state=42)  # random_state for reproducibility\n",
    "    .reset_index(drop=True)\n",
    ")\n",
    "# Create balanced set for training\n",
    "min_count = val_df['sentiment'].value_counts().min()\n",
    "# Sample min_count rows from each class\n",
    "val_df = (\n",
    "    val_df.groupby('sentiment')\n",
    "    .sample(n=min_count, random_state=42)  # random_state for reproducibility\n",
    "    .reset_index(drop=True)\n",
    ")\n",
    "# Create balanced set for training\n",
    "min_count = test_df['sentiment'].value_counts().min()\n",
    "# Sample min_count rows from each class\n",
    "test_df = (\n",
    "    test_df.groupby('sentiment')\n",
    "    .sample(n=min_count, random_state=42)  # random_state for reproducibility\n",
    "    .reset_index(drop=True)\n",
    ")\n",
    "'''"
   ]
  },
  {
   "cell_type": "markdown",
   "id": "15bd7a71",
   "metadata": {
    "papermill": {
     "duration": 0.004783,
     "end_time": "2025-04-06T15:07:13.109655",
     "exception": false,
     "start_time": "2025-04-06T15:07:13.104872",
     "status": "completed"
    },
    "tags": []
   },
   "source": [
    "Note that sentiment has 3 values: 0, 1, and 2 with 0 being overtly negative, 1 being roughly neutral, and 2 being positive."
   ]
  },
  {
   "cell_type": "code",
   "execution_count": 6,
   "id": "1658ef20",
   "metadata": {
    "execution": {
     "iopub.execute_input": "2025-04-06T15:07:13.120135Z",
     "iopub.status.busy": "2025-04-06T15:07:13.119876Z",
     "iopub.status.idle": "2025-04-06T15:07:13.125885Z",
     "shell.execute_reply": "2025-04-06T15:07:13.125098Z"
    },
    "papermill": {
     "duration": 0.012624,
     "end_time": "2025-04-06T15:07:13.127062",
     "exception": false,
     "start_time": "2025-04-06T15:07:13.114438",
     "status": "completed"
    },
    "tags": []
   },
   "outputs": [
    {
     "name": "stdout",
     "output_type": "stream",
     "text": [
      "sentiment\n",
      "1    223414\n",
      "0     14679\n",
      "Name: count, dtype: int64\n"
     ]
    }
   ],
   "source": [
    "print(train_df.sentiment.value_counts())"
   ]
  },
  {
   "cell_type": "markdown",
   "id": "a3adb5b2",
   "metadata": {
    "papermill": {
     "duration": 0.004757,
     "end_time": "2025-04-06T15:07:13.136695",
     "exception": false,
     "start_time": "2025-04-06T15:07:13.131938",
     "status": "completed"
    },
    "tags": []
   },
   "source": [
    "### Load in Coursera Data w/ Features"
   ]
  },
  {
   "cell_type": "code",
   "execution_count": 7,
   "id": "4c082853",
   "metadata": {
    "execution": {
     "iopub.execute_input": "2025-04-06T15:07:13.147369Z",
     "iopub.status.busy": "2025-04-06T15:07:13.147123Z",
     "iopub.status.idle": "2025-04-06T15:07:13.182156Z",
     "shell.execute_reply": "2025-04-06T15:07:13.181005Z"
    },
    "papermill": {
     "duration": 0.042356,
     "end_time": "2025-04-06T15:07:13.183982",
     "exception": false,
     "start_time": "2025-04-06T15:07:13.141626",
     "status": "completed"
    },
    "tags": []
   },
   "outputs": [],
   "source": [
    "y_train = train_df['sentiment']\n",
    "X_train = train_df.drop(columns=['sentiment'])\n",
    "\n",
    "y_val = val_df['sentiment']\n",
    "X_val = val_df.drop(columns=['sentiment'])\n",
    "\n",
    "y_test = test_df['sentiment']\n",
    "X_test = test_df.drop(columns=['sentiment'])"
   ]
  },
  {
   "cell_type": "markdown",
   "id": "edf7875c",
   "metadata": {
    "papermill": {
     "duration": 0.005171,
     "end_time": "2025-04-06T15:07:13.194981",
     "exception": false,
     "start_time": "2025-04-06T15:07:13.189810",
     "status": "completed"
    },
    "tags": []
   },
   "source": [
    "#### Features summary\n",
    "- **Text Sentiment Indicators:** 'pos_word_count', 'neg_word_count', 'negated_pos_count', 'negated_neg_count' → Directly indicate sentiment\n",
    "- **Polarity & Emotion Indicators:** 'polarity_score' → Strong single-value sentiment measure,'exclamation_count', 'uppercase_ratio' → Help capture enthusiasm or intensity\n",
    "\n",
    "- **Text Complexity & Structure:** 'word_count', 'n_chars', 'avg_word_length' → Longer reviews tend to be more meaningful, 'max_repeated', 'punct_ratio' → Helps detect exaggeration/emphasis\n",
    "\n",
    "- **Semantic & Statistical Features:** 'cosine_to_centroid' → Measures how much a review differs from a \"typical\" review, 'anomaly_score' → May help identify extreme sentiment outliers"
   ]
  },
  {
   "cell_type": "code",
   "execution_count": 8,
   "id": "18104bac",
   "metadata": {
    "execution": {
     "iopub.execute_input": "2025-04-06T15:07:13.205471Z",
     "iopub.status.busy": "2025-04-06T15:07:13.205190Z",
     "iopub.status.idle": "2025-04-06T15:07:13.225178Z",
     "shell.execute_reply": "2025-04-06T15:07:13.224539Z"
    },
    "papermill": {
     "duration": 0.026752,
     "end_time": "2025-04-06T15:07:13.226606",
     "exception": false,
     "start_time": "2025-04-06T15:07:13.199854",
     "status": "completed"
    },
    "tags": []
   },
   "outputs": [],
   "source": [
    "sentiment_features = ['pos_word_count', 'neg_word_count', 'polarity_score', \n",
    "                      'exclamation_count','word_count', 'n_chars', 'avg_word_length',\n",
    "                      'max_repeated','punct_ratio', 'cosine_to_centroid','anomaly_score']\n",
    "X_train = X_train[sentiment_features]\n",
    "X_val = X_val[sentiment_features]\n",
    "X_test = X_test[sentiment_features]"
   ]
  },
  {
   "cell_type": "markdown",
   "id": "22be97b9",
   "metadata": {
    "papermill": {
     "duration": 0.004952,
     "end_time": "2025-04-06T15:07:13.236685",
     "exception": false,
     "start_time": "2025-04-06T15:07:13.231733",
     "status": "completed"
    },
    "tags": []
   },
   "source": [
    "### Sentiment Feature Selection"
   ]
  },
  {
   "cell_type": "code",
   "execution_count": 9,
   "id": "53396aab",
   "metadata": {
    "execution": {
     "iopub.execute_input": "2025-04-06T15:07:13.247067Z",
     "iopub.status.busy": "2025-04-06T15:07:13.246851Z",
     "iopub.status.idle": "2025-04-06T15:07:20.745819Z",
     "shell.execute_reply": "2025-04-06T15:07:20.745027Z"
    },
    "papermill": {
     "duration": 7.505814,
     "end_time": "2025-04-06T15:07:20.747315",
     "exception": false,
     "start_time": "2025-04-06T15:07:13.241501",
     "status": "completed"
    },
    "tags": []
   },
   "outputs": [
    {
     "name": "stdout",
     "output_type": "stream",
     "text": [
      "Feature Importance (All Features):\n",
      "|    | Feature            |   Importance |\n",
      "|---:|:-------------------|-------------:|\n",
      "|  2 | polarity_score     |   0.390571   |\n",
      "|  1 | neg_word_count     |   0.308675   |\n",
      "|  0 | pos_word_count     |   0.144449   |\n",
      "|  4 | word_count         |   0.0488419  |\n",
      "|  5 | n_chars            |   0.0396532  |\n",
      "|  3 | exclamation_count  |   0.0222688  |\n",
      "| 10 | anomaly_score      |   0.0174299  |\n",
      "|  6 | avg_word_length    |   0.0113814  |\n",
      "|  9 | cosine_to_centroid |   0.0112717  |\n",
      "|  8 | punct_ratio        |   0.00289236 |\n",
      "|  7 | max_repeated       |   0.00256617 |\n"
     ]
    },
    {
     "data": {
      "image/png": "[encoded data removed]",
      "text/plain": [
       "<Figure size 1000x600 with 1 Axes>"
      ]
     },
     "metadata": {},
     "output_type": "display_data"
    }
   ],
   "source": [
    "from sklearn.ensemble import RandomForestClassifier, GradientBoostingClassifier\n",
    "\n",
    "rf_sentiment_model = RandomForestClassifier(max_depth= 5, n_estimators= 50)\n",
    "rf_sentiment_model.fit(X_train, y_train)\n",
    "\n",
    "# Feature importance\n",
    "importances = pd.DataFrame({\n",
    "    'Feature': X_train.columns,\n",
    "    'Importance': rf_sentiment_model.feature_importances_\n",
    "}).sort_values(by='Importance', ascending=False)\n",
    "print(\"Feature Importance (All Features):\")\n",
    "print(importances.to_markdown())\n",
    "\n",
    "# Plot\n",
    "plt.figure(figsize=(10, 6))\n",
    "sns.barplot(x='Importance', y='Feature', data=importances)\n",
    "plt.title('Random Forest Feature Importance')\n",
    "plt.savefig('sentiment_rf_feature_importance.png')\n",
    "plt.tight_layout()\n",
    "plt.show()"
   ]
  },
  {
   "cell_type": "code",
   "execution_count": 10,
   "id": "cf87ae9b",
   "metadata": {
    "execution": {
     "iopub.execute_input": "2025-04-06T15:07:20.762082Z",
     "iopub.status.busy": "2025-04-06T15:07:20.761850Z",
     "iopub.status.idle": "2025-04-06T15:07:21.714194Z",
     "shell.execute_reply": "2025-04-06T15:07:21.713338Z"
    },
    "papermill": {
     "duration": 0.9619,
     "end_time": "2025-04-06T15:07:21.716919",
     "exception": false,
     "start_time": "2025-04-06T15:07:20.755019",
     "status": "completed"
    },
    "tags": []
   },
   "outputs": [
    {
     "data": {
      "image/png": "[encoded data removed]",
      "text/plain": [
       "<Figure size 1000x800 with 2 Axes>"
      ]
     },
     "metadata": {},
     "output_type": "display_data"
    }
   ],
   "source": [
    "# Plot correlations between variables\n",
    "corr = X_train.corr()\n",
    "\n",
    "plt.figure(figsize=(10, 8))\n",
    "sns.heatmap(corr, annot=True, cmap='coolwarm', vmin=-1, vmax=1, fmt='.2f')\n",
    "plt.title(f'Feature Correlation Matrix (Sample of n={int(0.25*len(X_train))})', size=18, fontweight='bold')\n",
    "plt.tight_layout()\n",
    "plt.savefig('sentiment_feature_corrs.png')\n",
    "plt.show()"
   ]
  },
  {
   "cell_type": "markdown",
   "id": "267900d6",
   "metadata": {
    "papermill": {
     "duration": 0.008528,
     "end_time": "2025-04-06T15:07:21.735569",
     "exception": false,
     "start_time": "2025-04-06T15:07:21.727041",
     "status": "completed"
    },
    "tags": []
   },
   "source": [
    "Given that polarity is linearly dependent upon pos_word_count and neg_word_count, we'll eliminate those. We'll also keep anomaly score but not cosine to centroid. We'll also keep word count but not n_chars. We'll cut max_repeated since it doesn't seem to matter at all. So features will be:\n",
    "1. Polarity Score\n",
    "2. Exclamation Count\n",
    "3. Word Count\n",
    "4. Avg Word Length\n",
    "5. Punct Ratio\n",
    "5. Anomaly Score"
   ]
  },
  {
   "cell_type": "code",
   "execution_count": 11,
   "id": "a9d581b0",
   "metadata": {
    "execution": {
     "iopub.execute_input": "2025-04-06T15:07:21.753375Z",
     "iopub.status.busy": "2025-04-06T15:07:21.753025Z",
     "iopub.status.idle": "2025-04-06T15:07:21.761237Z",
     "shell.execute_reply": "2025-04-06T15:07:21.760631Z"
    },
    "papermill": {
     "duration": 0.018613,
     "end_time": "2025-04-06T15:07:21.762537",
     "exception": false,
     "start_time": "2025-04-06T15:07:21.743924",
     "status": "completed"
    },
    "tags": []
   },
   "outputs": [],
   "source": [
    "sentiment_features = ['polarity_score', 'exclamation_count','word_count', \n",
    "                      'avg_word_length','punct_ratio', 'anomaly_score']\n",
    "X_train = X_train[sentiment_features]\n",
    "X_val = X_val[sentiment_features]\n",
    "X_test = X_test[sentiment_features]"
   ]
  },
  {
   "cell_type": "markdown",
   "id": "f277433b",
   "metadata": {
    "papermill": {
     "duration": 0.008175,
     "end_time": "2025-04-06T15:07:21.779000",
     "exception": false,
     "start_time": "2025-04-06T15:07:21.770825",
     "status": "completed"
    },
    "tags": []
   },
   "source": [
    "## Classical ML Feature Based Sentiment Model\n",
    "- Below, we take a feature based approach to predicitng sentiment of reviews using classical ML techniques\n",
    "- **Baseline:** Our baseline model will be predicting the review is positive, as the vast majority of the original coursera ratings were 5/5."
   ]
  },
  {
   "cell_type": "code",
   "execution_count": 12,
   "id": "f75d5fd9",
   "metadata": {
    "execution": {
     "iopub.execute_input": "2025-04-06T15:07:21.796521Z",
     "iopub.status.busy": "2025-04-06T15:07:21.796234Z",
     "iopub.status.idle": "2025-04-06T15:07:21.799483Z",
     "shell.execute_reply": "2025-04-06T15:07:21.798700Z"
    },
    "papermill": {
     "duration": 0.013128,
     "end_time": "2025-04-06T15:07:21.800751",
     "exception": false,
     "start_time": "2025-04-06T15:07:21.787623",
     "status": "completed"
    },
    "tags": []
   },
   "outputs": [],
   "source": [
    "import os\n",
    "os.environ[\"WANDB_DISABLED\"] = \"true\""
   ]
  },
  {
   "cell_type": "code",
   "execution_count": 13,
   "id": "06709dff",
   "metadata": {
    "execution": {
     "iopub.execute_input": "2025-04-06T15:07:21.821931Z",
     "iopub.status.busy": "2025-04-06T15:07:21.821688Z",
     "iopub.status.idle": "2025-04-06T15:16:05.943378Z",
     "shell.execute_reply": "2025-04-06T15:16:05.942195Z"
    },
    "papermill": {
     "duration": 524.141776,
     "end_time": "2025-04-06T15:16:05.954424",
     "exception": false,
     "start_time": "2025-04-06T15:07:21.812648",
     "status": "completed"
    },
    "tags": []
   },
   "outputs": [
    {
     "name": "stdout",
     "output_type": "stream",
     "text": [
      "| Model                      |   Accuracy |   F1 Score |   Precision |   Recall | Best Hyperparameters                                        |\n",
      "|----------------------------|------------|------------|-------------|----------|-------------------------------------------------------------|\n",
      "| Logistic Regression        |   0.791821 |   0.842668 |    0.929867 | 0.791821 | {'C': 1}                                                    |\n",
      "| Random Forest              |   0.959875 |   0.954458 |    0.95547  | 0.959875 | {'max_depth': None, 'n_estimators': 200}                    |\n",
      "| XGBoost Classifer          |   0.827681 |   0.867041 |    0.934121 | 0.827681 | {'learning_rate': 0.2, 'max_depth': 7, 'n_estimators': 200} |\n",
      "| Baseline (Always Positive) |   0.939662 |   0.910431 |    0.882964 | 0.939662 | N/A                                                         |\n"
     ]
    }
   ],
   "source": [
    "from sklearn.ensemble import GradientBoostingClassifier, RandomForestClassifier\n",
    "from xgboost import XGBClassifier\n",
    "from sklearn.model_selection import train_test_split, GridSearchCV, StratifiedKFold\n",
    "from sklearn.linear_model import LogisticRegression\n",
    "from sklearn.metrics import accuracy_score, f1_score, precision_score, recall_score, precision_recall_curve, classification_report\n",
    "from tabulate import tabulate\n",
    "import random\n",
    "\n",
    "# use similar set of different parameters for tuning as in gibberish model\n",
    "models = {\n",
    "    \"Logistic Regression\": {\n",
    "        \"model\": LogisticRegression(max_iter=1000, class_weight='balanced'),\n",
    "        \"params\": {\"C\": [0.01, 0.1, 1, 10]}\n",
    "    },\n",
    "    \"Random Forest\": {\n",
    "        \"model\": RandomForestClassifier(class_weight='balanced'),\n",
    "        \"params\": {\"n_estimators\": [50, 100, 200], \"max_depth\": [5, 10, None]}\n",
    "    },\n",
    "    \"XGBoost Classifer\": {\n",
    "        \"model\": XGBClassifier(scale_pos_weight=scale_pos_weight),\n",
    "        \"params\": {\"n_estimators\": [50, 100, 200], 'max_depth': [3,5,7], \"learning_rate\": [0.01, 0.1, 0.2]}\n",
    "    }\n",
    "}\n",
    "\n",
    "results = []\n",
    "for name, info in models.items():\n",
    "    skf = StratifiedKFold(n_splits=5, shuffle=True, random_state=42)\n",
    "    grid_search = GridSearchCV(info[\"model\"], info[\"params\"], scoring='f1', cv=skf, n_jobs=-1)\n",
    "    grid_search.fit(X_train, y_train)\n",
    "\n",
    "    best_model = grid_search.best_estimator_\n",
    "    y_pred = best_model.predict(X_val)\n",
    "\n",
    "    accuracy = accuracy_score(y_val, y_pred)\n",
    "    f1 = f1_score(y_val, y_pred, average='weighted')\n",
    "\n",
    "    # Baseline Prediction: Always Predicting 2\n",
    "    y_pred_baseline = [1] * len(y_val)\n",
    "    #y_pred_baseline = [random.randint(0, 2) for _ in range(len(y_val))]\n",
    "    #y_pred_baseline = [random.choice([0,1]) for _ in range(len(y_val))]\n",
    "    \n",
    "    # Compute Metrics\n",
    "    accuracy = accuracy_score(y_val, y_pred)\n",
    "    f1 = f1_score(y_val, y_pred, average=\"weighted\")\n",
    "    precision = precision_score(y_val, y_pred, average=\"weighted\", zero_division=0)\n",
    "    recall = recall_score(y_val, y_pred, average=\"weighted\", zero_division=0)\n",
    "    \n",
    "    accuracy_baseline = accuracy_score(y_val, y_pred_baseline)\n",
    "    f1_baseline = f1_score(y_val, y_pred_baseline, average=\"weighted\")\n",
    "    precision_baseline = precision_score(y_val, y_pred_baseline, average=\"weighted\", zero_division=0)\n",
    "    recall_baseline = recall_score(y_val, y_pred_baseline, average=\"weighted\", zero_division=0)\n",
    "\n",
    "\n",
    "    results.append([name, accuracy, f1, precision, recall, grid_search.best_params_])\n",
    "\n",
    "# 🔹 Create Markdown Table\n",
    "results.append([\"Baseline (Always Positive)\", accuracy_baseline, f1_baseline, precision_baseline, recall_baseline, \"N/A\"])\n",
    "headers = [\"Model\", \"Accuracy\", \"F1 Score\", \"Precision\", \"Recall\", \"Best Hyperparameters\"]\n",
    "table = tabulate(results, headers=headers, tablefmt=\"github\")\n",
    "\n",
    "print(table)\n",
    "\n",
    "filename = 'sentiment_model_classical_features.pkl'\n",
    "with open(filename, 'wb') as file:\n",
    "    pickle.dump(best_model, file)"
   ]
  },
  {
   "cell_type": "markdown",
   "id": "2532817e",
   "metadata": {
    "papermill": {
     "duration": 0.008301,
     "end_time": "2025-04-06T15:16:05.971305",
     "exception": false,
     "start_time": "2025-04-06T15:16:05.963004",
     "status": "completed"
    },
    "tags": []
   },
   "source": [
    "| Model                      |   Accuracy |   F1 Score |   Precision |   Recall | Best Hyperparameters                         |\n",
    "|----------------------------|------------|------------|-------------|----------|----------------------------------------------|\n",
    "| Logistic Regression        |   0.845395 |   0.878164 |    0.934224 | 0.845395 | {'C': 0.01}                                  |\n",
    "| Random Forest              |   0.947368 |   0.932648 |    0.940468 | 0.947368 | {'max_depth': None, 'n_estimators': 200}     |\n",
    "| Gradient Boosting          |   0.947368 |   0.932648 |    0.940468 | 0.947368 | {'learning_rate': 0.01, 'n_estimators': 200} |\n",
    "| Baseline (Always Positive) |   0.9375   |   0.907258 |    0.878906 | 0.9375   | N/A                                          |"
   ]
  },
  {
   "cell_type": "code",
   "execution_count": 14,
   "id": "f1d32e2d",
   "metadata": {
    "execution": {
     "iopub.execute_input": "2025-04-06T15:16:05.989059Z",
     "iopub.status.busy": "2025-04-06T15:16:05.988794Z",
     "iopub.status.idle": "2025-04-06T15:16:39.018665Z",
     "shell.execute_reply": "2025-04-06T15:16:39.017639Z"
    },
    "papermill": {
     "duration": 33.050388,
     "end_time": "2025-04-06T15:16:39.030029",
     "exception": false,
     "start_time": "2025-04-06T15:16:05.979641",
     "status": "completed"
    },
    "tags": []
   },
   "outputs": [
    {
     "data": {
      "image/png": "[encoded data removed]",
      "text/plain": [
       "<Figure size 800x600 with 1 Axes>"
      ]
     },
     "metadata": {},
     "output_type": "display_data"
    }
   ],
   "source": [
    "# Plot Precision-Recall Curve\n",
    "plt.figure(figsize=(8, 6))\n",
    "\n",
    "# Grab the best model\n",
    "plot_model = RandomForestClassifier(max_depth= None, n_estimators= 100, class_weight='balanced')\n",
    "plot_model.fit(X_train, y_train)\n",
    "y_pred_plot = plot_model.predict(X_val)\n",
    "\n",
    "precision_model, recall_model, _ = precision_recall_curve(y_val, y_pred_plot, pos_label=1)\n",
    "plt.plot(recall_model, precision_model, label=\"Random Forest\")\n",
    "\n",
    "precision_baseline, recall_baseline, _ = precision_recall_curve(y_val, y_pred_baseline, pos_label=1)\n",
    "plt.plot(recall_baseline, precision_baseline, linestyle=\"--\", label=\"Baseline (Always Positive)\")\n",
    "\n",
    "plt.xlabel(\"Recall\")\n",
    "plt.ylabel(\"Precision\")\n",
    "plt.title(\"Precision-Recall Curve\")\n",
    "plt.legend()\n",
    "plt.tight_layout()\n",
    "plt.savefig('prc_sentiment.png')\n",
    "plt.show()\n"
   ]
  },
  {
   "cell_type": "markdown",
   "id": "ceff1edc",
   "metadata": {
    "papermill": {
     "duration": 0.010266,
     "end_time": "2025-04-06T15:16:39.050507",
     "exception": false,
     "start_time": "2025-04-06T15:16:39.040241",
     "status": "completed"
    },
    "tags": []
   },
   "source": [
    "## Out of Box Transformer Model"
   ]
  },
  {
   "cell_type": "code",
   "execution_count": 15,
   "id": "c4d9d720",
   "metadata": {
    "execution": {
     "iopub.execute_input": "2025-04-06T15:16:39.071792Z",
     "iopub.status.busy": "2025-04-06T15:16:39.071506Z",
     "iopub.status.idle": "2025-04-06T15:18:46.215191Z",
     "shell.execute_reply": "2025-04-06T15:18:46.214325Z"
    },
    "papermill": {
     "duration": 127.168079,
     "end_time": "2025-04-06T15:18:46.228680",
     "exception": false,
     "start_time": "2025-04-06T15:16:39.060601",
     "status": "completed"
    },
    "tags": []
   },
   "outputs": [
    {
     "data": {
      "application/vnd.jupyter.widget-view+json": {
       "model_id": "bde35e2bd67241bd9509cf203d51c068",
       "version_major": 2,
       "version_minor": 0
      },
      "text/plain": [
       "tokenizer_config.json:   0%|          | 0.00/48.0 [00:00<?, ?B/s]"
      ]
     },
     "metadata": {},
     "output_type": "display_data"
    },
    {
     "data": {
      "application/vnd.jupyter.widget-view+json": {
       "model_id": "71d117a978614264a02042bc1431aecc",
       "version_major": 2,
       "version_minor": 0
      },
      "text/plain": [
       "config.json:   0%|          | 0.00/483 [00:00<?, ?B/s]"
      ]
     },
     "metadata": {},
     "output_type": "display_data"
    },
    {
     "data": {
      "application/vnd.jupyter.widget-view+json": {
       "model_id": "75c4f193e6a0428ebc77647d67cdad0d",
       "version_major": 2,
       "version_minor": 0
      },
      "text/plain": [
       "vocab.txt:   0%|          | 0.00/232k [00:00<?, ?B/s]"
      ]
     },
     "metadata": {},
     "output_type": "display_data"
    },
    {
     "data": {
      "application/vnd.jupyter.widget-view+json": {
       "model_id": "b77a28f672374d4d85e7f5bdffbd6693",
       "version_major": 2,
       "version_minor": 0
      },
      "text/plain": [
       "tokenizer.json:   0%|          | 0.00/466k [00:00<?, ?B/s]"
      ]
     },
     "metadata": {},
     "output_type": "display_data"
    },
    {
     "data": {
      "application/vnd.jupyter.widget-view+json": {
       "model_id": "13d8477c8d434e46905f06f185291269",
       "version_major": 2,
       "version_minor": 0
      },
      "text/plain": [
       "model.safetensors:   0%|          | 0.00/268M [00:00<?, ?B/s]"
      ]
     },
     "metadata": {},
     "output_type": "display_data"
    },
    {
     "name": "stderr",
     "output_type": "stream",
     "text": [
      "Some weights of DistilBertForSequenceClassification were not initialized from the model checkpoint at distilbert-base-uncased and are newly initialized: ['classifier.bias', 'classifier.weight', 'pre_classifier.bias', 'pre_classifier.weight']\n",
      "You should probably TRAIN this model on a down-stream task to be able to use it for predictions and inference.\n",
      "Device set to use cuda:0\n"
     ]
    },
    {
     "name": "stdout",
     "output_type": "stream",
     "text": [
      "| Model                   |   Accuracy |   F1 Score |   Precision |   Recall |\n",
      "|-------------------------|------------|------------|-------------|----------|\n",
      "| Distilbert-base-uncased |   0.250722 |   0.345742 |    0.853837 | 0.250722 |\n"
     ]
    }
   ],
   "source": [
    "#from transformers import pipeline, XLMRobertaTokenizer, XLMRobertaForSequenceClassification\n",
    "from transformers import pipeline, AutoModelForSequenceClassification, AutoTokenizer\n",
    "\n",
    "# Get pretrained multi langugage sentiment model\n",
    "#model_name = \"cardiffnlp/twitter-xlm-roberta-base-sentiment\"\n",
    "#tokenizer = XLMRobertaTokenizer.from_pretrained(model_name)\n",
    "#model = XLMRobertaForSequenceClassification.from_pretrained(model_name, num_labels=5)\n",
    "\n",
    "model_name = \"distilbert-base-uncased\"\n",
    "tokenizer = AutoTokenizer.from_pretrained(model_name)\n",
    "model = AutoModelForSequenceClassification.from_pretrained(model_name, num_labels=2) \n",
    "\n",
    "sentiment_pipeline = pipeline(\"text-classification\", model=model, tokenizer=tokenizer, device=0 if torch.cuda.is_available() else -1)\n",
    "\n",
    "# Function to run pipeline on dataframe\n",
    "def get_predictions(reviews):\n",
    "    predictions = sentiment_pipeline(reviews, truncation=True, padding=True, max_length=512)\n",
    "    return [int(pred['label'].split(\"_\")[-1]) for pred in predictions]  # Extract numerical sentiment labels\n",
    "\n",
    "# Get predictions\n",
    "y_pred = get_predictions(val_df['review'].tolist())\n",
    "\n",
    "# Grab accuracy and f1\n",
    "accuracy = accuracy_score(y_val, y_pred)\n",
    "f1 = f1_score(y_val, y_pred, average=\"weighted\")\n",
    "precision = precision_score(y_val, y_pred, average=\"weighted\", zero_division=0)\n",
    "recall = recall_score(y_val, y_pred, average=\"weighted\", zero_division=0)\n",
    "\n",
    "# Make nice markdown table for comparing\n",
    "table = [[\"Distilbert-base-uncased\", accuracy, f1, precision, recall]]\n",
    "print(tabulate(table, headers=[\"Model\", \"Accuracy\", \"F1 Score\", \"Precision\", \"Recall\"], tablefmt=\"github\"))\n"
   ]
  },
  {
   "cell_type": "markdown",
   "id": "10dab011",
   "metadata": {
    "papermill": {
     "duration": 0.0107,
     "end_time": "2025-04-06T15:18:46.250390",
     "exception": false,
     "start_time": "2025-04-06T15:18:46.239690",
     "status": "completed"
    },
    "tags": []
   },
   "source": [
    "## Fine-tuned Neural Network Text Based Sentiment Model\n",
    "- Take a pre-trained model from HuggingFace transformers\n",
    "- Fine tune using our training set\n",
    "- Use HuggingFace trainer API - https://huggingface.co/learn/nlp-course/en/chapter3/3?fw=pt"
   ]
  },
  {
   "cell_type": "code",
   "execution_count": 16,
   "id": "ac1e3a95",
   "metadata": {
    "execution": {
     "iopub.execute_input": "2025-04-06T15:18:46.273113Z",
     "iopub.status.busy": "2025-04-06T15:18:46.272822Z",
     "iopub.status.idle": "2025-04-06T17:23:30.911028Z",
     "shell.execute_reply": "2025-04-06T17:23:30.910220Z"
    },
    "papermill": {
     "duration": 7484.651285,
     "end_time": "2025-04-06T17:23:30.912522",
     "exception": false,
     "start_time": "2025-04-06T15:18:46.261237",
     "status": "completed"
    },
    "tags": []
   },
   "outputs": [
    {
     "name": "stderr",
     "output_type": "stream",
     "text": [
      "Some weights of DistilBertForSequenceClassification were not initialized from the model checkpoint at distilbert-base-uncased and are newly initialized: ['classifier.bias', 'classifier.weight', 'pre_classifier.bias', 'pre_classifier.weight']\n",
      "You should probably TRAIN this model on a down-stream task to be able to use it for predictions and inference.\n",
      "/usr/local/lib/python3.10/dist-packages/transformers/training_args.py:1575: FutureWarning: `evaluation_strategy` is deprecated and will be removed in version 4.46 of 🤗 Transformers. Use `eval_strategy` instead\n",
      "  warnings.warn(\n",
      "Using the `WANDB_DISABLED` environment variable is deprecated and will be removed in v5. Use the --report_to flag to control the integrations used for logging result (for instance --report_to none).\n",
      "<ipython-input-16-88dc7d771758>:60: FutureWarning: `tokenizer` is deprecated and will be removed in version 5.0.0 for `Trainer.__init__`. Use `processing_class` instead.\n",
      "  trainer = Trainer(\n"
     ]
    },
    {
     "data": {
      "text/html": [
       "\n",
       "    <div>\n",
       "      \n",
       "      <progress value='14881' max='14881' style='width:300px; height:20px; vertical-align: middle;'></progress>\n",
       "      [14881/14881 1:54:40, Epoch 1/1]\n",
       "    </div>\n",
       "    <table border=\"1\" class=\"dataframe\">\n",
       "  <thead>\n",
       " <tr style=\"text-align: left;\">\n",
       "      <th>Epoch</th>\n",
       "      <th>Training Loss</th>\n",
       "      <th>Validation Loss</th>\n",
       "      <th>Accuracy</th>\n",
       "      <th>F1</th>\n",
       "      <th>Precision</th>\n",
       "      <th>Recall</th>\n",
       "    </tr>\n",
       "  </thead>\n",
       "  <tbody>\n",
       "    <tr>\n",
       "      <td>1</td>\n",
       "      <td>0.107100</td>\n",
       "      <td>0.105228</td>\n",
       "      <td>0.962897</td>\n",
       "      <td>0.959677</td>\n",
       "      <td>0.959309</td>\n",
       "      <td>0.962897</td>\n",
       "    </tr>\n",
       "  </tbody>\n",
       "</table><p>"
      ],
      "text/plain": [
       "<IPython.core.display.HTML object>"
      ]
     },
     "metadata": {},
     "output_type": "display_data"
    },
    {
     "data": {
      "text/html": [],
      "text/plain": [
       "<IPython.core.display.HTML object>"
      ]
     },
     "metadata": {},
     "output_type": "display_data"
    },
    {
     "name": "stdout",
     "output_type": "stream",
     "text": [
      "| Model                   |   Accuracy |   F1 Score |\n",
      "|-------------------------|------------|------------|\n",
      "| distilbert-base-uncased |   0.962897 |   0.959677 |\n"
     ]
    },
    {
     "data": {
      "image/png": "[encoded data removed]",
      "text/plain": [
       "<Figure size 640x480 with 1 Axes>"
      ]
     },
     "metadata": {},
     "output_type": "display_data"
    },
    {
     "data": {
      "text/plain": [
       "('./fine_tuned_distilbert-base-uncased/tokenizer_config.json',\n",
       " './fine_tuned_distilbert-base-uncased/special_tokens_map.json',\n",
       " './fine_tuned_distilbert-base-uncased/vocab.txt',\n",
       " './fine_tuned_distilbert-base-uncased/added_tokens.json',\n",
       " './fine_tuned_distilbert-base-uncased/tokenizer.json')"
      ]
     },
     "execution_count": 16,
     "metadata": {},
     "output_type": "execute_result"
    }
   ],
   "source": [
    "import torch\n",
    "#from transformers import XLMRobertaTokenizer, XLMRobertaForSequenceClassification, Trainer, TrainingArguments\n",
    "from transformers import Trainer, TrainingArguments\n",
    "from transformers import DataCollatorWithPadding\n",
    "from datasets import Dataset\n",
    "\n",
    "X_train_bert = train_df['review']\n",
    "y_train_bert = y_train\n",
    "\n",
    "X_val_bert = val_df['review']\n",
    "y_val_bert = y_val\n",
    "\n",
    "X_test_bert = test_df['review']\n",
    "y_test_bert = y_test\n",
    "\n",
    "# load multi language tokenizer and sequence classification model\n",
    "#tokenizer = XLMRobertaTokenizer.from_pretrained(\"xlm-roberta-small\")\n",
    "#model = XLMRobertaForSequenceClassification.from_pretrained(\"xlm-roberta-small\", num_labels=3)\n",
    "\n",
    "# Otherwise, re grab the one from above\n",
    "model_name = \"distilbert-base-uncased\"\n",
    "tokenizer = AutoTokenizer.from_pretrained(model_name)\n",
    "model = AutoModelForSequenceClassification.from_pretrained(model_name, num_labels=2) \n",
    "\n",
    "def tokenize_function(texts):\n",
    "    return tokenizer(texts, truncation=True, padding=True, max_length=512)\n",
    "\n",
    "train_encodings = tokenize_function(X_train_bert.tolist())\n",
    "val_encodings = tokenize_function(X_val_bert.tolist())\n",
    "\n",
    "# create Hugging Face Dataset so we can use huggingface trainer api\n",
    "train_dataset = Dataset.from_dict({\"input_ids\": train_encodings['input_ids'], \"attention_mask\": train_encodings['attention_mask'], \"labels\": y_train.tolist()})\n",
    "test_dataset = Dataset.from_dict({\"input_ids\": val_encodings['input_ids'], \"attention_mask\": val_encodings['attention_mask'], \"labels\": y_val.tolist()})\n",
    "\n",
    "def compute_metrics(eval_pred):\n",
    "    logits, labels = eval_pred\n",
    "    preds = np.argmax(logits, axis=1)\n",
    "    acc = accuracy_score(labels, preds)\n",
    "    f1 = f1_score(labels, preds, average='weighted')\n",
    "    precision = precision_score(labels, preds, average='weighted')\n",
    "    recall = recall_score(labels, preds, average='weighted')\n",
    "    return {\n",
    "        \"accuracy\": acc,\n",
    "        \"f1\": f1,\n",
    "        \"precision\": precision,\n",
    "        \"recall\": recall\n",
    "    }\n",
    "\n",
    "training_args = TrainingArguments(\n",
    "    output_dir=\"./results\",\n",
    "    evaluation_strategy=\"epoch\",\n",
    "    save_strategy=\"epoch\",\n",
    "    per_device_train_batch_size=16,\n",
    "    per_device_eval_batch_size=16,\n",
    "    num_train_epochs=1,\n",
    "    logging_dir=\"./logs\",\n",
    "    load_best_model_at_end=True\n",
    ")\n",
    "\n",
    "trainer = Trainer(\n",
    "    model=model,\n",
    "    args=training_args,\n",
    "    train_dataset=train_dataset,\n",
    "    eval_dataset=test_dataset,\n",
    "    tokenizer=tokenizer,\n",
    "    compute_metrics=compute_metrics,\n",
    "    data_collator=DataCollatorWithPadding(tokenizer)\n",
    ")\n",
    "\n",
    "trainer.train()\n",
    "\n",
    "# Evaluation step\n",
    "results = trainer.evaluate()\n",
    "bert_accuracy = results['eval_accuracy']\n",
    "bert_f1 = results['eval_f1']\n",
    "\n",
    "# print results to \n",
    "table = [[model_name, bert_accuracy, bert_f1]]\n",
    "print(tabulate(table, headers=[\"Model\", \"Accuracy\", \"F1 Score\"], tablefmt=\"github\"))\n",
    "\n",
    "# Get predictions for plotting PR curve\n",
    "predictions = trainer.predict(test_dataset)\n",
    "logits = predictions.predictions\n",
    "labels = predictions.label_ids\n",
    "probs = torch.nn.functional.softmax(torch.tensor(logits), dim=-1).numpy()\n",
    "preds = np.argmax(probs, axis=1)\n",
    "\n",
    "# Plot Precision-Recall curve for each class\n",
    "num_classes = probs.shape[1]\n",
    "for i in range(num_classes):\n",
    "    precision, recall, _ = precision_recall_curve(labels == i, probs[:, i])\n",
    "    plt.plot(recall, precision, label=f'Class {i}')\n",
    "\n",
    "plt.xlabel('Recall')\n",
    "plt.ylabel('Precision')\n",
    "plt.title('Precision-Recall Curve (One-vs-Rest)')\n",
    "plt.legend()\n",
    "plt.grid(True)\n",
    "plt.show()\n",
    "\n",
    "model.save_pretrained(f\"./fine_tuned_{model_name}\")\n",
    "tokenizer.save_pretrained(f\"./fine_tuned_{model_name}\")"
   ]
  },
  {
   "cell_type": "code",
   "execution_count": null,
   "id": "43102968",
   "metadata": {
    "papermill": {
     "duration": 0.012644,
     "end_time": "2025-04-06T17:23:30.938781",
     "exception": false,
     "start_time": "2025-04-06T17:23:30.926137",
     "status": "completed"
    },
    "tags": []
   },
   "outputs": [],
   "source": []
  }
 ],
 "metadata": {
  "kaggle": {
   "accelerator": "none",
   "dataSources": [
    {
     "datasetId": 6829806,
     "sourceId": 11245687,
     "sourceType": "datasetVersion"
    }
   ],
   "dockerImageVersionId": 30918,
   "isGpuEnabled": false,
   "isInternetEnabled": true,
   "language": "python",
   "sourceType": "notebook"
  },
  "kernelspec": {
   "display_name": "Python 3",
   "language": "python",
   "name": "python3"
  },
  "language_info": {
   "codemirror_mode": {
    "name": "ipython",
    "version": 3
   },
   "file_extension": ".py",
   "mimetype": "text/x-python",
   "name": "python",
   "nbconvert_exporter": "python",
   "pygments_lexer": "ipython3",
   "version": "3.10.12"
  },
  "papermill": {
   "default_parameters": {},
   "duration": 8215.161202,
   "end_time": "2025-04-06T17:23:35.189864",
   "environment_variables": {},
   "exception": null,
   "input_path": "__notebook__.ipynb",
   "output_path": "__notebook__.ipynb",
   "parameters": {},
   "start_time": "2025-04-06T15:06:40.028662",
   "version": "2.6.0"
  },
  "widgets": {
   "application/vnd.jupyter.widget-state+json": {
    "state": {
     "045fa2add0434fff8f02955df2c8c81c": {
      "model_module": "@jupyter-widgets/base",
      "model_module_version": "2.0.0",
      "model_name": "LayoutModel",
      "state": {
       "_model_module": "@jupyter-widgets/base",
       "_model_module_version": "2.0.0",
       "_model_name": "LayoutModel",
       "_view_count": null,
       "_view_module": "@jupyter-widgets/base",
       "_view_module_version": "2.0.0",
       "_view_name": "LayoutView",
       "align_content": null,
       "align_items": null,
       "align_self": null,
       "border_bottom": null,
       "border_left": null,
       "border_right": null,
       "border_top": null,
       "bottom": null,
       "display": null,
       "flex": null,
       "flex_flow": null,
       "grid_area": null,
       "grid_auto_columns": null,
       "grid_auto_flow": null,
       "grid_auto_rows": null,
       "grid_column": null,
       "grid_gap": null,
       "grid_row": null,
       "grid_template_areas": null,
       "grid_template_columns": null,
       "grid_template_rows": null,
       "height": null,
       "justify_content": null,
       "justify_items": null,
       "left": null,
       "margin": null,
       "max_height": null,
       "max_width": null,
       "min_height": null,
       "min_width": null,
       "object_fit": null,
       "object_position": null,
       "order": null,
       "overflow": null,
       "padding": null,
       "right": null,
       "top": null,
       "visibility": null,
       "width": null
      }
     },
     "05ecbd56642b4ab487e690cb300d59fb": {
      "model_module": "@jupyter-widgets/base",
      "model_module_version": "2.0.0",
      "model_name": "LayoutModel",
      "state": {
       "_model_module": "@jupyter-widgets/base",
       "_model_module_version": "2.0.0",
       "_model_name": "LayoutModel",
       "_view_count": null,
       "_view_module": "@jupyter-widgets/base",
       "_view_module_version": "2.0.0",
       "_view_name": "LayoutView",
       "align_content": null,
       "align_items": null,
       "align_self": null,
       "border_bottom": null,
       "border_left": null,
       "border_right": null,
       "border_top": null,
       "bottom": null,
       "display": null,
       "flex": null,
       "flex_flow": null,
       "grid_area": null,
       "grid_auto_columns": null,
       "grid_auto_flow": null,
       "grid_auto_rows": null,
       "grid_column": null,
       "grid_gap": null,
       "grid_row": null,
       "grid_template_areas": null,
       "grid_template_columns": null,
       "grid_template_rows": null,
       "height": null,
       "justify_content": null,
       "justify_items": null,
       "left": null,
       "margin": null,
       "max_height": null,
       "max_width": null,
       "min_height": null,
       "min_width": null,
       "object_fit": null,
       "object_position": null,
       "order": null,
       "overflow": null,
       "padding": null,
       "right": null,
       "top": null,
       "visibility": null,
       "width": null
      }
     },
     "095558c892fa4239978d8fe390722728": {
      "model_module": "@jupyter-widgets/base",
      "model_module_version": "2.0.0",
      "model_name": "LayoutModel",
      "state": {
       "_model_module": "@jupyter-widgets/base",
       "_model_module_version": "2.0.0",
       "_model_name": "LayoutModel",
       "_view_count": null,
       "_view_module": "@jupyter-widgets/base",
       "_view_module_version": "2.0.0",
       "_view_name": "LayoutView",
       "align_content": null,
       "align_items": null,
       "align_self": null,
       "border_bottom": null,
       "border_left": null,
       "border_right": null,
       "border_top": null,
       "bottom": null,
       "display": null,
       "flex": null,
       "flex_flow": null,
       "grid_area": null,
       "grid_auto_columns": null,
       "grid_auto_flow": null,
       "grid_auto_rows": null,
       "grid_column": null,
       "grid_gap": null,
       "grid_row": null,
       "grid_template_areas": null,
       "grid_template_columns": null,
       "grid_template_rows": null,
       "height": null,
       "justify_content": null,
       "justify_items": null,
       "left": null,
       "margin": null,
       "max_height": null,
       "max_width": null,
       "min_height": null,
       "min_width": null,
       "object_fit": null,
       "object_position": null,
       "order": null,
       "overflow": null,
       "padding": null,
       "right": null,
       "top": null,
       "visibility": null,
       "width": null
      }
     },
     "0b11bd62daad44c290429985992e4156": {
      "model_module": "@jupyter-widgets/base",
      "model_module_version": "2.0.0",
      "model_name": "LayoutModel",
      "state": {
       "_model_module": "@jupyter-widgets/base",
       "_model_module_version": "2.0.0",
       "_model_name": "LayoutModel",
       "_view_count": null,
       "_view_module": "@jupyter-widgets/base",
       "_view_module_version": "2.0.0",
       "_view_name": "LayoutView",
       "align_content": null,
       "align_items": null,
       "align_self": null,
       "border_bottom": null,
       "border_left": null,
       "border_right": null,
       "border_top": null,
       "bottom": null,
       "display": null,
       "flex": null,
       "flex_flow": null,
       "grid_area": null,
       "grid_auto_columns": null,
       "grid_auto_flow": null,
       "grid_auto_rows": null,
       "grid_column": null,
       "grid_gap": null,
       "grid_row": null,
       "grid_template_areas": null,
       "grid_template_columns": null,
       "grid_template_rows": null,
       "height": null,
       "justify_content": null,
       "justify_items": null,
       "left": null,
       "margin": null,
       "max_height": null,
       "max_width": null,
       "min_height": null,
       "min_width": null,
       "object_fit": null,
       "object_position": null,
       "order": null,
       "overflow": null,
       "padding": null,
       "right": null,
       "top": null,
       "visibility": null,
       "width": null
      }
     },
     "13d8477c8d434e46905f06f185291269": {
      "model_module": "@jupyter-widgets/controls",
      "model_module_version": "2.0.0",
      "model_name": "HBoxModel",
      "state": {
       "_dom_classes": [],
       "_model_module": "@jupyter-widgets/controls",
       "_model_module_version": "2.0.0",
       "_model_name": "HBoxModel",
       "_view_count": null,
       "_view_module": "@jupyter-widgets/controls",
       "_view_module_version": "2.0.0",
       "_view_name": "HBoxView",
       "box_style": "",
       "children": [
        "IPY_MODEL_fb76daba1e684dad80ca474eb6d80939",
        "IPY_MODEL_7d634f1d3638487f955590b4b5e1049e",
        "IPY_MODEL_5cc076bd3c924e8cbae6a1c5681ac132"
       ],
       "layout": "IPY_MODEL_5b39e35525904042869dc1c9fdb7d1c2",
       "tabbable": null,
       "tooltip": null
      }
     },
     "17c25860c3d943c0bf7c0b8815eee70a": {
      "model_module": "@jupyter-widgets/base",
      "model_module_version": "2.0.0",
      "model_name": "LayoutModel",
      "state": {
       "_model_module": "@jupyter-widgets/base",
       "_model_module_version": "2.0.0",
       "_model_name": "LayoutModel",
       "_view_count": null,
       "_view_module": "@jupyter-widgets/base",
       "_view_module_version": "2.0.0",
       "_view_name": "LayoutView",
       "align_content": null,
       "align_items": null,
       "align_self": null,
       "border_bottom": null,
       "border_left": null,
       "border_right": null,
       "border_top": null,
       "bottom": null,
       "display": null,
       "flex": null,
       "flex_flow": null,
       "grid_area": null,
       "grid_auto_columns": null,
       "grid_auto_flow": null,
       "grid_auto_rows": null,
       "grid_column": null,
       "grid_gap": null,
       "grid_row": null,
       "grid_template_areas": null,
       "grid_template_columns": null,
       "grid_template_rows": null,
       "height": null,
       "justify_content": null,
       "justify_items": null,
       "left": null,
       "margin": null,
       "max_height": null,
       "max_width": null,
       "min_height": null,
       "min_width": null,
       "object_fit": null,
       "object_position": null,
       "order": null,
       "overflow": null,
       "padding": null,
       "right": null,
       "top": null,
       "visibility": null,
       "width": null
      }
     },
     "194a924ed1c549b1ac1ef3357206ca79": {
      "model_module": "@jupyter-widgets/controls",
      "model_module_version": "2.0.0",
      "model_name": "HTMLModel",
      "state": {
       "_dom_classes": [],
       "_model_module": "@jupyter-widgets/controls",
       "_model_module_version": "2.0.0",
       "_model_name": "HTMLModel",
       "_view_count": null,
       "_view_module": "@jupyter-widgets/controls",
       "_view_module_version": "2.0.0",
       "_view_name": "HTMLView",
       "description": "",
       "description_allow_html": false,
       "layout": "IPY_MODEL_b2638256ab734912b8204fd3cbb16ec3",
       "placeholder": "​",
       "style": "IPY_MODEL_8b360fb3513d4fffb36c3ca430b4fab6",
       "tabbable": null,
       "tooltip": null,
       "value": " 483/483 [00:00&lt;00:00, 48.9kB/s]"
      }
     },
     "1a239f47854a460ebc6f55fbebdeeac1": {
      "model_module": "@jupyter-widgets/base",
      "model_module_version": "2.0.0",
      "model_name": "LayoutModel",
      "state": {
       "_model_module": "@jupyter-widgets/base",
       "_model_module_version": "2.0.0",
       "_model_name": "LayoutModel",
       "_view_count": null,
       "_view_module": "@jupyter-widgets/base",
       "_view_module_version": "2.0.0",
       "_view_name": "LayoutView",
       "align_content": null,
       "align_items": null,
       "align_self": null,
       "border_bottom": null,
       "border_left": null,
       "border_right": null,
       "border_top": null,
       "bottom": null,
       "display": null,
       "flex": null,
       "flex_flow": null,
       "grid_area": null,
       "grid_auto_columns": null,
       "grid_auto_flow": null,
       "grid_auto_rows": null,
       "grid_column": null,
       "grid_gap": null,
       "grid_row": null,
       "grid_template_areas": null,
       "grid_template_columns": null,
       "grid_template_rows": null,
       "height": null,
       "justify_content": null,
       "justify_items": null,
       "left": null,
       "margin": null,
       "max_height": null,
       "max_width": null,
       "min_height": null,
       "min_width": null,
       "object_fit": null,
       "object_position": null,
       "order": null,
       "overflow": null,
       "padding": null,
       "right": null,
       "top": null,
       "visibility": null,
       "width": null
      }
     },
     "1c7eb4775ba0425b8a46fb536b41eb40": {
      "model_module": "@jupyter-widgets/base",
      "model_module_version": "2.0.0",
      "model_name": "LayoutModel",
      "state": {
       "_model_module": "@jupyter-widgets/base",
       "_model_module_version": "2.0.0",
       "_model_name": "LayoutModel",
       "_view_count": null,
       "_view_module": "@jupyter-widgets/base",
       "_view_module_version": "2.0.0",
       "_view_name": "LayoutView",
       "align_content": null,
       "align_items": null,
       "align_self": null,
       "border_bottom": null,
       "border_left": null,
       "border_right": null,
       "border_top": null,
       "bottom": null,
       "display": null,
       "flex": null,
       "flex_flow": null,
       "grid_area": null,
       "grid_auto_columns": null,
       "grid_auto_flow": null,
       "grid_auto_rows": null,
       "grid_column": null,
       "grid_gap": null,
       "grid_row": null,
       "grid_template_areas": null,
       "grid_template_columns": null,
       "grid_template_rows": null,
       "height": null,
       "justify_content": null,
       "justify_items": null,
       "left": null,
       "margin": null,
       "max_height": null,
       "max_width": null,
       "min_height": null,
       "min_width": null,
       "object_fit": null,
       "object_position": null,
       "order": null,
       "overflow": null,
       "padding": null,
       "right": null,
       "top": null,
       "visibility": null,
       "width": null
      }
     },
     "1d720e9e3ee94b5faf6dcd7341f48ff3": {
      "model_module": "@jupyter-widgets/controls",
      "model_module_version": "2.0.0",
      "model_name": "HTMLStyleModel",
      "state": {
       "_model_module": "@jupyter-widgets/controls",
       "_model_module_version": "2.0.0",
       "_model_name": "HTMLStyleModel",
       "_view_count": null,
       "_view_module": "@jupyter-widgets/base",
       "_view_module_version": "2.0.0",
       "_view_name": "StyleView",
       "background": null,
       "description_width": "",
       "font_size": null,
       "text_color": null
      }
     },
     "1deb6e79930c4cbeb2d7d2133c3bb67e": {
      "model_module": "@jupyter-widgets/controls",
      "model_module_version": "2.0.0",
      "model_name": "HTMLStyleModel",
      "state": {
       "_model_module": "@jupyter-widgets/controls",
       "_model_module_version": "2.0.0",
       "_model_name": "HTMLStyleModel",
       "_view_count": null,
       "_view_module": "@jupyter-widgets/base",
       "_view_module_version": "2.0.0",
       "_view_name": "StyleView",
       "background": null,
       "description_width": "",
       "font_size": null,
       "text_color": null
      }
     },
     "25d792d33d3847b4899720d6cdaa7eef": {
      "model_module": "@jupyter-widgets/controls",
      "model_module_version": "2.0.0",
      "model_name": "FloatProgressModel",
      "state": {
       "_dom_classes": [],
       "_model_module": "@jupyter-widgets/controls",
       "_model_module_version": "2.0.0",
       "_model_name": "FloatProgressModel",
       "_view_count": null,
       "_view_module": "@jupyter-widgets/controls",
       "_view_module_version": "2.0.0",
       "_view_name": "ProgressView",
       "bar_style": "success",
       "description": "",
       "description_allow_html": false,
       "layout": "IPY_MODEL_45c1c7333dee4d5daa6eb05a24c80d4b",
       "max": 466062.0,
       "min": 0.0,
       "orientation": "horizontal",
       "style": "IPY_MODEL_a53065d56cfa46cbb218275ceab1d073",
       "tabbable": null,
       "tooltip": null,
       "value": 466062.0
      }
     },
     "35e95046f236476e95c34535325b24aa": {
      "model_module": "@jupyter-widgets/controls",
      "model_module_version": "2.0.0",
      "model_name": "ProgressStyleModel",
      "state": {
       "_model_module": "@jupyter-widgets/controls",
       "_model_module_version": "2.0.0",
       "_model_name": "ProgressStyleModel",
       "_view_count": null,
       "_view_module": "@jupyter-widgets/base",
       "_view_module_version": "2.0.0",
       "_view_name": "StyleView",
       "bar_color": null,
       "description_width": ""
      }
     },
     "3b28ef3cd0be4d2892712ab5319c7dfa": {
      "model_module": "@jupyter-widgets/base",
      "model_module_version": "2.0.0",
      "model_name": "LayoutModel",
      "state": {
       "_model_module": "@jupyter-widgets/base",
       "_model_module_version": "2.0.0",
       "_model_name": "LayoutModel",
       "_view_count": null,
       "_view_module": "@jupyter-widgets/base",
       "_view_module_version": "2.0.0",
       "_view_name": "LayoutView",
       "align_content": null,
       "align_items": null,
       "align_self": null,
       "border_bottom": null,
       "border_left": null,
       "border_right": null,
       "border_top": null,
       "bottom": null,
       "display": null,
       "flex": null,
       "flex_flow": null,
       "grid_area": null,
       "grid_auto_columns": null,
       "grid_auto_flow": null,
       "grid_auto_rows": null,
       "grid_column": null,
       "grid_gap": null,
       "grid_row": null,
       "grid_template_areas": null,
       "grid_template_columns": null,
       "grid_template_rows": null,
       "height": null,
       "justify_content": null,
       "justify_items": null,
       "left": null,
       "margin": null,
       "max_height": null,
       "max_width": null,
       "min_height": null,
       "min_width": null,
       "object_fit": null,
       "object_position": null,
       "order": null,
       "overflow": null,
       "padding": null,
       "right": null,
       "top": null,
       "visibility": null,
       "width": null
      }
     },
     "3c48f9ca779f4dbeb4818204649e7e3b": {
      "model_module": "@jupyter-widgets/controls",
      "model_module_version": "2.0.0",
      "model_name": "HTMLModel",
      "state": {
       "_dom_classes": [],
       "_model_module": "@jupyter-widgets/controls",
       "_model_module_version": "2.0.0",
       "_model_name": "HTMLModel",
       "_view_count": null,
       "_view_module": "@jupyter-widgets/controls",
       "_view_module_version": "2.0.0",
       "_view_name": "HTMLView",
       "description": "",
       "description_allow_html": false,
       "layout": "IPY_MODEL_9633a28d0cf741d99e7de5924e390433",
       "placeholder": "​",
       "style": "IPY_MODEL_7d8121d90cb246cf8af7750034228c7b",
       "tabbable": null,
       "tooltip": null,
       "value": "config.json: 100%"
      }
     },
     "45c1c7333dee4d5daa6eb05a24c80d4b": {
      "model_module": "@jupyter-widgets/base",
      "model_module_version": "2.0.0",
      "model_name": "LayoutModel",
      "state": {
       "_model_module": "@jupyter-widgets/base",
       "_model_module_version": "2.0.0",
       "_model_name": "LayoutModel",
       "_view_count": null,
       "_view_module": "@jupyter-widgets/base",
       "_view_module_version": "2.0.0",
       "_view_name": "LayoutView",
       "align_content": null,
       "align_items": null,
       "align_self": null,
       "border_bottom": null,
       "border_left": null,
       "border_right": null,
       "border_top": null,
       "bottom": null,
       "display": null,
       "flex": null,
       "flex_flow": null,
       "grid_area": null,
       "grid_auto_columns": null,
       "grid_auto_flow": null,
       "grid_auto_rows": null,
       "grid_column": null,
       "grid_gap": null,
       "grid_row": null,
       "grid_template_areas": null,
       "grid_template_columns": null,
       "grid_template_rows": null,
       "height": null,
       "justify_content": null,
       "justify_items": null,
       "left": null,
       "margin": null,
       "max_height": null,
       "max_width": null,
       "min_height": null,
       "min_width": null,
       "object_fit": null,
       "object_position": null,
       "order": null,
       "overflow": null,
       "padding": null,
       "right": null,
       "top": null,
       "visibility": null,
       "width": null
      }
     },
     "48353ca7033b4b74898c9ae069ec0c1f": {
      "model_module": "@jupyter-widgets/controls",
      "model_module_version": "2.0.0",
      "model_name": "HTMLStyleModel",
      "state": {
       "_model_module": "@jupyter-widgets/controls",
       "_model_module_version": "2.0.0",
       "_model_name": "HTMLStyleModel",
       "_view_count": null,
       "_view_module": "@jupyter-widgets/base",
       "_view_module_version": "2.0.0",
       "_view_name": "StyleView",
       "background": null,
       "description_width": "",
       "font_size": null,
       "text_color": null
      }
     },
     "48a90296dabf42d6a5770a38862d0b7e": {
      "model_module": "@jupyter-widgets/controls",
      "model_module_version": "2.0.0",
      "model_name": "HTMLModel",
      "state": {
       "_dom_classes": [],
       "_model_module": "@jupyter-widgets/controls",
       "_model_module_version": "2.0.0",
       "_model_name": "HTMLModel",
       "_view_count": null,
       "_view_module": "@jupyter-widgets/controls",
       "_view_module_version": "2.0.0",
       "_view_name": "HTMLView",
       "description": "",
       "description_allow_html": false,
       "layout": "IPY_MODEL_622ad43866474247923b240399f3a381",
       "placeholder": "​",
       "style": "IPY_MODEL_9d380e54438143ed974efb1dd7efc899",
       "tabbable": null,
       "tooltip": null,
       "value": " 466k/466k [00:00&lt;00:00, 21.3MB/s]"
      }
     },
     "4ff16b60647947f29a9e0e049aa13528": {
      "model_module": "@jupyter-widgets/controls",
      "model_module_version": "2.0.0",
      "model_name": "HTMLStyleModel",
      "state": {
       "_model_module": "@jupyter-widgets/controls",
       "_model_module_version": "2.0.0",
       "_model_name": "HTMLStyleModel",
       "_view_count": null,
       "_view_module": "@jupyter-widgets/base",
       "_view_module_version": "2.0.0",
       "_view_name": "StyleView",
       "background": null,
       "description_width": "",
       "font_size": null,
       "text_color": null
      }
     },
     "51b35ee6010b49f28c88c35975d9fb03": {
      "model_module": "@jupyter-widgets/base",
      "model_module_version": "2.0.0",
      "model_name": "LayoutModel",
      "state": {
       "_model_module": "@jupyter-widgets/base",
       "_model_module_version": "2.0.0",
       "_model_name": "LayoutModel",
       "_view_count": null,
       "_view_module": "@jupyter-widgets/base",
       "_view_module_version": "2.0.0",
       "_view_name": "LayoutView",
       "align_content": null,
       "align_items": null,
       "align_self": null,
       "border_bottom": null,
       "border_left": null,
       "border_right": null,
       "border_top": null,
       "bottom": null,
       "display": null,
       "flex": null,
       "flex_flow": null,
       "grid_area": null,
       "grid_auto_columns": null,
       "grid_auto_flow": null,
       "grid_auto_rows": null,
       "grid_column": null,
       "grid_gap": null,
       "grid_row": null,
       "grid_template_areas": null,
       "grid_template_columns": null,
       "grid_template_rows": null,
       "height": null,
       "justify_content": null,
       "justify_items": null,
       "left": null,
       "margin": null,
       "max_height": null,
       "max_width": null,
       "min_height": null,
       "min_width": null,
       "object_fit": null,
       "object_position": null,
       "order": null,
       "overflow": null,
       "padding": null,
       "right": null,
       "top": null,
       "visibility": null,
       "width": null
      }
     },
     "5b39e35525904042869dc1c9fdb7d1c2": {
      "model_module": "@jupyter-widgets/base",
      "model_module_version": "2.0.0",
      "model_name": "LayoutModel",
      "state": {
       "_model_module": "@jupyter-widgets/base",
       "_model_module_version": "2.0.0",
       "_model_name": "LayoutModel",
       "_view_count": null,
       "_view_module": "@jupyter-widgets/base",
       "_view_module_version": "2.0.0",
       "_view_name": "LayoutView",
       "align_content": null,
       "align_items": null,
       "align_self": null,
       "border_bottom": null,
       "border_left": null,
       "border_right": null,
       "border_top": null,
       "bottom": null,
       "display": null,
       "flex": null,
       "flex_flow": null,
       "grid_area": null,
       "grid_auto_columns": null,
       "grid_auto_flow": null,
       "grid_auto_rows": null,
       "grid_column": null,
       "grid_gap": null,
       "grid_row": null,
       "grid_template_areas": null,
       "grid_template_columns": null,
       "grid_template_rows": null,
       "height": null,
       "justify_content": null,
       "justify_items": null,
       "left": null,
       "margin": null,
       "max_height": null,
       "max_width": null,
       "min_height": null,
       "min_width": null,
       "object_fit": null,
       "object_position": null,
       "order": null,
       "overflow": null,
       "padding": null,
       "right": null,
       "top": null,
       "visibility": null,
       "width": null
      }
     },
     "5cc076bd3c924e8cbae6a1c5681ac132": {
      "model_module": "@jupyter-widgets/controls",
      "model_module_version": "2.0.0",
      "model_name": "HTMLModel",
      "state": {
       "_dom_classes": [],
       "_model_module": "@jupyter-widgets/controls",
       "_model_module_version": "2.0.0",
       "_model_name": "HTMLModel",
       "_view_count": null,
       "_view_module": "@jupyter-widgets/controls",
       "_view_module_version": "2.0.0",
       "_view_name": "HTMLView",
       "description": "",
       "description_allow_html": false,
       "layout": "IPY_MODEL_3b28ef3cd0be4d2892712ab5319c7dfa",
       "placeholder": "​",
       "style": "IPY_MODEL_8e9ad83e6fb54b96a0b29c3ec3715322",
       "tabbable": null,
       "tooltip": null,
       "value": " 268M/268M [00:01&lt;00:00, 278MB/s]"
      }
     },
     "5eaf1173b3df4be9823b8ffe6f1f6f91": {
      "model_module": "@jupyter-widgets/base",
      "model_module_version": "2.0.0",
      "model_name": "LayoutModel",
      "state": {
       "_model_module": "@jupyter-widgets/base",
       "_model_module_version": "2.0.0",
       "_model_name": "LayoutModel",
       "_view_count": null,
       "_view_module": "@jupyter-widgets/base",
       "_view_module_version": "2.0.0",
       "_view_name": "LayoutView",
       "align_content": null,
       "align_items": null,
       "align_self": null,
       "border_bottom": null,
       "border_left": null,
       "border_right": null,
       "border_top": null,
       "bottom": null,
       "display": null,
       "flex": null,
       "flex_flow": null,
       "grid_area": null,
       "grid_auto_columns": null,
       "grid_auto_flow": null,
       "grid_auto_rows": null,
       "grid_column": null,
       "grid_gap": null,
       "grid_row": null,
       "grid_template_areas": null,
       "grid_template_columns": null,
       "grid_template_rows": null,
       "height": null,
       "justify_content": null,
       "justify_items": null,
       "left": null,
       "margin": null,
       "max_height": null,
       "max_width": null,
       "min_height": null,
       "min_width": null,
       "object_fit": null,
       "object_position": null,
       "order": null,
       "overflow": null,
       "padding": null,
       "right": null,
       "top": null,
       "visibility": null,
       "width": null
      }
     },
     "622ad43866474247923b240399f3a381": {
      "model_module": "@jupyter-widgets/base",
      "model_module_version": "2.0.0",
      "model_name": "LayoutModel",
      "state": {
       "_model_module": "@jupyter-widgets/base",
       "_model_module_version": "2.0.0",
       "_model_name": "LayoutModel",
       "_view_count": null,
       "_view_module": "@jupyter-widgets/base",
       "_view_module_version": "2.0.0",
       "_view_name": "LayoutView",
       "align_content": null,
       "align_items": null,
       "align_self": null,
       "border_bottom": null,
       "border_left": null,
       "border_right": null,
       "border_top": null,
       "bottom": null,
       "display": null,
       "flex": null,
       "flex_flow": null,
       "grid_area": null,
       "grid_auto_columns": null,
       "grid_auto_flow": null,
       "grid_auto_rows": null,
       "grid_column": null,
       "grid_gap": null,
       "grid_row": null,
       "grid_template_areas": null,
       "grid_template_columns": null,
       "grid_template_rows": null,
       "height": null,
       "justify_content": null,
       "justify_items": null,
       "left": null,
       "margin": null,
       "max_height": null,
       "max_width": null,
       "min_height": null,
       "min_width": null,
       "object_fit": null,
       "object_position": null,
       "order": null,
       "overflow": null,
       "padding": null,
       "right": null,
       "top": null,
       "visibility": null,
       "width": null
      }
     },
     "71d117a978614264a02042bc1431aecc": {
      "model_module": "@jupyter-widgets/controls",
      "model_module_version": "2.0.0",
      "model_name": "HBoxModel",
      "state": {
       "_dom_classes": [],
       "_model_module": "@jupyter-widgets/controls",
       "_model_module_version": "2.0.0",
       "_model_name": "HBoxModel",
       "_view_count": null,
       "_view_module": "@jupyter-widgets/controls",
       "_view_module_version": "2.0.0",
       "_view_name": "HBoxView",
       "box_style": "",
       "children": [
        "IPY_MODEL_3c48f9ca779f4dbeb4818204649e7e3b",
        "IPY_MODEL_af1445ae157b4fb6a5febd9e8e60a0d4",
        "IPY_MODEL_194a924ed1c549b1ac1ef3357206ca79"
       ],
       "layout": "IPY_MODEL_17c25860c3d943c0bf7c0b8815eee70a",
       "tabbable": null,
       "tooltip": null
      }
     },
     "741a38a1f5754b0e9711e86f57eabdca": {
      "model_module": "@jupyter-widgets/base",
      "model_module_version": "2.0.0",
      "model_name": "LayoutModel",
      "state": {
       "_model_module": "@jupyter-widgets/base",
       "_model_module_version": "2.0.0",
       "_model_name": "LayoutModel",
       "_view_count": null,
       "_view_module": "@jupyter-widgets/base",
       "_view_module_version": "2.0.0",
       "_view_name": "LayoutView",
       "align_content": null,
       "align_items": null,
       "align_self": null,
       "border_bottom": null,
       "border_left": null,
       "border_right": null,
       "border_top": null,
       "bottom": null,
       "display": null,
       "flex": null,
       "flex_flow": null,
       "grid_area": null,
       "grid_auto_columns": null,
       "grid_auto_flow": null,
       "grid_auto_rows": null,
       "grid_column": null,
       "grid_gap": null,
       "grid_row": null,
       "grid_template_areas": null,
       "grid_template_columns": null,
       "grid_template_rows": null,
       "height": null,
       "justify_content": null,
       "justify_items": null,
       "left": null,
       "margin": null,
       "max_height": null,
       "max_width": null,
       "min_height": null,
       "min_width": null,
       "object_fit": null,
       "object_position": null,
       "order": null,
       "overflow": null,
       "padding": null,
       "right": null,
       "top": null,
       "visibility": null,
       "width": null
      }
     },
     "75c4f193e6a0428ebc77647d67cdad0d": {
      "model_module": "@jupyter-widgets/controls",
      "model_module_version": "2.0.0",
      "model_name": "HBoxModel",
      "state": {
       "_dom_classes": [],
       "_model_module": "@jupyter-widgets/controls",
       "_model_module_version": "2.0.0",
       "_model_name": "HBoxModel",
       "_view_count": null,
       "_view_module": "@jupyter-widgets/controls",
       "_view_module_version": "2.0.0",
       "_view_name": "HBoxView",
       "box_style": "",
       "children": [
        "IPY_MODEL_81e4ade941914379a2cde095ed4fc66d",
        "IPY_MODEL_7fa68c87685745ba99844fb2830cc87c",
        "IPY_MODEL_7fbe72515cf04143a27f53b95b4ee959"
       ],
       "layout": "IPY_MODEL_be690245c99c414692dfa550e5537983",
       "tabbable": null,
       "tooltip": null
      }
     },
     "7d634f1d3638487f955590b4b5e1049e": {
      "model_module": "@jupyter-widgets/controls",
      "model_module_version": "2.0.0",
      "model_name": "FloatProgressModel",
      "state": {
       "_dom_classes": [],
       "_model_module": "@jupyter-widgets/controls",
       "_model_module_version": "2.0.0",
       "_model_name": "FloatProgressModel",
       "_view_count": null,
       "_view_module": "@jupyter-widgets/controls",
       "_view_module_version": "2.0.0",
       "_view_name": "ProgressView",
       "bar_style": "success",
       "description": "",
       "description_allow_html": false,
       "layout": "IPY_MODEL_e1f76a80d2c24dec8ac923db7c1f3b88",
       "max": 267954768.0,
       "min": 0.0,
       "orientation": "horizontal",
       "style": "IPY_MODEL_35e95046f236476e95c34535325b24aa",
       "tabbable": null,
       "tooltip": null,
       "value": 267954768.0
      }
     },
     "7d8121d90cb246cf8af7750034228c7b": {
      "model_module": "@jupyter-widgets/controls",
      "model_module_version": "2.0.0",
      "model_name": "HTMLStyleModel",
      "state": {
       "_model_module": "@jupyter-widgets/controls",
       "_model_module_version": "2.0.0",
       "_model_name": "HTMLStyleModel",
       "_view_count": null,
       "_view_module": "@jupyter-widgets/base",
       "_view_module_version": "2.0.0",
       "_view_name": "StyleView",
       "background": null,
       "description_width": "",
       "font_size": null,
       "text_color": null
      }
     },
     "7fa68c87685745ba99844fb2830cc87c": {
      "model_module": "@jupyter-widgets/controls",
      "model_module_version": "2.0.0",
      "model_name": "FloatProgressModel",
      "state": {
       "_dom_classes": [],
       "_model_module": "@jupyter-widgets/controls",
       "_model_module_version": "2.0.0",
       "_model_name": "FloatProgressModel",
       "_view_count": null,
       "_view_module": "@jupyter-widgets/controls",
       "_view_module_version": "2.0.0",
       "_view_name": "ProgressView",
       "bar_style": "success",
       "description": "",
       "description_allow_html": false,
       "layout": "IPY_MODEL_05ecbd56642b4ab487e690cb300d59fb",
       "max": 231508.0,
       "min": 0.0,
       "orientation": "horizontal",
       "style": "IPY_MODEL_b0b0b53389174e368305f266c80d853d",
       "tabbable": null,
       "tooltip": null,
       "value": 231508.0
      }
     },
     "7fbe72515cf04143a27f53b95b4ee959": {
      "model_module": "@jupyter-widgets/controls",
      "model_module_version": "2.0.0",
      "model_name": "HTMLModel",
      "state": {
       "_dom_classes": [],
       "_model_module": "@jupyter-widgets/controls",
       "_model_module_version": "2.0.0",
       "_model_name": "HTMLModel",
       "_view_count": null,
       "_view_module": "@jupyter-widgets/controls",
       "_view_module_version": "2.0.0",
       "_view_name": "HTMLView",
       "description": "",
       "description_allow_html": false,
       "layout": "IPY_MODEL_5eaf1173b3df4be9823b8ffe6f1f6f91",
       "placeholder": "​",
       "style": "IPY_MODEL_4ff16b60647947f29a9e0e049aa13528",
       "tabbable": null,
       "tooltip": null,
       "value": " 232k/232k [00:00&lt;00:00, 7.62MB/s]"
      }
     },
     "81e4ade941914379a2cde095ed4fc66d": {
      "model_module": "@jupyter-widgets/controls",
      "model_module_version": "2.0.0",
      "model_name": "HTMLModel",
      "state": {
       "_dom_classes": [],
       "_model_module": "@jupyter-widgets/controls",
       "_model_module_version": "2.0.0",
       "_model_name": "HTMLModel",
       "_view_count": null,
       "_view_module": "@jupyter-widgets/controls",
       "_view_module_version": "2.0.0",
       "_view_name": "HTMLView",
       "description": "",
       "description_allow_html": false,
       "layout": "IPY_MODEL_1c7eb4775ba0425b8a46fb536b41eb40",
       "placeholder": "​",
       "style": "IPY_MODEL_1deb6e79930c4cbeb2d7d2133c3bb67e",
       "tabbable": null,
       "tooltip": null,
       "value": "vocab.txt: 100%"
      }
     },
     "8b360fb3513d4fffb36c3ca430b4fab6": {
      "model_module": "@jupyter-widgets/controls",
      "model_module_version": "2.0.0",
      "model_name": "HTMLStyleModel",
      "state": {
       "_model_module": "@jupyter-widgets/controls",
       "_model_module_version": "2.0.0",
       "_model_name": "HTMLStyleModel",
       "_view_count": null,
       "_view_module": "@jupyter-widgets/base",
       "_view_module_version": "2.0.0",
       "_view_name": "StyleView",
       "background": null,
       "description_width": "",
       "font_size": null,
       "text_color": null
      }
     },
     "8e9ad83e6fb54b96a0b29c3ec3715322": {
      "model_module": "@jupyter-widgets/controls",
      "model_module_version": "2.0.0",
      "model_name": "HTMLStyleModel",
      "state": {
       "_model_module": "@jupyter-widgets/controls",
       "_model_module_version": "2.0.0",
       "_model_name": "HTMLStyleModel",
       "_view_count": null,
       "_view_module": "@jupyter-widgets/base",
       "_view_module_version": "2.0.0",
       "_view_name": "StyleView",
       "background": null,
       "description_width": "",
       "font_size": null,
       "text_color": null
      }
     },
     "952da36e25ad4dc2be67c57c1c49aa08": {
      "model_module": "@jupyter-widgets/controls",
      "model_module_version": "2.0.0",
      "model_name": "HTMLModel",
      "state": {
       "_dom_classes": [],
       "_model_module": "@jupyter-widgets/controls",
       "_model_module_version": "2.0.0",
       "_model_name": "HTMLModel",
       "_view_count": null,
       "_view_module": "@jupyter-widgets/controls",
       "_view_module_version": "2.0.0",
       "_view_name": "HTMLView",
       "description": "",
       "description_allow_html": false,
       "layout": "IPY_MODEL_51b35ee6010b49f28c88c35975d9fb03",
       "placeholder": "​",
       "style": "IPY_MODEL_ded047f6bfa044f39408916f9a308bf1",
       "tabbable": null,
       "tooltip": null,
       "value": "tokenizer_config.json: 100%"
      }
     },
     "9633a28d0cf741d99e7de5924e390433": {
      "model_module": "@jupyter-widgets/base",
      "model_module_version": "2.0.0",
      "model_name": "LayoutModel",
      "state": {
       "_model_module": "@jupyter-widgets/base",
       "_model_module_version": "2.0.0",
       "_model_name": "LayoutModel",
       "_view_count": null,
       "_view_module": "@jupyter-widgets/base",
       "_view_module_version": "2.0.0",
       "_view_name": "LayoutView",
       "align_content": null,
       "align_items": null,
       "align_self": null,
       "border_bottom": null,
       "border_left": null,
       "border_right": null,
       "border_top": null,
       "bottom": null,
       "display": null,
       "flex": null,
       "flex_flow": null,
       "grid_area": null,
       "grid_auto_columns": null,
       "grid_auto_flow": null,
       "grid_auto_rows": null,
       "grid_column": null,
       "grid_gap": null,
       "grid_row": null,
       "grid_template_areas": null,
       "grid_template_columns": null,
       "grid_template_rows": null,
       "height": null,
       "justify_content": null,
       "justify_items": null,
       "left": null,
       "margin": null,
       "max_height": null,
       "max_width": null,
       "min_height": null,
       "min_width": null,
       "object_fit": null,
       "object_position": null,
       "order": null,
       "overflow": null,
       "padding": null,
       "right": null,
       "top": null,
       "visibility": null,
       "width": null
      }
     },
     "9b0ed00356e14475a536c894a6dd670c": {
      "model_module": "@jupyter-widgets/controls",
      "model_module_version": "2.0.0",
      "model_name": "ProgressStyleModel",
      "state": {
       "_model_module": "@jupyter-widgets/controls",
       "_model_module_version": "2.0.0",
       "_model_name": "ProgressStyleModel",
       "_view_count": null,
       "_view_module": "@jupyter-widgets/base",
       "_view_module_version": "2.0.0",
       "_view_name": "StyleView",
       "bar_color": null,
       "description_width": ""
      }
     },
     "9d380e54438143ed974efb1dd7efc899": {
      "model_module": "@jupyter-widgets/controls",
      "model_module_version": "2.0.0",
      "model_name": "HTMLStyleModel",
      "state": {
       "_model_module": "@jupyter-widgets/controls",
       "_model_module_version": "2.0.0",
       "_model_name": "HTMLStyleModel",
       "_view_count": null,
       "_view_module": "@jupyter-widgets/base",
       "_view_module_version": "2.0.0",
       "_view_name": "StyleView",
       "background": null,
       "description_width": "",
       "font_size": null,
       "text_color": null
      }
     },
     "a20161806a144d33953122df8608087c": {
      "model_module": "@jupyter-widgets/controls",
      "model_module_version": "2.0.0",
      "model_name": "HTMLModel",
      "state": {
       "_dom_classes": [],
       "_model_module": "@jupyter-widgets/controls",
       "_model_module_version": "2.0.0",
       "_model_name": "HTMLModel",
       "_view_count": null,
       "_view_module": "@jupyter-widgets/controls",
       "_view_module_version": "2.0.0",
       "_view_name": "HTMLView",
       "description": "",
       "description_allow_html": false,
       "layout": "IPY_MODEL_1a239f47854a460ebc6f55fbebdeeac1",
       "placeholder": "​",
       "style": "IPY_MODEL_a6396fb85fba449fa558f829e912ceb7",
       "tabbable": null,
       "tooltip": null,
       "value": " 48.0/48.0 [00:00&lt;00:00, 4.29kB/s]"
      }
     },
     "a48fa257ff0440ca838e4df7bdbd24b1": {
      "model_module": "@jupyter-widgets/controls",
      "model_module_version": "2.0.0",
      "model_name": "FloatProgressModel",
      "state": {
       "_dom_classes": [],
       "_model_module": "@jupyter-widgets/controls",
       "_model_module_version": "2.0.0",
       "_model_name": "FloatProgressModel",
       "_view_count": null,
       "_view_module": "@jupyter-widgets/controls",
       "_view_module_version": "2.0.0",
       "_view_name": "ProgressView",
       "bar_style": "success",
       "description": "",
       "description_allow_html": false,
       "layout": "IPY_MODEL_a9290513be5f49f09b70cd70c8db8bbf",
       "max": 48.0,
       "min": 0.0,
       "orientation": "horizontal",
       "style": "IPY_MODEL_9b0ed00356e14475a536c894a6dd670c",
       "tabbable": null,
       "tooltip": null,
       "value": 48.0
      }
     },
     "a53065d56cfa46cbb218275ceab1d073": {
      "model_module": "@jupyter-widgets/controls",
      "model_module_version": "2.0.0",
      "model_name": "ProgressStyleModel",
      "state": {
       "_model_module": "@jupyter-widgets/controls",
       "_model_module_version": "2.0.0",
       "_model_name": "ProgressStyleModel",
       "_view_count": null,
       "_view_module": "@jupyter-widgets/base",
       "_view_module_version": "2.0.0",
       "_view_name": "StyleView",
       "bar_color": null,
       "description_width": ""
      }
     },
     "a6396fb85fba449fa558f829e912ceb7": {
      "model_module": "@jupyter-widgets/controls",
      "model_module_version": "2.0.0",
      "model_name": "HTMLStyleModel",
      "state": {
       "_model_module": "@jupyter-widgets/controls",
       "_model_module_version": "2.0.0",
       "_model_name": "HTMLStyleModel",
       "_view_count": null,
       "_view_module": "@jupyter-widgets/base",
       "_view_module_version": "2.0.0",
       "_view_name": "StyleView",
       "background": null,
       "description_width": "",
       "font_size": null,
       "text_color": null
      }
     },
     "a70d260a6d1348cc825439e235110d9d": {
      "model_module": "@jupyter-widgets/controls",
      "model_module_version": "2.0.0",
      "model_name": "HTMLModel",
      "state": {
       "_dom_classes": [],
       "_model_module": "@jupyter-widgets/controls",
       "_model_module_version": "2.0.0",
       "_model_name": "HTMLModel",
       "_view_count": null,
       "_view_module": "@jupyter-widgets/controls",
       "_view_module_version": "2.0.0",
       "_view_name": "HTMLView",
       "description": "",
       "description_allow_html": false,
       "layout": "IPY_MODEL_095558c892fa4239978d8fe390722728",
       "placeholder": "​",
       "style": "IPY_MODEL_1d720e9e3ee94b5faf6dcd7341f48ff3",
       "tabbable": null,
       "tooltip": null,
       "value": "tokenizer.json: 100%"
      }
     },
     "a9290513be5f49f09b70cd70c8db8bbf": {
      "model_module": "@jupyter-widgets/base",
      "model_module_version": "2.0.0",
      "model_name": "LayoutModel",
      "state": {
       "_model_module": "@jupyter-widgets/base",
       "_model_module_version": "2.0.0",
       "_model_name": "LayoutModel",
       "_view_count": null,
       "_view_module": "@jupyter-widgets/base",
       "_view_module_version": "2.0.0",
       "_view_name": "LayoutView",
       "align_content": null,
       "align_items": null,
       "align_self": null,
       "border_bottom": null,
       "border_left": null,
       "border_right": null,
       "border_top": null,
       "bottom": null,
       "display": null,
       "flex": null,
       "flex_flow": null,
       "grid_area": null,
       "grid_auto_columns": null,
       "grid_auto_flow": null,
       "grid_auto_rows": null,
       "grid_column": null,
       "grid_gap": null,
       "grid_row": null,
       "grid_template_areas": null,
       "grid_template_columns": null,
       "grid_template_rows": null,
       "height": null,
       "justify_content": null,
       "justify_items": null,
       "left": null,
       "margin": null,
       "max_height": null,
       "max_width": null,
       "min_height": null,
       "min_width": null,
       "object_fit": null,
       "object_position": null,
       "order": null,
       "overflow": null,
       "padding": null,
       "right": null,
       "top": null,
       "visibility": null,
       "width": null
      }
     },
     "af1445ae157b4fb6a5febd9e8e60a0d4": {
      "model_module": "@jupyter-widgets/controls",
      "model_module_version": "2.0.0",
      "model_name": "FloatProgressModel",
      "state": {
       "_dom_classes": [],
       "_model_module": "@jupyter-widgets/controls",
       "_model_module_version": "2.0.0",
       "_model_name": "FloatProgressModel",
       "_view_count": null,
       "_view_module": "@jupyter-widgets/controls",
       "_view_module_version": "2.0.0",
       "_view_name": "ProgressView",
       "bar_style": "success",
       "description": "",
       "description_allow_html": false,
       "layout": "IPY_MODEL_d32416e36f5542fb95d9dddeb2258705",
       "max": 483.0,
       "min": 0.0,
       "orientation": "horizontal",
       "style": "IPY_MODEL_d0226acd828543c78210dbaea05def52",
       "tabbable": null,
       "tooltip": null,
       "value": 483.0
      }
     },
     "b0b0b53389174e368305f266c80d853d": {
      "model_module": "@jupyter-widgets/controls",
      "model_module_version": "2.0.0",
      "model_name": "ProgressStyleModel",
      "state": {
       "_model_module": "@jupyter-widgets/controls",
       "_model_module_version": "2.0.0",
       "_model_name": "ProgressStyleModel",
       "_view_count": null,
       "_view_module": "@jupyter-widgets/base",
       "_view_module_version": "2.0.0",
       "_view_name": "StyleView",
       "bar_color": null,
       "description_width": ""
      }
     },
     "b2638256ab734912b8204fd3cbb16ec3": {
      "model_module": "@jupyter-widgets/base",
      "model_module_version": "2.0.0",
      "model_name": "LayoutModel",
      "state": {
       "_model_module": "@jupyter-widgets/base",
       "_model_module_version": "2.0.0",
       "_model_name": "LayoutModel",
       "_view_count": null,
       "_view_module": "@jupyter-widgets/base",
       "_view_module_version": "2.0.0",
       "_view_name": "LayoutView",
       "align_content": null,
       "align_items": null,
       "align_self": null,
       "border_bottom": null,
       "border_left": null,
       "border_right": null,
       "border_top": null,
       "bottom": null,
       "display": null,
       "flex": null,
       "flex_flow": null,
       "grid_area": null,
       "grid_auto_columns": null,
       "grid_auto_flow": null,
       "grid_auto_rows": null,
       "grid_column": null,
       "grid_gap": null,
       "grid_row": null,
       "grid_template_areas": null,
       "grid_template_columns": null,
       "grid_template_rows": null,
       "height": null,
       "justify_content": null,
       "justify_items": null,
       "left": null,
       "margin": null,
       "max_height": null,
       "max_width": null,
       "min_height": null,
       "min_width": null,
       "object_fit": null,
       "object_position": null,
       "order": null,
       "overflow": null,
       "padding": null,
       "right": null,
       "top": null,
       "visibility": null,
       "width": null
      }
     },
     "b77a28f672374d4d85e7f5bdffbd6693": {
      "model_module": "@jupyter-widgets/controls",
      "model_module_version": "2.0.0",
      "model_name": "HBoxModel",
      "state": {
       "_dom_classes": [],
       "_model_module": "@jupyter-widgets/controls",
       "_model_module_version": "2.0.0",
       "_model_name": "HBoxModel",
       "_view_count": null,
       "_view_module": "@jupyter-widgets/controls",
       "_view_module_version": "2.0.0",
       "_view_name": "HBoxView",
       "box_style": "",
       "children": [
        "IPY_MODEL_a70d260a6d1348cc825439e235110d9d",
        "IPY_MODEL_25d792d33d3847b4899720d6cdaa7eef",
        "IPY_MODEL_48a90296dabf42d6a5770a38862d0b7e"
       ],
       "layout": "IPY_MODEL_0b11bd62daad44c290429985992e4156",
       "tabbable": null,
       "tooltip": null
      }
     },
     "bde35e2bd67241bd9509cf203d51c068": {
      "model_module": "@jupyter-widgets/controls",
      "model_module_version": "2.0.0",
      "model_name": "HBoxModel",
      "state": {
       "_dom_classes": [],
       "_model_module": "@jupyter-widgets/controls",
       "_model_module_version": "2.0.0",
       "_model_name": "HBoxModel",
       "_view_count": null,
       "_view_module": "@jupyter-widgets/controls",
       "_view_module_version": "2.0.0",
       "_view_name": "HBoxView",
       "box_style": "",
       "children": [
        "IPY_MODEL_952da36e25ad4dc2be67c57c1c49aa08",
        "IPY_MODEL_a48fa257ff0440ca838e4df7bdbd24b1",
        "IPY_MODEL_a20161806a144d33953122df8608087c"
       ],
       "layout": "IPY_MODEL_045fa2add0434fff8f02955df2c8c81c",
       "tabbable": null,
       "tooltip": null
      }
     },
     "be690245c99c414692dfa550e5537983": {
      "model_module": "@jupyter-widgets/base",
      "model_module_version": "2.0.0",
      "model_name": "LayoutModel",
      "state": {
       "_model_module": "@jupyter-widgets/base",
       "_model_module_version": "2.0.0",
       "_model_name": "LayoutModel",
       "_view_count": null,
       "_view_module": "@jupyter-widgets/base",
       "_view_module_version": "2.0.0",
       "_view_name": "LayoutView",
       "align_content": null,
       "align_items": null,
       "align_self": null,
       "border_bottom": null,
       "border_left": null,
       "border_right": null,
       "border_top": null,
       "bottom": null,
       "display": null,
       "flex": null,
       "flex_flow": null,
       "grid_area": null,
       "grid_auto_columns": null,
       "grid_auto_flow": null,
       "grid_auto_rows": null,
       "grid_column": null,
       "grid_gap": null,
       "grid_row": null,
       "grid_template_areas": null,
       "grid_template_columns": null,
       "grid_template_rows": null,
       "height": null,
       "justify_content": null,
       "justify_items": null,
       "left": null,
       "margin": null,
       "max_height": null,
       "max_width": null,
       "min_height": null,
       "min_width": null,
       "object_fit": null,
       "object_position": null,
       "order": null,
       "overflow": null,
       "padding": null,
       "right": null,
       "top": null,
       "visibility": null,
       "width": null
      }
     },
     "d0226acd828543c78210dbaea05def52": {
      "model_module": "@jupyter-widgets/controls",
      "model_module_version": "2.0.0",
      "model_name": "ProgressStyleModel",
      "state": {
       "_model_module": "@jupyter-widgets/controls",
       "_model_module_version": "2.0.0",
       "_model_name": "ProgressStyleModel",
       "_view_count": null,
       "_view_module": "@jupyter-widgets/base",
       "_view_module_version": "2.0.0",
       "_view_name": "StyleView",
       "bar_color": null,
       "description_width": ""
      }
     },
     "d32416e36f5542fb95d9dddeb2258705": {
      "model_module": "@jupyter-widgets/base",
      "model_module_version": "2.0.0",
      "model_name": "LayoutModel",
      "state": {
       "_model_module": "@jupyter-widgets/base",
       "_model_module_version": "2.0.0",
       "_model_name": "LayoutModel",
       "_view_count": null,
       "_view_module": "@jupyter-widgets/base",
       "_view_module_version": "2.0.0",
       "_view_name": "LayoutView",
       "align_content": null,
       "align_items": null,
       "align_self": null,
       "border_bottom": null,
       "border_left": null,
       "border_right": null,
       "border_top": null,
       "bottom": null,
       "display": null,
       "flex": null,
       "flex_flow": null,
       "grid_area": null,
       "grid_auto_columns": null,
       "grid_auto_flow": null,
       "grid_auto_rows": null,
       "grid_column": null,
       "grid_gap": null,
       "grid_row": null,
       "grid_template_areas": null,
       "grid_template_columns": null,
       "grid_template_rows": null,
       "height": null,
       "justify_content": null,
       "justify_items": null,
       "left": null,
       "margin": null,
       "max_height": null,
       "max_width": null,
       "min_height": null,
       "min_width": null,
       "object_fit": null,
       "object_position": null,
       "order": null,
       "overflow": null,
       "padding": null,
       "right": null,
       "top": null,
       "visibility": null,
       "width": null
      }
     },
     "ded047f6bfa044f39408916f9a308bf1": {
      "model_module": "@jupyter-widgets/controls",
      "model_module_version": "2.0.0",
      "model_name": "HTMLStyleModel",
      "state": {
       "_model_module": "@jupyter-widgets/controls",
       "_model_module_version": "2.0.0",
       "_model_name": "HTMLStyleModel",
       "_view_count": null,
       "_view_module": "@jupyter-widgets/base",
       "_view_module_version": "2.0.0",
       "_view_name": "StyleView",
       "background": null,
       "description_width": "",
       "font_size": null,
       "text_color": null
      }
     },
     "e1f76a80d2c24dec8ac923db7c1f3b88": {
      "model_module": "@jupyter-widgets/base",
      "model_module_version": "2.0.0",
      "model_name": "LayoutModel",
      "state": {
       "_model_module": "@jupyter-widgets/base",
       "_model_module_version": "2.0.0",
       "_model_name": "LayoutModel",
       "_view_count": null,
       "_view_module": "@jupyter-widgets/base",
       "_view_module_version": "2.0.0",
       "_view_name": "LayoutView",
       "align_content": null,
       "align_items": null,
       "align_self": null,
       "border_bottom": null,
       "border_left": null,
       "border_right": null,
       "border_top": null,
       "bottom": null,
       "display": null,
       "flex": null,
       "flex_flow": null,
       "grid_area": null,
       "grid_auto_columns": null,
       "grid_auto_flow": null,
       "grid_auto_rows": null,
       "grid_column": null,
       "grid_gap": null,
       "grid_row": null,
       "grid_template_areas": null,
       "grid_template_columns": null,
       "grid_template_rows": null,
       "height": null,
       "justify_content": null,
       "justify_items": null,
       "left": null,
       "margin": null,
       "max_height": null,
       "max_width": null,
       "min_height": null,
       "min_width": null,
       "object_fit": null,
       "object_position": null,
       "order": null,
       "overflow": null,
       "padding": null,
       "right": null,
       "top": null,
       "visibility": null,
       "width": null
      }
     },
     "fb76daba1e684dad80ca474eb6d80939": {
      "model_module": "@jupyter-widgets/controls",
      "model_module_version": "2.0.0",
      "model_name": "HTMLModel",
      "state": {
       "_dom_classes": [],
       "_model_module": "@jupyter-widgets/controls",
       "_model_module_version": "2.0.0",
       "_model_name": "HTMLModel",
       "_view_count": null,
       "_view_module": "@jupyter-widgets/controls",
       "_view_module_version": "2.0.0",
       "_view_name": "HTMLView",
       "description": "",
       "description_allow_html": false,
       "layout": "IPY_MODEL_741a38a1f5754b0e9711e86f57eabdca",
       "placeholder": "​",
       "style": "IPY_MODEL_48353ca7033b4b74898c9ae069ec0c1f",
       "tabbable": null,
       "tooltip": null,
       "value": "model.safetensors: 100%"
      }
     }
    },
    "version_major": 2,
    "version_minor": 0
   }
  }
 },
 "nbformat": 4,
 "nbformat_minor": 5
}
