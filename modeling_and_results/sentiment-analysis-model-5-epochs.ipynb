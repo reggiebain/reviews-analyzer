{
 "cells": [
  {
   "cell_type": "markdown",
   "id": "b74cbf98",
   "metadata": {
    "papermill": {
     "duration": 0.005316,
     "end_time": "2025-04-16T16:35:27.491205",
     "exception": false,
     "start_time": "2025-04-16T16:35:27.485889",
     "status": "completed"
    },
    "tags": []
   },
   "source": [
    "# Sentiment Analyzer - Modeling\n",
    "- Load in created features as well as original reviews and review meta data\n",
    "- Build from-scratch model with multi class logistic regression, random forest, etc\n",
    "- Compare results with state-of-the art pre-trained neural net like Distilhubert\n",
    "- Target - Correctly predict sentiment of course reviews"
   ]
  },
  {
   "cell_type": "markdown",
   "id": "32af6521",
   "metadata": {
    "papermill": {
     "duration": 0.004435,
     "end_time": "2025-04-16T16:35:27.500406",
     "exception": false,
     "start_time": "2025-04-16T16:35:27.495971",
     "status": "completed"
    },
    "tags": []
   },
   "source": [
    "## Imports and Data Prep"
   ]
  },
  {
   "cell_type": "code",
   "execution_count": 1,
   "id": "66911887",
   "metadata": {
    "execution": {
     "iopub.execute_input": "2025-04-16T16:35:27.510434Z",
     "iopub.status.busy": "2025-04-16T16:35:27.510059Z",
     "iopub.status.idle": "2025-04-16T16:35:34.314705Z",
     "shell.execute_reply": "2025-04-16T16:35:34.313707Z"
    },
    "papermill": {
     "duration": 6.811574,
     "end_time": "2025-04-16T16:35:34.316455",
     "exception": false,
     "start_time": "2025-04-16T16:35:27.504881",
     "status": "completed"
    },
    "tags": []
   },
   "outputs": [
    {
     "name": "stdout",
     "output_type": "stream",
     "text": [
      "\u001b[2K     \u001b[90m━━━━━━━━━━━━━━━━━━━━━━━━━━━━━━━━━━━━━━━━\u001b[0m \u001b[32m981.5/981.5 kB\u001b[0m \u001b[31m11.9 MB/s\u001b[0m eta \u001b[36m0:00:00\u001b[0m\r\n",
      "\u001b[?25h  Preparing metadata (setup.py) ... \u001b[?25l\u001b[?25hdone\r\n",
      "  Building wheel for langdetect (setup.py) ... \u001b[?25l\u001b[?25hdone\r\n"
     ]
    }
   ],
   "source": [
    "!pip install -q langdetect transformers xgboost"
   ]
  },
  {
   "cell_type": "code",
   "execution_count": 2,
   "id": "3a51709a",
   "metadata": {
    "execution": {
     "iopub.execute_input": "2025-04-16T16:35:34.327974Z",
     "iopub.status.busy": "2025-04-16T16:35:34.327713Z",
     "iopub.status.idle": "2025-04-16T16:35:56.713894Z",
     "shell.execute_reply": "2025-04-16T16:35:56.713207Z"
    },
    "papermill": {
     "duration": 22.393513,
     "end_time": "2025-04-16T16:35:56.715440",
     "exception": false,
     "start_time": "2025-04-16T16:35:34.321927",
     "status": "completed"
    },
    "tags": []
   },
   "outputs": [],
   "source": [
    "import pickle\n",
    "import pandas as pd\n",
    "import numpy as np\n",
    "from collections import Counter, defaultdict\n",
    "import math\n",
    "import re\n",
    "import itertools\n",
    "from langdetect import detect\n",
    "import warnings\n",
    "from tqdm import tqdm\n",
    "import torch\n",
    "from transformers import XLMRobertaTokenizer, XLMRobertaModel\n",
    "from sklearn.metrics.pairwise import cosine_similarity\n",
    "import os\n",
    "import matplotlib.pyplot as plt\n",
    "import seaborn as sns"
   ]
  },
  {
   "cell_type": "markdown",
   "id": "50b3ce33",
   "metadata": {
    "papermill": {
     "duration": 0.004725,
     "end_time": "2025-04-16T16:35:56.725555",
     "exception": false,
     "start_time": "2025-04-16T16:35:56.720830",
     "status": "completed"
    },
    "tags": []
   },
   "source": [
    "### Import Coursera Data Set w/ Sentiment Features\n",
    "- Has been filtered for gibberish\n",
    "- Prep the data for predicting sentiment and summarizing\n",
    "- Compare against transformers\n",
    "- **NOTE:** For now, we'll limit to english words, as the transformer models that handle multiple languages have to be fine tuned for sentiment and very computationally intensive to fine-tune/run/download."
   ]
  },
  {
   "cell_type": "code",
   "execution_count": 3,
   "id": "84fa5448",
   "metadata": {
    "execution": {
     "iopub.execute_input": "2025-04-16T16:35:56.736019Z",
     "iopub.status.busy": "2025-04-16T16:35:56.735609Z",
     "iopub.status.idle": "2025-04-16T16:35:57.647465Z",
     "shell.execute_reply": "2025-04-16T16:35:57.646497Z"
    },
    "papermill": {
     "duration": 0.918852,
     "end_time": "2025-04-16T16:35:57.649138",
     "exception": false,
     "start_time": "2025-04-16T16:35:56.730286",
     "status": "completed"
    },
    "tags": []
   },
   "outputs": [],
   "source": [
    "train_df = pd.read_pickle('/kaggle/input/reviews-analyzer-dataset/clean_sentiment_data/sentiment_train_clean.pkl')\n",
    "val_df = pd.read_pickle('/kaggle/input/reviews-analyzer-dataset/clean_sentiment_data/sentiment_val_clean.pkl')\n",
    "test_df = pd.read_pickle('/kaggle/input/reviews-analyzer-dataset/clean_sentiment_data/sentiment_test_clean.pkl')"
   ]
  },
  {
   "cell_type": "markdown",
   "id": "77cde09a",
   "metadata": {
    "papermill": {
     "duration": 0.004658,
     "end_time": "2025-04-16T16:35:57.659130",
     "exception": false,
     "start_time": "2025-04-16T16:35:57.654472",
     "status": "completed"
    },
    "tags": []
   },
   "source": [
    "- **Sample Size:** When using the transformers, we need to use a fraction of the entries to avoid super long training times and overloading memory. Sample size still will be on the order 10^4 so should be fine.\n",
    "- **Languages:** Up to this point our analysis has been multi-language, but with fine tuning tranformer models, xlm-roberta-base is so large it presented issues with training. Additionally, many of the transformer models fine tuned for sentiment analysis (so we could get an out of the box comparison) didn't have many of the languages we needed. English will suffice for now. Additionaly, when sampling, VERY few of the entries are non english anyway."
   ]
  },
  {
   "cell_type": "code",
   "execution_count": 4,
   "id": "360c76e7",
   "metadata": {
    "execution": {
     "iopub.execute_input": "2025-04-16T16:35:57.669715Z",
     "iopub.status.busy": "2025-04-16T16:35:57.669449Z",
     "iopub.status.idle": "2025-04-16T16:35:57.689169Z",
     "shell.execute_reply": "2025-04-16T16:35:57.688427Z"
    },
    "papermill": {
     "duration": 0.026253,
     "end_time": "2025-04-16T16:35:57.690431",
     "exception": false,
     "start_time": "2025-04-16T16:35:57.664178",
     "status": "completed"
    },
    "tags": []
   },
   "outputs": [
    {
     "name": "stdout",
     "output_type": "stream",
     "text": [
      "The first three weeks are good, a lot of good content, but he (despite trying) has trouble fitting all the methodologies together in one single framework that is actionable. 4th week is an absolute waste of time.Ideally, to improve the course, the author should give a concise overall picture, concatenating ideas, connecting them with a timeline of the PM's role throughout the product's life cycle/challenges.It seems to me that the course lacks an overarching view of the whole process. At the same time, the author goes through all the views, methodologies, and prisms of what it is to be a PM, he does not make those views compatible, which makes the course lack pragmatism, despite being a good introduction.\n"
     ]
    }
   ],
   "source": [
    "print(train_df[train_df['sentiment'] == 1].review.iloc[0])"
   ]
  },
  {
   "cell_type": "code",
   "execution_count": 5,
   "id": "b95dd2f5",
   "metadata": {
    "execution": {
     "iopub.execute_input": "2025-04-16T16:35:57.701137Z",
     "iopub.status.busy": "2025-04-16T16:35:57.700891Z",
     "iopub.status.idle": "2025-04-16T16:35:57.794990Z",
     "shell.execute_reply": "2025-04-16T16:35:57.794061Z"
    },
    "papermill": {
     "duration": 0.100969,
     "end_time": "2025-04-16T16:35:57.796311",
     "exception": false,
     "start_time": "2025-04-16T16:35:57.695342",
     "status": "completed"
    },
    "tags": []
   },
   "outputs": [
    {
     "data": {
      "text/plain": [
       "\"\\n# Create balanced set for training\\nmin_count = train_df['sentiment'].value_counts().min()\\n# Sample min_count rows from each class\\ntrain_df = (\\n    train_df.groupby('sentiment')\\n    .sample(n=min_count, random_state=42)  # random_state for reproducibility\\n    .reset_index(drop=True)\\n)\\n# Create balanced set for training\\nmin_count = val_df['sentiment'].value_counts().min()\\n# Sample min_count rows from each class\\nval_df = (\\n    val_df.groupby('sentiment')\\n    .sample(n=min_count, random_state=42)  # random_state for reproducibility\\n    .reset_index(drop=True)\\n)\\n# Create balanced set for training\\nmin_count = test_df['sentiment'].value_counts().min()\\n# Sample min_count rows from each class\\ntest_df = (\\n    test_df.groupby('sentiment')\\n    .sample(n=min_count, random_state=42)  # random_state for reproducibility\\n    .reset_index(drop=True)\\n)\\n\""
      ]
     },
     "execution_count": 5,
     "metadata": {},
     "output_type": "execute_result"
    }
   ],
   "source": [
    "#train_df = train_df.sample(frac=0.50)\n",
    "#val_df = val_df.sample(frac=0.50)\n",
    "#test_df = test_df.sample(frac=0.50)\n",
    "\n",
    "# Keep only positive and negative, toss neutral\n",
    "#train_df = train_df[train_df['sentiment'] != 1]\n",
    "#val_df = val_df[val_df['sentiment'] != 1]\n",
    "#test_df = test_df[test_df['sentiment'] != 1]\n",
    "\n",
    "# Try re labeling neutral as negative\n",
    "train_df['sentiment'] = (train_df['sentiment'] == 2).astype(int)\n",
    "val_df['sentiment'] = (val_df['sentiment'] == 2).astype(int)\n",
    "test_df['sentiment'] = (test_df['sentiment'] == 2).astype(int)\n",
    "\n",
    "# Filter only english for now\n",
    "train_df = train_df[train_df['language'] == 'en']\n",
    "val_df = val_df[val_df['language'] == 'en']\n",
    "test_df = test_df[test_df['language'] == 'en']\n",
    "\n",
    "# Get ratio of classes for XGBoost later\n",
    "scale_pos_weight = train_df.sentiment.value_counts().values[1]/train_df.sentiment.value_counts().values[0]\n",
    "'''\n",
    "# Create balanced set for training\n",
    "min_count = train_df['sentiment'].value_counts().min()\n",
    "# Sample min_count rows from each class\n",
    "train_df = (\n",
    "    train_df.groupby('sentiment')\n",
    "    .sample(n=min_count, random_state=42)  # random_state for reproducibility\n",
    "    .reset_index(drop=True)\n",
    ")\n",
    "# Create balanced set for training\n",
    "min_count = val_df['sentiment'].value_counts().min()\n",
    "# Sample min_count rows from each class\n",
    "val_df = (\n",
    "    val_df.groupby('sentiment')\n",
    "    .sample(n=min_count, random_state=42)  # random_state for reproducibility\n",
    "    .reset_index(drop=True)\n",
    ")\n",
    "# Create balanced set for training\n",
    "min_count = test_df['sentiment'].value_counts().min()\n",
    "# Sample min_count rows from each class\n",
    "test_df = (\n",
    "    test_df.groupby('sentiment')\n",
    "    .sample(n=min_count, random_state=42)  # random_state for reproducibility\n",
    "    .reset_index(drop=True)\n",
    ")\n",
    "'''"
   ]
  },
  {
   "cell_type": "markdown",
   "id": "b0ae2980",
   "metadata": {
    "papermill": {
     "duration": 0.004869,
     "end_time": "2025-04-16T16:35:57.806532",
     "exception": false,
     "start_time": "2025-04-16T16:35:57.801663",
     "status": "completed"
    },
    "tags": []
   },
   "source": [
    "Note that sentiment has 3 values: 0, 1, and 2 with 0 being overtly negative, 1 being roughly neutral, and 2 being positive."
   ]
  },
  {
   "cell_type": "code",
   "execution_count": 6,
   "id": "9d036fc2",
   "metadata": {
    "execution": {
     "iopub.execute_input": "2025-04-16T16:35:57.817172Z",
     "iopub.status.busy": "2025-04-16T16:35:57.816882Z",
     "iopub.status.idle": "2025-04-16T16:35:57.823258Z",
     "shell.execute_reply": "2025-04-16T16:35:57.822326Z"
    },
    "papermill": {
     "duration": 0.013115,
     "end_time": "2025-04-16T16:35:57.824581",
     "exception": false,
     "start_time": "2025-04-16T16:35:57.811466",
     "status": "completed"
    },
    "tags": []
   },
   "outputs": [
    {
     "name": "stdout",
     "output_type": "stream",
     "text": [
      "sentiment\n",
      "1    223414\n",
      "0     14679\n",
      "Name: count, dtype: int64\n"
     ]
    }
   ],
   "source": [
    "print(train_df.sentiment.value_counts())"
   ]
  },
  {
   "cell_type": "markdown",
   "id": "d8287e98",
   "metadata": {
    "papermill": {
     "duration": 0.00499,
     "end_time": "2025-04-16T16:35:57.834643",
     "exception": false,
     "start_time": "2025-04-16T16:35:57.829653",
     "status": "completed"
    },
    "tags": []
   },
   "source": [
    "### Load in Coursera Data w/ Features"
   ]
  },
  {
   "cell_type": "code",
   "execution_count": 7,
   "id": "f1db4bc0",
   "metadata": {
    "execution": {
     "iopub.execute_input": "2025-04-16T16:35:57.845109Z",
     "iopub.status.busy": "2025-04-16T16:35:57.844859Z",
     "iopub.status.idle": "2025-04-16T16:35:57.876870Z",
     "shell.execute_reply": "2025-04-16T16:35:57.875926Z"
    },
    "papermill": {
     "duration": 0.038955,
     "end_time": "2025-04-16T16:35:57.878460",
     "exception": false,
     "start_time": "2025-04-16T16:35:57.839505",
     "status": "completed"
    },
    "tags": []
   },
   "outputs": [],
   "source": [
    "y_train = train_df['sentiment']\n",
    "X_train = train_df.drop(columns=['sentiment'])\n",
    "\n",
    "y_val = val_df['sentiment']\n",
    "X_val = val_df.drop(columns=['sentiment'])\n",
    "\n",
    "y_test = test_df['sentiment']\n",
    "X_test = test_df.drop(columns=['sentiment'])"
   ]
  },
  {
   "cell_type": "markdown",
   "id": "fec8a854",
   "metadata": {
    "papermill": {
     "duration": 0.004994,
     "end_time": "2025-04-16T16:35:57.888878",
     "exception": false,
     "start_time": "2025-04-16T16:35:57.883884",
     "status": "completed"
    },
    "tags": []
   },
   "source": [
    "#### Features summary\n",
    "- **Text Sentiment Indicators:** 'pos_word_count', 'neg_word_count', 'negated_pos_count', 'negated_neg_count' → Directly indicate sentiment\n",
    "- **Polarity & Emotion Indicators:** 'polarity_score' → Strong single-value sentiment measure,'exclamation_count', 'uppercase_ratio' → Help capture enthusiasm or intensity\n",
    "\n",
    "- **Text Complexity & Structure:** 'word_count', 'n_chars', 'avg_word_length' → Longer reviews tend to be more meaningful, 'max_repeated', 'punct_ratio' → Helps detect exaggeration/emphasis\n",
    "\n",
    "- **Semantic & Statistical Features:** 'cosine_to_centroid' → Measures how much a review differs from a \"typical\" review, 'anomaly_score' → May help identify extreme sentiment outliers"
   ]
  },
  {
   "cell_type": "code",
   "execution_count": 8,
   "id": "a9effe7b",
   "metadata": {
    "execution": {
     "iopub.execute_input": "2025-04-16T16:35:57.899794Z",
     "iopub.status.busy": "2025-04-16T16:35:57.899507Z",
     "iopub.status.idle": "2025-04-16T16:35:57.920132Z",
     "shell.execute_reply": "2025-04-16T16:35:57.919183Z"
    },
    "papermill": {
     "duration": 0.027809,
     "end_time": "2025-04-16T16:35:57.921663",
     "exception": false,
     "start_time": "2025-04-16T16:35:57.893854",
     "status": "completed"
    },
    "tags": []
   },
   "outputs": [],
   "source": [
    "sentiment_features = ['pos_word_count', 'neg_word_count', 'polarity_score', \n",
    "                      'exclamation_count','word_count', 'n_chars', 'avg_word_length',\n",
    "                      'max_repeated','punct_ratio', 'cosine_to_centroid','anomaly_score']\n",
    "X_train = X_train[sentiment_features]\n",
    "X_val = X_val[sentiment_features]\n",
    "X_test = X_test[sentiment_features]"
   ]
  },
  {
   "cell_type": "markdown",
   "id": "5182f975",
   "metadata": {
    "papermill": {
     "duration": 0.005088,
     "end_time": "2025-04-16T16:35:57.931912",
     "exception": false,
     "start_time": "2025-04-16T16:35:57.926824",
     "status": "completed"
    },
    "tags": []
   },
   "source": [
    "### Sentiment Feature Selection"
   ]
  },
  {
   "cell_type": "code",
   "execution_count": 9,
   "id": "39a0ec85",
   "metadata": {
    "execution": {
     "iopub.execute_input": "2025-04-16T16:35:57.942457Z",
     "iopub.status.busy": "2025-04-16T16:35:57.942166Z",
     "iopub.status.idle": "2025-04-16T16:36:04.933886Z",
     "shell.execute_reply": "2025-04-16T16:36:04.933082Z"
    },
    "papermill": {
     "duration": 6.998495,
     "end_time": "2025-04-16T16:36:04.935197",
     "exception": false,
     "start_time": "2025-04-16T16:35:57.936702",
     "status": "completed"
    },
    "tags": []
   },
   "outputs": [
    {
     "name": "stdout",
     "output_type": "stream",
     "text": [
      "Feature Importance (All Features):\n",
      "|    | Feature            |   Importance |\n",
      "|---:|:-------------------|-------------:|\n",
      "|  2 | polarity_score     |   0.512356   |\n",
      "|  1 | neg_word_count     |   0.222868   |\n",
      "|  0 | pos_word_count     |   0.111899   |\n",
      "|  4 | word_count         |   0.0539062  |\n",
      "|  5 | n_chars            |   0.0410727  |\n",
      "|  3 | exclamation_count  |   0.0221338  |\n",
      "| 10 | anomaly_score      |   0.0120341  |\n",
      "|  9 | cosine_to_centroid |   0.00857156 |\n",
      "|  6 | avg_word_length    |   0.00811492 |\n",
      "|  7 | max_repeated       |   0.00425447 |\n",
      "|  8 | punct_ratio        |   0.00278983 |\n"
     ]
    },
    {
     "data": {
      "image/png": "[encoded data removed]",
      "text/plain": [
       "<Figure size 1000x600 with 1 Axes>"
      ]
     },
     "metadata": {},
     "output_type": "display_data"
    }
   ],
   "source": [
    "from sklearn.ensemble import RandomForestClassifier, GradientBoostingClassifier\n",
    "\n",
    "rf_sentiment_model = RandomForestClassifier(max_depth= 5, n_estimators= 50)\n",
    "rf_sentiment_model.fit(X_train, y_train)\n",
    "\n",
    "# Feature importance\n",
    "importances = pd.DataFrame({\n",
    "    'Feature': X_train.columns,\n",
    "    'Importance': rf_sentiment_model.feature_importances_\n",
    "}).sort_values(by='Importance', ascending=False)\n",
    "print(\"Feature Importance (All Features):\")\n",
    "print(importances.to_markdown())\n",
    "\n",
    "# Plot\n",
    "plt.figure(figsize=(10, 6))\n",
    "sns.barplot(x='Importance', y='Feature', data=importances)\n",
    "plt.title('Random Forest Feature Importance')\n",
    "plt.savefig('sentiment_rf_feature_importance.png')\n",
    "plt.tight_layout()\n",
    "plt.show()"
   ]
  },
  {
   "cell_type": "code",
   "execution_count": 10,
   "id": "9108fdae",
   "metadata": {
    "execution": {
     "iopub.execute_input": "2025-04-16T16:36:04.948031Z",
     "iopub.status.busy": "2025-04-16T16:36:04.947802Z",
     "iopub.status.idle": "2025-04-16T16:36:05.896470Z",
     "shell.execute_reply": "2025-04-16T16:36:05.895566Z"
    },
    "papermill": {
     "duration": 0.957215,
     "end_time": "2025-04-16T16:36:05.898756",
     "exception": false,
     "start_time": "2025-04-16T16:36:04.941541",
     "status": "completed"
    },
    "tags": []
   },
   "outputs": [
    {
     "data": {
      "image/png": "[encoded data removed]",
      "text/plain": [
       "<Figure size 1000x800 with 2 Axes>"
      ]
     },
     "metadata": {},
     "output_type": "display_data"
    }
   ],
   "source": [
    "# Plot correlations between variables\n",
    "corr = X_train.corr()\n",
    "\n",
    "plt.figure(figsize=(10, 8))\n",
    "sns.heatmap(corr, annot=True, cmap='coolwarm', vmin=-1, vmax=1, fmt='.2f')\n",
    "plt.title(f'Feature Correlation Matrix (Sample of n={int(0.25*len(X_train))})', size=18, fontweight='bold')\n",
    "plt.tight_layout()\n",
    "plt.savefig('sentiment_feature_corrs.png')\n",
    "plt.show()"
   ]
  },
  {
   "cell_type": "markdown",
   "id": "ef3b6ef1",
   "metadata": {
    "papermill": {
     "duration": 0.008337,
     "end_time": "2025-04-16T16:36:05.916631",
     "exception": false,
     "start_time": "2025-04-16T16:36:05.908294",
     "status": "completed"
    },
    "tags": []
   },
   "source": [
    "Given that polarity is linearly dependent upon pos_word_count and neg_word_count, we'll eliminate those. We'll also keep anomaly score but not cosine to centroid. We'll also keep word count but not n_chars. We'll cut max_repeated since it doesn't seem to matter at all. So features will be:\n",
    "1. Polarity Score\n",
    "2. Exclamation Count\n",
    "3. Word Count\n",
    "4. Avg Word Length\n",
    "5. Punct Ratio\n",
    "5. Anomaly Score"
   ]
  },
  {
   "cell_type": "code",
   "execution_count": 11,
   "id": "bf6cbf80",
   "metadata": {
    "execution": {
     "iopub.execute_input": "2025-04-16T16:36:05.934598Z",
     "iopub.status.busy": "2025-04-16T16:36:05.934344Z",
     "iopub.status.idle": "2025-04-16T16:36:05.942018Z",
     "shell.execute_reply": "2025-04-16T16:36:05.941404Z"
    },
    "papermill": {
     "duration": 0.018066,
     "end_time": "2025-04-16T16:36:05.943169",
     "exception": false,
     "start_time": "2025-04-16T16:36:05.925103",
     "status": "completed"
    },
    "tags": []
   },
   "outputs": [],
   "source": [
    "sentiment_features = ['polarity_score', 'exclamation_count','word_count', \n",
    "                      'avg_word_length','punct_ratio', 'anomaly_score']\n",
    "X_train = X_train[sentiment_features]\n",
    "X_val = X_val[sentiment_features]\n",
    "X_test = X_test[sentiment_features]"
   ]
  },
  {
   "cell_type": "markdown",
   "id": "b328b008",
   "metadata": {
    "papermill": {
     "duration": 0.008205,
     "end_time": "2025-04-16T16:36:05.959600",
     "exception": false,
     "start_time": "2025-04-16T16:36:05.951395",
     "status": "completed"
    },
    "tags": []
   },
   "source": [
    "## Classical ML Feature Based Sentiment Model\n",
    "- Below, we take a feature based approach to predicitng sentiment of reviews using classical ML techniques\n",
    "- **Baseline:** Our baseline model will be predicting the review is positive, as the vast majority of the original coursera ratings were 5/5."
   ]
  },
  {
   "cell_type": "code",
   "execution_count": 12,
   "id": "88fdb355",
   "metadata": {
    "execution": {
     "iopub.execute_input": "2025-04-16T16:36:05.976775Z",
     "iopub.status.busy": "2025-04-16T16:36:05.976556Z",
     "iopub.status.idle": "2025-04-16T16:36:05.979712Z",
     "shell.execute_reply": "2025-04-16T16:36:05.979074Z"
    },
    "papermill": {
     "duration": 0.012982,
     "end_time": "2025-04-16T16:36:05.980830",
     "exception": false,
     "start_time": "2025-04-16T16:36:05.967848",
     "status": "completed"
    },
    "tags": []
   },
   "outputs": [],
   "source": [
    "import os\n",
    "os.environ[\"WANDB_DISABLED\"] = \"true\""
   ]
  },
  {
   "cell_type": "code",
   "execution_count": 13,
   "id": "59482b1f",
   "metadata": {
    "execution": {
     "iopub.execute_input": "2025-04-16T16:36:05.998350Z",
     "iopub.status.busy": "2025-04-16T16:36:05.998104Z",
     "iopub.status.idle": "2025-04-16T16:44:47.118268Z",
     "shell.execute_reply": "2025-04-16T16:44:47.117147Z"
    },
    "papermill": {
     "duration": 521.140212,
     "end_time": "2025-04-16T16:44:47.129503",
     "exception": false,
     "start_time": "2025-04-16T16:36:05.989291",
     "status": "completed"
    },
    "tags": []
   },
   "outputs": [
    {
     "name": "stdout",
     "output_type": "stream",
     "text": [
      "| Model                      |   Accuracy |   F1 Score |   Precision |   Recall | Best Hyperparameters                                        |\n",
      "|----------------------------|------------|------------|-------------|----------|-------------------------------------------------------------|\n",
      "| Logistic Regression        |   0.791821 |   0.842668 |    0.929867 | 0.791821 | {'C': 1}                                                    |\n",
      "| Random Forest              |   0.959304 |   0.953962 |    0.954645 | 0.959304 | {'max_depth': None, 'n_estimators': 200}                    |\n",
      "| XGBoost Classifer          |   0.827681 |   0.867041 |    0.934121 | 0.827681 | {'learning_rate': 0.2, 'max_depth': 7, 'n_estimators': 200} |\n",
      "| Baseline (Always Positive) |   0.939662 |   0.910431 |    0.882964 | 0.939662 | N/A                                                         |\n"
     ]
    }
   ],
   "source": [
    "from sklearn.ensemble import GradientBoostingClassifier, RandomForestClassifier\n",
    "from xgboost import XGBClassifier\n",
    "from sklearn.model_selection import train_test_split, GridSearchCV, StratifiedKFold\n",
    "from sklearn.linear_model import LogisticRegression\n",
    "from sklearn.metrics import accuracy_score, f1_score, precision_score, recall_score, precision_recall_curve, classification_report\n",
    "from tabulate import tabulate\n",
    "import random\n",
    "\n",
    "# use similar set of different parameters for tuning as in gibberish model\n",
    "models = {\n",
    "    \"Logistic Regression\": {\n",
    "        \"model\": LogisticRegression(max_iter=1000, class_weight='balanced'),\n",
    "        \"params\": {\"C\": [0.01, 0.1, 1, 10]}\n",
    "    },\n",
    "    \"Random Forest\": {\n",
    "        \"model\": RandomForestClassifier(class_weight='balanced'),\n",
    "        \"params\": {\"n_estimators\": [50, 100, 200], \"max_depth\": [5, 10, None]}\n",
    "    },\n",
    "    \"XGBoost Classifer\": {\n",
    "        \"model\": XGBClassifier(scale_pos_weight=scale_pos_weight),\n",
    "        \"params\": {\"n_estimators\": [50, 100, 200], 'max_depth': [3,5,7], \"learning_rate\": [0.01, 0.1, 0.2]}\n",
    "    }\n",
    "}\n",
    "\n",
    "results = []\n",
    "for name, info in models.items():\n",
    "    skf = StratifiedKFold(n_splits=5, shuffle=True, random_state=42)\n",
    "    grid_search = GridSearchCV(info[\"model\"], info[\"params\"], scoring='f1', cv=skf, n_jobs=-1)\n",
    "    grid_search.fit(X_train, y_train)\n",
    "\n",
    "    best_model = grid_search.best_estimator_\n",
    "    y_pred = best_model.predict(X_val)\n",
    "\n",
    "    accuracy = accuracy_score(y_val, y_pred)\n",
    "    f1 = f1_score(y_val, y_pred, average='weighted')\n",
    "\n",
    "    # Baseline Prediction: Always Predicting 2\n",
    "    y_pred_baseline = [1] * len(y_val)\n",
    "    #y_pred_baseline = [random.randint(0, 2) for _ in range(len(y_val))]\n",
    "    #y_pred_baseline = [random.choice([0,1]) for _ in range(len(y_val))]\n",
    "    \n",
    "    # Compute Metrics\n",
    "    accuracy = accuracy_score(y_val, y_pred)\n",
    "    f1 = f1_score(y_val, y_pred, average=\"weighted\")\n",
    "    precision = precision_score(y_val, y_pred, average=\"weighted\", zero_division=0)\n",
    "    recall = recall_score(y_val, y_pred, average=\"weighted\", zero_division=0)\n",
    "    \n",
    "    accuracy_baseline = accuracy_score(y_val, y_pred_baseline)\n",
    "    f1_baseline = f1_score(y_val, y_pred_baseline, average=\"weighted\")\n",
    "    precision_baseline = precision_score(y_val, y_pred_baseline, average=\"weighted\", zero_division=0)\n",
    "    recall_baseline = recall_score(y_val, y_pred_baseline, average=\"weighted\", zero_division=0)\n",
    "\n",
    "\n",
    "    results.append([name, accuracy, f1, precision, recall, grid_search.best_params_])\n",
    "\n",
    "# 🔹 Create Markdown Table\n",
    "results.append([\"Baseline (Always Positive)\", accuracy_baseline, f1_baseline, precision_baseline, recall_baseline, \"N/A\"])\n",
    "headers = [\"Model\", \"Accuracy\", \"F1 Score\", \"Precision\", \"Recall\", \"Best Hyperparameters\"]\n",
    "table = tabulate(results, headers=headers, tablefmt=\"github\")\n",
    "\n",
    "print(table)\n",
    "\n",
    "filename = 'sentiment_model_classical_features.pkl'\n",
    "with open(filename, 'wb') as file:\n",
    "    pickle.dump(best_model, file)"
   ]
  },
  {
   "cell_type": "markdown",
   "id": "bab7174f",
   "metadata": {
    "papermill": {
     "duration": 0.008263,
     "end_time": "2025-04-16T16:44:47.146363",
     "exception": false,
     "start_time": "2025-04-16T16:44:47.138100",
     "status": "completed"
    },
    "tags": []
   },
   "source": [
    "| Model                      |   Accuracy |   F1 Score |   Precision |   Recall | Best Hyperparameters                         |\n",
    "|----------------------------|------------|------------|-------------|----------|----------------------------------------------|\n",
    "| Logistic Regression        |   0.845395 |   0.878164 |    0.934224 | 0.845395 | {'C': 0.01}                                  |\n",
    "| Random Forest              |   0.947368 |   0.932648 |    0.940468 | 0.947368 | {'max_depth': None, 'n_estimators': 200}     |\n",
    "| Gradient Boosting          |   0.947368 |   0.932648 |    0.940468 | 0.947368 | {'learning_rate': 0.01, 'n_estimators': 200} |\n",
    "| Baseline (Always Positive) |   0.9375   |   0.907258 |    0.878906 | 0.9375   | N/A                                          |"
   ]
  },
  {
   "cell_type": "code",
   "execution_count": 14,
   "id": "cfe22ea6",
   "metadata": {
    "execution": {
     "iopub.execute_input": "2025-04-16T16:44:47.164539Z",
     "iopub.status.busy": "2025-04-16T16:44:47.164218Z",
     "iopub.status.idle": "2025-04-16T16:45:19.684318Z",
     "shell.execute_reply": "2025-04-16T16:45:19.683482Z"
    },
    "papermill": {
     "duration": 32.540996,
     "end_time": "2025-04-16T16:45:19.695681",
     "exception": false,
     "start_time": "2025-04-16T16:44:47.154685",
     "status": "completed"
    },
    "tags": []
   },
   "outputs": [
    {
     "data": {
      "image/png": "[encoded data removed]",
      "text/plain": [
       "<Figure size 800x600 with 1 Axes>"
      ]
     },
     "metadata": {},
     "output_type": "display_data"
    }
   ],
   "source": [
    "# Plot Precision-Recall Curve\n",
    "plt.figure(figsize=(8, 6))\n",
    "\n",
    "# Grab the best model\n",
    "plot_model = RandomForestClassifier(max_depth= None, n_estimators= 100, class_weight='balanced')\n",
    "plot_model.fit(X_train, y_train)\n",
    "y_pred_plot = plot_model.predict(X_val)\n",
    "\n",
    "precision_model, recall_model, _ = precision_recall_curve(y_val, y_pred_plot, pos_label=1)\n",
    "plt.plot(recall_model, precision_model, label=\"Random Forest\")\n",
    "\n",
    "precision_baseline, recall_baseline, _ = precision_recall_curve(y_val, y_pred_baseline, pos_label=1)\n",
    "plt.plot(recall_baseline, precision_baseline, linestyle=\"--\", label=\"Baseline (Always Positive)\")\n",
    "\n",
    "plt.xlabel(\"Recall\")\n",
    "plt.ylabel(\"Precision\")\n",
    "plt.title(\"Precision-Recall Curve\")\n",
    "plt.legend()\n",
    "plt.tight_layout()\n",
    "plt.savefig('prc_sentiment.png')\n",
    "plt.show()\n"
   ]
  },
  {
   "cell_type": "markdown",
   "id": "b0ebf4e2",
   "metadata": {
    "papermill": {
     "duration": 0.010358,
     "end_time": "2025-04-16T16:45:19.716411",
     "exception": false,
     "start_time": "2025-04-16T16:45:19.706053",
     "status": "completed"
    },
    "tags": []
   },
   "source": [
    "## Out of Box Transformer Model"
   ]
  },
  {
   "cell_type": "code",
   "execution_count": 15,
   "id": "0fd2d438",
   "metadata": {
    "execution": {
     "iopub.execute_input": "2025-04-16T16:45:19.737667Z",
     "iopub.status.busy": "2025-04-16T16:45:19.737430Z",
     "iopub.status.idle": "2025-04-16T16:47:27.230546Z",
     "shell.execute_reply": "2025-04-16T16:47:27.229586Z"
    },
    "papermill": {
     "duration": 127.516509,
     "end_time": "2025-04-16T16:47:27.243167",
     "exception": false,
     "start_time": "2025-04-16T16:45:19.726658",
     "status": "completed"
    },
    "tags": []
   },
   "outputs": [
    {
     "data": {
      "application/vnd.jupyter.widget-view+json": {
       "model_id": "8feb97cec32a4e5a83a08c041de81851",
       "version_major": 2,
       "version_minor": 0
      },
      "text/plain": [
       "tokenizer_config.json:   0%|          | 0.00/48.0 [00:00<?, ?B/s]"
      ]
     },
     "metadata": {},
     "output_type": "display_data"
    },
    {
     "data": {
      "application/vnd.jupyter.widget-view+json": {
       "model_id": "de655bd654a544dc9b3719a9a5c28ee9",
       "version_major": 2,
       "version_minor": 0
      },
      "text/plain": [
       "config.json:   0%|          | 0.00/483 [00:00<?, ?B/s]"
      ]
     },
     "metadata": {},
     "output_type": "display_data"
    },
    {
     "data": {
      "application/vnd.jupyter.widget-view+json": {
       "model_id": "e1480a8247094db19072ca03bb002900",
       "version_major": 2,
       "version_minor": 0
      },
      "text/plain": [
       "vocab.txt:   0%|          | 0.00/232k [00:00<?, ?B/s]"
      ]
     },
     "metadata": {},
     "output_type": "display_data"
    },
    {
     "data": {
      "application/vnd.jupyter.widget-view+json": {
       "model_id": "e4a2d9067d684fd3a99b11b3c88fa4d1",
       "version_major": 2,
       "version_minor": 0
      },
      "text/plain": [
       "tokenizer.json:   0%|          | 0.00/466k [00:00<?, ?B/s]"
      ]
     },
     "metadata": {},
     "output_type": "display_data"
    },
    {
     "data": {
      "application/vnd.jupyter.widget-view+json": {
       "model_id": "4cb1ef551cd143c3b7ea846cb8d91807",
       "version_major": 2,
       "version_minor": 0
      },
      "text/plain": [
       "model.safetensors:   0%|          | 0.00/268M [00:00<?, ?B/s]"
      ]
     },
     "metadata": {},
     "output_type": "display_data"
    },
    {
     "name": "stderr",
     "output_type": "stream",
     "text": [
      "Some weights of DistilBertForSequenceClassification were not initialized from the model checkpoint at distilbert-base-uncased and are newly initialized: ['classifier.bias', 'classifier.weight', 'pre_classifier.bias', 'pre_classifier.weight']\n",
      "You should probably TRAIN this model on a down-stream task to be able to use it for predictions and inference.\n",
      "Device set to use cuda:0\n"
     ]
    },
    {
     "name": "stdout",
     "output_type": "stream",
     "text": [
      "| Model                   |   Accuracy |   F1 Score |   Precision |   Recall |\n",
      "|-------------------------|------------|------------|-------------|----------|\n",
      "| Distilbert-base-uncased |   0.061245 | 0.00887508 |    0.857876 | 0.061245 |\n"
     ]
    }
   ],
   "source": [
    "#from transformers import pipeline, XLMRobertaTokenizer, XLMRobertaForSequenceClassification\n",
    "from transformers import pipeline, AutoModelForSequenceClassification, AutoTokenizer\n",
    "\n",
    "# Get pretrained multi langugage sentiment model\n",
    "#model_name = \"cardiffnlp/twitter-xlm-roberta-base-sentiment\"\n",
    "#tokenizer = XLMRobertaTokenizer.from_pretrained(model_name)\n",
    "#model = XLMRobertaForSequenceClassification.from_pretrained(model_name, num_labels=5)\n",
    "\n",
    "model_name = \"distilbert-base-uncased\"\n",
    "tokenizer = AutoTokenizer.from_pretrained(model_name)\n",
    "model = AutoModelForSequenceClassification.from_pretrained(model_name, num_labels=2) \n",
    "\n",
    "sentiment_pipeline = pipeline(\"text-classification\", model=model, tokenizer=tokenizer, device=0 if torch.cuda.is_available() else -1)\n",
    "\n",
    "# Function to run pipeline on dataframe\n",
    "def get_predictions(reviews):\n",
    "    predictions = sentiment_pipeline(reviews, truncation=True, padding=True, max_length=512)\n",
    "    return [int(pred['label'].split(\"_\")[-1]) for pred in predictions]  # Extract numerical sentiment labels\n",
    "\n",
    "# Get predictions\n",
    "y_pred = get_predictions(val_df['review'].tolist())\n",
    "\n",
    "# Grab accuracy and f1\n",
    "accuracy = accuracy_score(y_val, y_pred)\n",
    "f1 = f1_score(y_val, y_pred, average=\"weighted\")\n",
    "precision = precision_score(y_val, y_pred, average=\"weighted\", zero_division=0)\n",
    "recall = recall_score(y_val, y_pred, average=\"weighted\", zero_division=0)\n",
    "\n",
    "# Make nice markdown table for comparing\n",
    "table = [[\"Distilbert-base-uncased\", accuracy, f1, precision, recall]]\n",
    "print(tabulate(table, headers=[\"Model\", \"Accuracy\", \"F1 Score\", \"Precision\", \"Recall\"], tablefmt=\"github\"))\n"
   ]
  },
  {
   "cell_type": "markdown",
   "id": "dc1c97df",
   "metadata": {
    "papermill": {
     "duration": 0.010536,
     "end_time": "2025-04-16T16:47:27.264545",
     "exception": false,
     "start_time": "2025-04-16T16:47:27.254009",
     "status": "completed"
    },
    "tags": []
   },
   "source": [
    "## Fine-tuned Neural Network Text Based Sentiment Model\n",
    "- Take a pre-trained model from HuggingFace transformers\n",
    "- Fine tune using our training set\n",
    "- Use HuggingFace trainer API - https://huggingface.co/learn/nlp-course/en/chapter3/3?fw=pt"
   ]
  },
  {
   "cell_type": "code",
   "execution_count": 16,
   "id": "9b1067f9",
   "metadata": {
    "execution": {
     "iopub.execute_input": "2025-04-16T16:47:27.287153Z",
     "iopub.status.busy": "2025-04-16T16:47:27.286906Z",
     "iopub.status.idle": "2025-04-17T02:35:09.134277Z",
     "shell.execute_reply": "2025-04-17T02:35:09.133372Z"
    },
    "papermill": {
     "duration": 35261.860202,
     "end_time": "2025-04-17T02:35:09.135771",
     "exception": false,
     "start_time": "2025-04-16T16:47:27.275569",
     "status": "completed"
    },
    "tags": []
   },
   "outputs": [
    {
     "name": "stderr",
     "output_type": "stream",
     "text": [
      "Some weights of DistilBertForSequenceClassification were not initialized from the model checkpoint at distilbert-base-uncased and are newly initialized: ['classifier.bias', 'classifier.weight', 'pre_classifier.bias', 'pre_classifier.weight']\n",
      "You should probably TRAIN this model on a down-stream task to be able to use it for predictions and inference.\n",
      "/usr/local/lib/python3.10/dist-packages/transformers/training_args.py:1575: FutureWarning: `evaluation_strategy` is deprecated and will be removed in version 4.46 of 🤗 Transformers. Use `eval_strategy` instead\n",
      "  warnings.warn(\n",
      "Using the `WANDB_DISABLED` environment variable is deprecated and will be removed in v5. Use the --report_to flag to control the integrations used for logging result (for instance --report_to none).\n",
      "<ipython-input-16-23d38412371a>:60: FutureWarning: `tokenizer` is deprecated and will be removed in version 5.0.0 for `Trainer.__init__`. Use `processing_class` instead.\n",
      "  trainer = Trainer(\n"
     ]
    },
    {
     "data": {
      "text/html": [
       "\n",
       "    <div>\n",
       "      \n",
       "      <progress value='74405' max='74405' style='width:300px; height:20px; vertical-align: middle;'></progress>\n",
       "      [74405/74405 9:37:32, Epoch 5/5]\n",
       "    </div>\n",
       "    <table border=\"1\" class=\"dataframe\">\n",
       "  <thead>\n",
       " <tr style=\"text-align: left;\">\n",
       "      <th>Epoch</th>\n",
       "      <th>Training Loss</th>\n",
       "      <th>Validation Loss</th>\n",
       "      <th>Accuracy</th>\n",
       "      <th>F1</th>\n",
       "      <th>Precision</th>\n",
       "      <th>Recall</th>\n",
       "    </tr>\n",
       "  </thead>\n",
       "  <tbody>\n",
       "    <tr>\n",
       "      <td>1</td>\n",
       "      <td>0.125100</td>\n",
       "      <td>0.234574</td>\n",
       "      <td>0.942818</td>\n",
       "      <td>0.930678</td>\n",
       "      <td>0.928577</td>\n",
       "      <td>0.942818</td>\n",
       "    </tr>\n",
       "    <tr>\n",
       "      <td>2</td>\n",
       "      <td>0.111700</td>\n",
       "      <td>0.119303</td>\n",
       "      <td>0.962897</td>\n",
       "      <td>0.959677</td>\n",
       "      <td>0.959309</td>\n",
       "      <td>0.962897</td>\n",
       "    </tr>\n",
       "    <tr>\n",
       "      <td>3</td>\n",
       "      <td>0.093100</td>\n",
       "      <td>0.122711</td>\n",
       "      <td>0.964240</td>\n",
       "      <td>0.961528</td>\n",
       "      <td>0.961052</td>\n",
       "      <td>0.964240</td>\n",
       "    </tr>\n",
       "    <tr>\n",
       "      <td>4</td>\n",
       "      <td>0.084600</td>\n",
       "      <td>0.136498</td>\n",
       "      <td>0.965315</td>\n",
       "      <td>0.963789</td>\n",
       "      <td>0.963047</td>\n",
       "      <td>0.965315</td>\n",
       "    </tr>\n",
       "    <tr>\n",
       "      <td>5</td>\n",
       "      <td>0.077000</td>\n",
       "      <td>0.137618</td>\n",
       "      <td>0.966523</td>\n",
       "      <td>0.965072</td>\n",
       "      <td>0.964394</td>\n",
       "      <td>0.966523</td>\n",
       "    </tr>\n",
       "  </tbody>\n",
       "</table><p>"
      ],
      "text/plain": [
       "<IPython.core.display.HTML object>"
      ]
     },
     "metadata": {},
     "output_type": "display_data"
    },
    {
     "data": {
      "text/html": [],
      "text/plain": [
       "<IPython.core.display.HTML object>"
      ]
     },
     "metadata": {},
     "output_type": "display_data"
    },
    {
     "name": "stdout",
     "output_type": "stream",
     "text": [
      "| Model                   |   Accuracy |   F1 Score |\n",
      "|-------------------------|------------|------------|\n",
      "| distilbert-base-uncased |   0.962897 |   0.959677 |\n"
     ]
    },
    {
     "data": {
      "image/png": "[encoded data removed]",
      "text/plain": [
       "<Figure size 640x480 with 1 Axes>"
      ]
     },
     "metadata": {},
     "output_type": "display_data"
    },
    {
     "data": {
      "text/plain": [
       "('./fine_tuned_distilbert-base-uncased/tokenizer_config.json',\n",
       " './fine_tuned_distilbert-base-uncased/special_tokens_map.json',\n",
       " './fine_tuned_distilbert-base-uncased/vocab.txt',\n",
       " './fine_tuned_distilbert-base-uncased/added_tokens.json',\n",
       " './fine_tuned_distilbert-base-uncased/tokenizer.json')"
      ]
     },
     "execution_count": 16,
     "metadata": {},
     "output_type": "execute_result"
    }
   ],
   "source": [
    "import torch\n",
    "#from transformers import XLMRobertaTokenizer, XLMRobertaForSequenceClassification, Trainer, TrainingArguments\n",
    "from transformers import Trainer, TrainingArguments\n",
    "from transformers import DataCollatorWithPadding\n",
    "from datasets import Dataset\n",
    "\n",
    "X_train_bert = train_df['review']\n",
    "y_train_bert = y_train\n",
    "\n",
    "X_val_bert = val_df['review']\n",
    "y_val_bert = y_val\n",
    "\n",
    "X_test_bert = test_df['review']\n",
    "y_test_bert = y_test\n",
    "\n",
    "# load multi language tokenizer and sequence classification model\n",
    "#tokenizer = XLMRobertaTokenizer.from_pretrained(\"xlm-roberta-small\")\n",
    "#model = XLMRobertaForSequenceClassification.from_pretrained(\"xlm-roberta-small\", num_labels=3)\n",
    "\n",
    "# Otherwise, re grab the one from above\n",
    "model_name = \"distilbert-base-uncased\"\n",
    "tokenizer = AutoTokenizer.from_pretrained(model_name)\n",
    "model = AutoModelForSequenceClassification.from_pretrained(model_name, num_labels=2) \n",
    "\n",
    "def tokenize_function(texts):\n",
    "    return tokenizer(texts, truncation=True, padding=True, max_length=512)\n",
    "\n",
    "train_encodings = tokenize_function(X_train_bert.tolist())\n",
    "val_encodings = tokenize_function(X_val_bert.tolist())\n",
    "\n",
    "# create Hugging Face Dataset so we can use huggingface trainer api\n",
    "train_dataset = Dataset.from_dict({\"input_ids\": train_encodings['input_ids'], \"attention_mask\": train_encodings['attention_mask'], \"labels\": y_train.tolist()})\n",
    "test_dataset = Dataset.from_dict({\"input_ids\": val_encodings['input_ids'], \"attention_mask\": val_encodings['attention_mask'], \"labels\": y_val.tolist()})\n",
    "\n",
    "def compute_metrics(eval_pred):\n",
    "    logits, labels = eval_pred\n",
    "    preds = np.argmax(logits, axis=1)\n",
    "    acc = accuracy_score(labels, preds)\n",
    "    f1 = f1_score(labels, preds, average='weighted')\n",
    "    precision = precision_score(labels, preds, average='weighted')\n",
    "    recall = recall_score(labels, preds, average='weighted')\n",
    "    return {\n",
    "        \"accuracy\": acc,\n",
    "        \"f1\": f1,\n",
    "        \"precision\": precision,\n",
    "        \"recall\": recall\n",
    "    }\n",
    "\n",
    "training_args = TrainingArguments(\n",
    "    output_dir=\"./results\",\n",
    "    evaluation_strategy=\"epoch\",\n",
    "    save_strategy=\"epoch\",\n",
    "    per_device_train_batch_size=16,\n",
    "    per_device_eval_batch_size=16,\n",
    "    num_train_epochs=5,\n",
    "    logging_dir=\"./logs\",\n",
    "    load_best_model_at_end=True\n",
    ")\n",
    "\n",
    "trainer = Trainer(\n",
    "    model=model,\n",
    "    args=training_args,\n",
    "    train_dataset=train_dataset,\n",
    "    eval_dataset=test_dataset,\n",
    "    tokenizer=tokenizer,\n",
    "    compute_metrics=compute_metrics,\n",
    "    data_collator=DataCollatorWithPadding(tokenizer)\n",
    ")\n",
    "\n",
    "trainer.train()\n",
    "\n",
    "# Evaluation step\n",
    "results = trainer.evaluate()\n",
    "bert_accuracy = results['eval_accuracy']\n",
    "bert_f1 = results['eval_f1']\n",
    "\n",
    "# print results to \n",
    "table = [[model_name, bert_accuracy, bert_f1]]\n",
    "print(tabulate(table, headers=[\"Model\", \"Accuracy\", \"F1 Score\"], tablefmt=\"github\"))\n",
    "\n",
    "# Get predictions for plotting PR curve\n",
    "predictions = trainer.predict(test_dataset)\n",
    "logits = predictions.predictions\n",
    "labels = predictions.label_ids\n",
    "probs = torch.nn.functional.softmax(torch.tensor(logits), dim=-1).numpy()\n",
    "preds = np.argmax(probs, axis=1)\n",
    "\n",
    "# Plot Precision-Recall curve for each class\n",
    "num_classes = probs.shape[1]\n",
    "for i in range(num_classes):\n",
    "    precision, recall, _ = precision_recall_curve(labels == i, probs[:, i])\n",
    "    plt.plot(recall, precision, label=f'Class {i}')\n",
    "\n",
    "plt.xlabel('Recall')\n",
    "plt.ylabel('Precision')\n",
    "plt.title('Precision-Recall Curve (One-vs-Rest)')\n",
    "plt.legend()\n",
    "plt.grid(True)\n",
    "plt.show()\n",
    "\n",
    "model.save_pretrained(f\"./fine_tuned_{model_name}\")\n",
    "tokenizer.save_pretrained(f\"./fine_tuned_{model_name}\")"
   ]
  },
  {
   "cell_type": "code",
   "execution_count": null,
   "id": "efd7a81f",
   "metadata": {
    "papermill": {
     "duration": 0.011007,
     "end_time": "2025-04-17T02:35:09.158938",
     "exception": false,
     "start_time": "2025-04-17T02:35:09.147931",
     "status": "completed"
    },
    "tags": []
   },
   "outputs": [],
   "source": []
  }
 ],
 "metadata": {
  "kaggle": {
   "accelerator": "gpu",
   "dataSources": [
    {
     "datasetId": 6829806,
     "sourceId": 11245687,
     "sourceType": "datasetVersion"
    }
   ],
   "dockerImageVersionId": 30918,
   "isGpuEnabled": true,
   "isInternetEnabled": true,
   "language": "python",
   "sourceType": "notebook"
  },
  "kernelspec": {
   "display_name": "Python 3",
   "language": "python",
   "name": "python3"
  },
  "language_info": {
   "codemirror_mode": {
    "name": "ipython",
    "version": 3
   },
   "file_extension": ".py",
   "mimetype": "text/x-python",
   "name": "python",
   "nbconvert_exporter": "python",
   "pygments_lexer": "ipython3",
   "version": "3.10.12"
  },
  "papermill": {
   "default_parameters": {},
   "duration": 35988.584925,
   "end_time": "2025-04-17T02:35:13.443185",
   "environment_variables": {},
   "exception": null,
   "input_path": "__notebook__.ipynb",
   "output_path": "__notebook__.ipynb",
   "parameters": {},
   "start_time": "2025-04-16T16:35:24.858260",
   "version": "2.6.0"
  },
  "widgets": {
   "application/vnd.jupyter.widget-state+json": {
    "state": {
     "005ef81776ec481d9a1043e6a8ded1a9": {
      "model_module": "@jupyter-widgets/controls",
      "model_module_version": "2.0.0",
      "model_name": "FloatProgressModel",
      "state": {
       "_dom_classes": [],
       "_model_module": "@jupyter-widgets/controls",
       "_model_module_version": "2.0.0",
       "_model_name": "FloatProgressModel",
       "_view_count": null,
       "_view_module": "@jupyter-widgets/controls",
       "_view_module_version": "2.0.0",
       "_view_name": "ProgressView",
       "bar_style": "success",
       "description": "",
       "description_allow_html": false,
       "layout": "IPY_MODEL_4054ae6f3cec41ada5687f737101b1ed",
       "max": 267954768.0,
       "min": 0.0,
       "orientation": "horizontal",
       "style": "IPY_MODEL_a8a12dba662741a3bdc6c9f7d5aa9a13",
       "tabbable": null,
       "tooltip": null,
       "value": 267954768.0
      }
     },
     "02a9c3e62bac4d39a776468d1c7f195b": {
      "model_module": "@jupyter-widgets/base",
      "model_module_version": "2.0.0",
      "model_name": "LayoutModel",
      "state": {
       "_model_module": "@jupyter-widgets/base",
       "_model_module_version": "2.0.0",
       "_model_name": "LayoutModel",
       "_view_count": null,
       "_view_module": "@jupyter-widgets/base",
       "_view_module_version": "2.0.0",
       "_view_name": "LayoutView",
       "align_content": null,
       "align_items": null,
       "align_self": null,
       "border_bottom": null,
       "border_left": null,
       "border_right": null,
       "border_top": null,
       "bottom": null,
       "display": null,
       "flex": null,
       "flex_flow": null,
       "grid_area": null,
       "grid_auto_columns": null,
       "grid_auto_flow": null,
       "grid_auto_rows": null,
       "grid_column": null,
       "grid_gap": null,
       "grid_row": null,
       "grid_template_areas": null,
       "grid_template_columns": null,
       "grid_template_rows": null,
       "height": null,
       "justify_content": null,
       "justify_items": null,
       "left": null,
       "margin": null,
       "max_height": null,
       "max_width": null,
       "min_height": null,
       "min_width": null,
       "object_fit": null,
       "object_position": null,
       "order": null,
       "overflow": null,
       "padding": null,
       "right": null,
       "top": null,
       "visibility": null,
       "width": null
      }
     },
     "0309fd35d63e45a69725c8bd63b84ca2": {
      "model_module": "@jupyter-widgets/base",
      "model_module_version": "2.0.0",
      "model_name": "LayoutModel",
      "state": {
       "_model_module": "@jupyter-widgets/base",
       "_model_module_version": "2.0.0",
       "_model_name": "LayoutModel",
       "_view_count": null,
       "_view_module": "@jupyter-widgets/base",
       "_view_module_version": "2.0.0",
       "_view_name": "LayoutView",
       "align_content": null,
       "align_items": null,
       "align_self": null,
       "border_bottom": null,
       "border_left": null,
       "border_right": null,
       "border_top": null,
       "bottom": null,
       "display": null,
       "flex": null,
       "flex_flow": null,
       "grid_area": null,
       "grid_auto_columns": null,
       "grid_auto_flow": null,
       "grid_auto_rows": null,
       "grid_column": null,
       "grid_gap": null,
       "grid_row": null,
       "grid_template_areas": null,
       "grid_template_columns": null,
       "grid_template_rows": null,
       "height": null,
       "justify_content": null,
       "justify_items": null,
       "left": null,
       "margin": null,
       "max_height": null,
       "max_width": null,
       "min_height": null,
       "min_width": null,
       "object_fit": null,
       "object_position": null,
       "order": null,
       "overflow": null,
       "padding": null,
       "right": null,
       "top": null,
       "visibility": null,
       "width": null
      }
     },
     "04540cbe723f4411befb3839e1d23f9d": {
      "model_module": "@jupyter-widgets/controls",
      "model_module_version": "2.0.0",
      "model_name": "FloatProgressModel",
      "state": {
       "_dom_classes": [],
       "_model_module": "@jupyter-widgets/controls",
       "_model_module_version": "2.0.0",
       "_model_name": "FloatProgressModel",
       "_view_count": null,
       "_view_module": "@jupyter-widgets/controls",
       "_view_module_version": "2.0.0",
       "_view_name": "ProgressView",
       "bar_style": "success",
       "description": "",
       "description_allow_html": false,
       "layout": "IPY_MODEL_02a9c3e62bac4d39a776468d1c7f195b",
       "max": 483.0,
       "min": 0.0,
       "orientation": "horizontal",
       "style": "IPY_MODEL_a22fe8ab6cdb41289d2cd9280fb10682",
       "tabbable": null,
       "tooltip": null,
       "value": 483.0
      }
     },
     "0540e0c9aba74e42a17772fbab9d7189": {
      "model_module": "@jupyter-widgets/base",
      "model_module_version": "2.0.0",
      "model_name": "LayoutModel",
      "state": {
       "_model_module": "@jupyter-widgets/base",
       "_model_module_version": "2.0.0",
       "_model_name": "LayoutModel",
       "_view_count": null,
       "_view_module": "@jupyter-widgets/base",
       "_view_module_version": "2.0.0",
       "_view_name": "LayoutView",
       "align_content": null,
       "align_items": null,
       "align_self": null,
       "border_bottom": null,
       "border_left": null,
       "border_right": null,
       "border_top": null,
       "bottom": null,
       "display": null,
       "flex": null,
       "flex_flow": null,
       "grid_area": null,
       "grid_auto_columns": null,
       "grid_auto_flow": null,
       "grid_auto_rows": null,
       "grid_column": null,
       "grid_gap": null,
       "grid_row": null,
       "grid_template_areas": null,
       "grid_template_columns": null,
       "grid_template_rows": null,
       "height": null,
       "justify_content": null,
       "justify_items": null,
       "left": null,
       "margin": null,
       "max_height": null,
       "max_width": null,
       "min_height": null,
       "min_width": null,
       "object_fit": null,
       "object_position": null,
       "order": null,
       "overflow": null,
       "padding": null,
       "right": null,
       "top": null,
       "visibility": null,
       "width": null
      }
     },
     "057a31f45f30427c87e7287641253cbe": {
      "model_module": "@jupyter-widgets/controls",
      "model_module_version": "2.0.0",
      "model_name": "HTMLStyleModel",
      "state": {
       "_model_module": "@jupyter-widgets/controls",
       "_model_module_version": "2.0.0",
       "_model_name": "HTMLStyleModel",
       "_view_count": null,
       "_view_module": "@jupyter-widgets/base",
       "_view_module_version": "2.0.0",
       "_view_name": "StyleView",
       "background": null,
       "description_width": "",
       "font_size": null,
       "text_color": null
      }
     },
     "07814b4224714f11815bbf5ace66fea2": {
      "model_module": "@jupyter-widgets/controls",
      "model_module_version": "2.0.0",
      "model_name": "ProgressStyleModel",
      "state": {
       "_model_module": "@jupyter-widgets/controls",
       "_model_module_version": "2.0.0",
       "_model_name": "ProgressStyleModel",
       "_view_count": null,
       "_view_module": "@jupyter-widgets/base",
       "_view_module_version": "2.0.0",
       "_view_name": "StyleView",
       "bar_color": null,
       "description_width": ""
      }
     },
     "17157b0ac9194f3ba20f62e08f99b517": {
      "model_module": "@jupyter-widgets/controls",
      "model_module_version": "2.0.0",
      "model_name": "HTMLModel",
      "state": {
       "_dom_classes": [],
       "_model_module": "@jupyter-widgets/controls",
       "_model_module_version": "2.0.0",
       "_model_name": "HTMLModel",
       "_view_count": null,
       "_view_module": "@jupyter-widgets/controls",
       "_view_module_version": "2.0.0",
       "_view_name": "HTMLView",
       "description": "",
       "description_allow_html": false,
       "layout": "IPY_MODEL_0309fd35d63e45a69725c8bd63b84ca2",
       "placeholder": "​",
       "style": "IPY_MODEL_63e18b76233a495481e4b8ddb95ec469",
       "tabbable": null,
       "tooltip": null,
       "value": "config.json: 100%"
      }
     },
     "1b1c99cf34464da1a35b94dbad641618": {
      "model_module": "@jupyter-widgets/base",
      "model_module_version": "2.0.0",
      "model_name": "LayoutModel",
      "state": {
       "_model_module": "@jupyter-widgets/base",
       "_model_module_version": "2.0.0",
       "_model_name": "LayoutModel",
       "_view_count": null,
       "_view_module": "@jupyter-widgets/base",
       "_view_module_version": "2.0.0",
       "_view_name": "LayoutView",
       "align_content": null,
       "align_items": null,
       "align_self": null,
       "border_bottom": null,
       "border_left": null,
       "border_right": null,
       "border_top": null,
       "bottom": null,
       "display": null,
       "flex": null,
       "flex_flow": null,
       "grid_area": null,
       "grid_auto_columns": null,
       "grid_auto_flow": null,
       "grid_auto_rows": null,
       "grid_column": null,
       "grid_gap": null,
       "grid_row": null,
       "grid_template_areas": null,
       "grid_template_columns": null,
       "grid_template_rows": null,
       "height": null,
       "justify_content": null,
       "justify_items": null,
       "left": null,
       "margin": null,
       "max_height": null,
       "max_width": null,
       "min_height": null,
       "min_width": null,
       "object_fit": null,
       "object_position": null,
       "order": null,
       "overflow": null,
       "padding": null,
       "right": null,
       "top": null,
       "visibility": null,
       "width": null
      }
     },
     "1d43972e1a7d407baf5b4467b29ce52f": {
      "model_module": "@jupyter-widgets/controls",
      "model_module_version": "2.0.0",
      "model_name": "HTMLStyleModel",
      "state": {
       "_model_module": "@jupyter-widgets/controls",
       "_model_module_version": "2.0.0",
       "_model_name": "HTMLStyleModel",
       "_view_count": null,
       "_view_module": "@jupyter-widgets/base",
       "_view_module_version": "2.0.0",
       "_view_name": "StyleView",
       "background": null,
       "description_width": "",
       "font_size": null,
       "text_color": null
      }
     },
     "235373e3d60f4083a6740e5795459a51": {
      "model_module": "@jupyter-widgets/controls",
      "model_module_version": "2.0.0",
      "model_name": "HTMLModel",
      "state": {
       "_dom_classes": [],
       "_model_module": "@jupyter-widgets/controls",
       "_model_module_version": "2.0.0",
       "_model_name": "HTMLModel",
       "_view_count": null,
       "_view_module": "@jupyter-widgets/controls",
       "_view_module_version": "2.0.0",
       "_view_name": "HTMLView",
       "description": "",
       "description_allow_html": false,
       "layout": "IPY_MODEL_82170dd31d4a4d8a8dfd97d017e0a89e",
       "placeholder": "​",
       "style": "IPY_MODEL_057a31f45f30427c87e7287641253cbe",
       "tabbable": null,
       "tooltip": null,
       "value": "vocab.txt: 100%"
      }
     },
     "2679411d0bfd4c6eacb2aebe14d7e1ea": {
      "model_module": "@jupyter-widgets/controls",
      "model_module_version": "2.0.0",
      "model_name": "ProgressStyleModel",
      "state": {
       "_model_module": "@jupyter-widgets/controls",
       "_model_module_version": "2.0.0",
       "_model_name": "ProgressStyleModel",
       "_view_count": null,
       "_view_module": "@jupyter-widgets/base",
       "_view_module_version": "2.0.0",
       "_view_name": "StyleView",
       "bar_color": null,
       "description_width": ""
      }
     },
     "28e5d9602c0b438cb014fa518e055aef": {
      "model_module": "@jupyter-widgets/controls",
      "model_module_version": "2.0.0",
      "model_name": "HTMLStyleModel",
      "state": {
       "_model_module": "@jupyter-widgets/controls",
       "_model_module_version": "2.0.0",
       "_model_name": "HTMLStyleModel",
       "_view_count": null,
       "_view_module": "@jupyter-widgets/base",
       "_view_module_version": "2.0.0",
       "_view_name": "StyleView",
       "background": null,
       "description_width": "",
       "font_size": null,
       "text_color": null
      }
     },
     "2c95c7335a9848568a7998ab052e8f9e": {
      "model_module": "@jupyter-widgets/controls",
      "model_module_version": "2.0.0",
      "model_name": "HTMLStyleModel",
      "state": {
       "_model_module": "@jupyter-widgets/controls",
       "_model_module_version": "2.0.0",
       "_model_name": "HTMLStyleModel",
       "_view_count": null,
       "_view_module": "@jupyter-widgets/base",
       "_view_module_version": "2.0.0",
       "_view_name": "StyleView",
       "background": null,
       "description_width": "",
       "font_size": null,
       "text_color": null
      }
     },
     "30b87df573034491b9cc0899b16f1ab0": {
      "model_module": "@jupyter-widgets/controls",
      "model_module_version": "2.0.0",
      "model_name": "HTMLStyleModel",
      "state": {
       "_model_module": "@jupyter-widgets/controls",
       "_model_module_version": "2.0.0",
       "_model_name": "HTMLStyleModel",
       "_view_count": null,
       "_view_module": "@jupyter-widgets/base",
       "_view_module_version": "2.0.0",
       "_view_name": "StyleView",
       "background": null,
       "description_width": "",
       "font_size": null,
       "text_color": null
      }
     },
     "3587d6394321485184e77e4c843d416d": {
      "model_module": "@jupyter-widgets/base",
      "model_module_version": "2.0.0",
      "model_name": "LayoutModel",
      "state": {
       "_model_module": "@jupyter-widgets/base",
       "_model_module_version": "2.0.0",
       "_model_name": "LayoutModel",
       "_view_count": null,
       "_view_module": "@jupyter-widgets/base",
       "_view_module_version": "2.0.0",
       "_view_name": "LayoutView",
       "align_content": null,
       "align_items": null,
       "align_self": null,
       "border_bottom": null,
       "border_left": null,
       "border_right": null,
       "border_top": null,
       "bottom": null,
       "display": null,
       "flex": null,
       "flex_flow": null,
       "grid_area": null,
       "grid_auto_columns": null,
       "grid_auto_flow": null,
       "grid_auto_rows": null,
       "grid_column": null,
       "grid_gap": null,
       "grid_row": null,
       "grid_template_areas": null,
       "grid_template_columns": null,
       "grid_template_rows": null,
       "height": null,
       "justify_content": null,
       "justify_items": null,
       "left": null,
       "margin": null,
       "max_height": null,
       "max_width": null,
       "min_height": null,
       "min_width": null,
       "object_fit": null,
       "object_position": null,
       "order": null,
       "overflow": null,
       "padding": null,
       "right": null,
       "top": null,
       "visibility": null,
       "width": null
      }
     },
     "35d002e0b4ff4a54a36dc70e023ab713": {
      "model_module": "@jupyter-widgets/base",
      "model_module_version": "2.0.0",
      "model_name": "LayoutModel",
      "state": {
       "_model_module": "@jupyter-widgets/base",
       "_model_module_version": "2.0.0",
       "_model_name": "LayoutModel",
       "_view_count": null,
       "_view_module": "@jupyter-widgets/base",
       "_view_module_version": "2.0.0",
       "_view_name": "LayoutView",
       "align_content": null,
       "align_items": null,
       "align_self": null,
       "border_bottom": null,
       "border_left": null,
       "border_right": null,
       "border_top": null,
       "bottom": null,
       "display": null,
       "flex": null,
       "flex_flow": null,
       "grid_area": null,
       "grid_auto_columns": null,
       "grid_auto_flow": null,
       "grid_auto_rows": null,
       "grid_column": null,
       "grid_gap": null,
       "grid_row": null,
       "grid_template_areas": null,
       "grid_template_columns": null,
       "grid_template_rows": null,
       "height": null,
       "justify_content": null,
       "justify_items": null,
       "left": null,
       "margin": null,
       "max_height": null,
       "max_width": null,
       "min_height": null,
       "min_width": null,
       "object_fit": null,
       "object_position": null,
       "order": null,
       "overflow": null,
       "padding": null,
       "right": null,
       "top": null,
       "visibility": null,
       "width": null
      }
     },
     "3bc54071190240bdb2485490ec37411f": {
      "model_module": "@jupyter-widgets/base",
      "model_module_version": "2.0.0",
      "model_name": "LayoutModel",
      "state": {
       "_model_module": "@jupyter-widgets/base",
       "_model_module_version": "2.0.0",
       "_model_name": "LayoutModel",
       "_view_count": null,
       "_view_module": "@jupyter-widgets/base",
       "_view_module_version": "2.0.0",
       "_view_name": "LayoutView",
       "align_content": null,
       "align_items": null,
       "align_self": null,
       "border_bottom": null,
       "border_left": null,
       "border_right": null,
       "border_top": null,
       "bottom": null,
       "display": null,
       "flex": null,
       "flex_flow": null,
       "grid_area": null,
       "grid_auto_columns": null,
       "grid_auto_flow": null,
       "grid_auto_rows": null,
       "grid_column": null,
       "grid_gap": null,
       "grid_row": null,
       "grid_template_areas": null,
       "grid_template_columns": null,
       "grid_template_rows": null,
       "height": null,
       "justify_content": null,
       "justify_items": null,
       "left": null,
       "margin": null,
       "max_height": null,
       "max_width": null,
       "min_height": null,
       "min_width": null,
       "object_fit": null,
       "object_position": null,
       "order": null,
       "overflow": null,
       "padding": null,
       "right": null,
       "top": null,
       "visibility": null,
       "width": null
      }
     },
     "4029744741784629b04dbb7a6cdc1040": {
      "model_module": "@jupyter-widgets/base",
      "model_module_version": "2.0.0",
      "model_name": "LayoutModel",
      "state": {
       "_model_module": "@jupyter-widgets/base",
       "_model_module_version": "2.0.0",
       "_model_name": "LayoutModel",
       "_view_count": null,
       "_view_module": "@jupyter-widgets/base",
       "_view_module_version": "2.0.0",
       "_view_name": "LayoutView",
       "align_content": null,
       "align_items": null,
       "align_self": null,
       "border_bottom": null,
       "border_left": null,
       "border_right": null,
       "border_top": null,
       "bottom": null,
       "display": null,
       "flex": null,
       "flex_flow": null,
       "grid_area": null,
       "grid_auto_columns": null,
       "grid_auto_flow": null,
       "grid_auto_rows": null,
       "grid_column": null,
       "grid_gap": null,
       "grid_row": null,
       "grid_template_areas": null,
       "grid_template_columns": null,
       "grid_template_rows": null,
       "height": null,
       "justify_content": null,
       "justify_items": null,
       "left": null,
       "margin": null,
       "max_height": null,
       "max_width": null,
       "min_height": null,
       "min_width": null,
       "object_fit": null,
       "object_position": null,
       "order": null,
       "overflow": null,
       "padding": null,
       "right": null,
       "top": null,
       "visibility": null,
       "width": null
      }
     },
     "4054ae6f3cec41ada5687f737101b1ed": {
      "model_module": "@jupyter-widgets/base",
      "model_module_version": "2.0.0",
      "model_name": "LayoutModel",
      "state": {
       "_model_module": "@jupyter-widgets/base",
       "_model_module_version": "2.0.0",
       "_model_name": "LayoutModel",
       "_view_count": null,
       "_view_module": "@jupyter-widgets/base",
       "_view_module_version": "2.0.0",
       "_view_name": "LayoutView",
       "align_content": null,
       "align_items": null,
       "align_self": null,
       "border_bottom": null,
       "border_left": null,
       "border_right": null,
       "border_top": null,
       "bottom": null,
       "display": null,
       "flex": null,
       "flex_flow": null,
       "grid_area": null,
       "grid_auto_columns": null,
       "grid_auto_flow": null,
       "grid_auto_rows": null,
       "grid_column": null,
       "grid_gap": null,
       "grid_row": null,
       "grid_template_areas": null,
       "grid_template_columns": null,
       "grid_template_rows": null,
       "height": null,
       "justify_content": null,
       "justify_items": null,
       "left": null,
       "margin": null,
       "max_height": null,
       "max_width": null,
       "min_height": null,
       "min_width": null,
       "object_fit": null,
       "object_position": null,
       "order": null,
       "overflow": null,
       "padding": null,
       "right": null,
       "top": null,
       "visibility": null,
       "width": null
      }
     },
     "465e5b9c3c294dc88d4528d75991ccc7": {
      "model_module": "@jupyter-widgets/base",
      "model_module_version": "2.0.0",
      "model_name": "LayoutModel",
      "state": {
       "_model_module": "@jupyter-widgets/base",
       "_model_module_version": "2.0.0",
       "_model_name": "LayoutModel",
       "_view_count": null,
       "_view_module": "@jupyter-widgets/base",
       "_view_module_version": "2.0.0",
       "_view_name": "LayoutView",
       "align_content": null,
       "align_items": null,
       "align_self": null,
       "border_bottom": null,
       "border_left": null,
       "border_right": null,
       "border_top": null,
       "bottom": null,
       "display": null,
       "flex": null,
       "flex_flow": null,
       "grid_area": null,
       "grid_auto_columns": null,
       "grid_auto_flow": null,
       "grid_auto_rows": null,
       "grid_column": null,
       "grid_gap": null,
       "grid_row": null,
       "grid_template_areas": null,
       "grid_template_columns": null,
       "grid_template_rows": null,
       "height": null,
       "justify_content": null,
       "justify_items": null,
       "left": null,
       "margin": null,
       "max_height": null,
       "max_width": null,
       "min_height": null,
       "min_width": null,
       "object_fit": null,
       "object_position": null,
       "order": null,
       "overflow": null,
       "padding": null,
       "right": null,
       "top": null,
       "visibility": null,
       "width": null
      }
     },
     "4cb1ef551cd143c3b7ea846cb8d91807": {
      "model_module": "@jupyter-widgets/controls",
      "model_module_version": "2.0.0",
      "model_name": "HBoxModel",
      "state": {
       "_dom_classes": [],
       "_model_module": "@jupyter-widgets/controls",
       "_model_module_version": "2.0.0",
       "_model_name": "HBoxModel",
       "_view_count": null,
       "_view_module": "@jupyter-widgets/controls",
       "_view_module_version": "2.0.0",
       "_view_name": "HBoxView",
       "box_style": "",
       "children": [
        "IPY_MODEL_870b76ab5ce0450aa664edb1b7e2efcb",
        "IPY_MODEL_005ef81776ec481d9a1043e6a8ded1a9",
        "IPY_MODEL_5e65b9bef02e4a3e8688323601a771c0"
       ],
       "layout": "IPY_MODEL_4ef00058592c4693a2222ad27f1e5912",
       "tabbable": null,
       "tooltip": null
      }
     },
     "4ef00058592c4693a2222ad27f1e5912": {
      "model_module": "@jupyter-widgets/base",
      "model_module_version": "2.0.0",
      "model_name": "LayoutModel",
      "state": {
       "_model_module": "@jupyter-widgets/base",
       "_model_module_version": "2.0.0",
       "_model_name": "LayoutModel",
       "_view_count": null,
       "_view_module": "@jupyter-widgets/base",
       "_view_module_version": "2.0.0",
       "_view_name": "LayoutView",
       "align_content": null,
       "align_items": null,
       "align_self": null,
       "border_bottom": null,
       "border_left": null,
       "border_right": null,
       "border_top": null,
       "bottom": null,
       "display": null,
       "flex": null,
       "flex_flow": null,
       "grid_area": null,
       "grid_auto_columns": null,
       "grid_auto_flow": null,
       "grid_auto_rows": null,
       "grid_column": null,
       "grid_gap": null,
       "grid_row": null,
       "grid_template_areas": null,
       "grid_template_columns": null,
       "grid_template_rows": null,
       "height": null,
       "justify_content": null,
       "justify_items": null,
       "left": null,
       "margin": null,
       "max_height": null,
       "max_width": null,
       "min_height": null,
       "min_width": null,
       "object_fit": null,
       "object_position": null,
       "order": null,
       "overflow": null,
       "padding": null,
       "right": null,
       "top": null,
       "visibility": null,
       "width": null
      }
     },
     "5e65b9bef02e4a3e8688323601a771c0": {
      "model_module": "@jupyter-widgets/controls",
      "model_module_version": "2.0.0",
      "model_name": "HTMLModel",
      "state": {
       "_dom_classes": [],
       "_model_module": "@jupyter-widgets/controls",
       "_model_module_version": "2.0.0",
       "_model_name": "HTMLModel",
       "_view_count": null,
       "_view_module": "@jupyter-widgets/controls",
       "_view_module_version": "2.0.0",
       "_view_name": "HTMLView",
       "description": "",
       "description_allow_html": false,
       "layout": "IPY_MODEL_4029744741784629b04dbb7a6cdc1040",
       "placeholder": "​",
       "style": "IPY_MODEL_c3fb9275471348f4bd44725a83f803fc",
       "tabbable": null,
       "tooltip": null,
       "value": " 268M/268M [00:00&lt;00:00, 391MB/s]"
      }
     },
     "63e18b76233a495481e4b8ddb95ec469": {
      "model_module": "@jupyter-widgets/controls",
      "model_module_version": "2.0.0",
      "model_name": "HTMLStyleModel",
      "state": {
       "_model_module": "@jupyter-widgets/controls",
       "_model_module_version": "2.0.0",
       "_model_name": "HTMLStyleModel",
       "_view_count": null,
       "_view_module": "@jupyter-widgets/base",
       "_view_module_version": "2.0.0",
       "_view_name": "StyleView",
       "background": null,
       "description_width": "",
       "font_size": null,
       "text_color": null
      }
     },
     "78bc0978d5914f6da87881427c27b827": {
      "model_module": "@jupyter-widgets/controls",
      "model_module_version": "2.0.0",
      "model_name": "FloatProgressModel",
      "state": {
       "_dom_classes": [],
       "_model_module": "@jupyter-widgets/controls",
       "_model_module_version": "2.0.0",
       "_model_name": "FloatProgressModel",
       "_view_count": null,
       "_view_module": "@jupyter-widgets/controls",
       "_view_module_version": "2.0.0",
       "_view_name": "ProgressView",
       "bar_style": "success",
       "description": "",
       "description_allow_html": false,
       "layout": "IPY_MODEL_1b1c99cf34464da1a35b94dbad641618",
       "max": 48.0,
       "min": 0.0,
       "orientation": "horizontal",
       "style": "IPY_MODEL_f6985e58b0d946b58725083b26f1591a",
       "tabbable": null,
       "tooltip": null,
       "value": 48.0
      }
     },
     "82170dd31d4a4d8a8dfd97d017e0a89e": {
      "model_module": "@jupyter-widgets/base",
      "model_module_version": "2.0.0",
      "model_name": "LayoutModel",
      "state": {
       "_model_module": "@jupyter-widgets/base",
       "_model_module_version": "2.0.0",
       "_model_name": "LayoutModel",
       "_view_count": null,
       "_view_module": "@jupyter-widgets/base",
       "_view_module_version": "2.0.0",
       "_view_name": "LayoutView",
       "align_content": null,
       "align_items": null,
       "align_self": null,
       "border_bottom": null,
       "border_left": null,
       "border_right": null,
       "border_top": null,
       "bottom": null,
       "display": null,
       "flex": null,
       "flex_flow": null,
       "grid_area": null,
       "grid_auto_columns": null,
       "grid_auto_flow": null,
       "grid_auto_rows": null,
       "grid_column": null,
       "grid_gap": null,
       "grid_row": null,
       "grid_template_areas": null,
       "grid_template_columns": null,
       "grid_template_rows": null,
       "height": null,
       "justify_content": null,
       "justify_items": null,
       "left": null,
       "margin": null,
       "max_height": null,
       "max_width": null,
       "min_height": null,
       "min_width": null,
       "object_fit": null,
       "object_position": null,
       "order": null,
       "overflow": null,
       "padding": null,
       "right": null,
       "top": null,
       "visibility": null,
       "width": null
      }
     },
     "870b76ab5ce0450aa664edb1b7e2efcb": {
      "model_module": "@jupyter-widgets/controls",
      "model_module_version": "2.0.0",
      "model_name": "HTMLModel",
      "state": {
       "_dom_classes": [],
       "_model_module": "@jupyter-widgets/controls",
       "_model_module_version": "2.0.0",
       "_model_name": "HTMLModel",
       "_view_count": null,
       "_view_module": "@jupyter-widgets/controls",
       "_view_module_version": "2.0.0",
       "_view_name": "HTMLView",
       "description": "",
       "description_allow_html": false,
       "layout": "IPY_MODEL_be6acb72ed1e436eac35615c579e559b",
       "placeholder": "​",
       "style": "IPY_MODEL_f64b5f3072fe4263b994b5178a6ac401",
       "tabbable": null,
       "tooltip": null,
       "value": "model.safetensors: 100%"
      }
     },
     "8ed6ba526d7c471596c582db43053706": {
      "model_module": "@jupyter-widgets/base",
      "model_module_version": "2.0.0",
      "model_name": "LayoutModel",
      "state": {
       "_model_module": "@jupyter-widgets/base",
       "_model_module_version": "2.0.0",
       "_model_name": "LayoutModel",
       "_view_count": null,
       "_view_module": "@jupyter-widgets/base",
       "_view_module_version": "2.0.0",
       "_view_name": "LayoutView",
       "align_content": null,
       "align_items": null,
       "align_self": null,
       "border_bottom": null,
       "border_left": null,
       "border_right": null,
       "border_top": null,
       "bottom": null,
       "display": null,
       "flex": null,
       "flex_flow": null,
       "grid_area": null,
       "grid_auto_columns": null,
       "grid_auto_flow": null,
       "grid_auto_rows": null,
       "grid_column": null,
       "grid_gap": null,
       "grid_row": null,
       "grid_template_areas": null,
       "grid_template_columns": null,
       "grid_template_rows": null,
       "height": null,
       "justify_content": null,
       "justify_items": null,
       "left": null,
       "margin": null,
       "max_height": null,
       "max_width": null,
       "min_height": null,
       "min_width": null,
       "object_fit": null,
       "object_position": null,
       "order": null,
       "overflow": null,
       "padding": null,
       "right": null,
       "top": null,
       "visibility": null,
       "width": null
      }
     },
     "8feb97cec32a4e5a83a08c041de81851": {
      "model_module": "@jupyter-widgets/controls",
      "model_module_version": "2.0.0",
      "model_name": "HBoxModel",
      "state": {
       "_dom_classes": [],
       "_model_module": "@jupyter-widgets/controls",
       "_model_module_version": "2.0.0",
       "_model_name": "HBoxModel",
       "_view_count": null,
       "_view_module": "@jupyter-widgets/controls",
       "_view_module_version": "2.0.0",
       "_view_name": "HBoxView",
       "box_style": "",
       "children": [
        "IPY_MODEL_918d774aafd14c7582253a9edace0d7e",
        "IPY_MODEL_78bc0978d5914f6da87881427c27b827",
        "IPY_MODEL_c07f3de133d245cfb115d98d7caa79b9"
       ],
       "layout": "IPY_MODEL_8ed6ba526d7c471596c582db43053706",
       "tabbable": null,
       "tooltip": null
      }
     },
     "91007f8800ac49e8b14b17f585cba2fe": {
      "model_module": "@jupyter-widgets/controls",
      "model_module_version": "2.0.0",
      "model_name": "FloatProgressModel",
      "state": {
       "_dom_classes": [],
       "_model_module": "@jupyter-widgets/controls",
       "_model_module_version": "2.0.0",
       "_model_name": "FloatProgressModel",
       "_view_count": null,
       "_view_module": "@jupyter-widgets/controls",
       "_view_module_version": "2.0.0",
       "_view_name": "ProgressView",
       "bar_style": "success",
       "description": "",
       "description_allow_html": false,
       "layout": "IPY_MODEL_0540e0c9aba74e42a17772fbab9d7189",
       "max": 466062.0,
       "min": 0.0,
       "orientation": "horizontal",
       "style": "IPY_MODEL_07814b4224714f11815bbf5ace66fea2",
       "tabbable": null,
       "tooltip": null,
       "value": 466062.0
      }
     },
     "918d774aafd14c7582253a9edace0d7e": {
      "model_module": "@jupyter-widgets/controls",
      "model_module_version": "2.0.0",
      "model_name": "HTMLModel",
      "state": {
       "_dom_classes": [],
       "_model_module": "@jupyter-widgets/controls",
       "_model_module_version": "2.0.0",
       "_model_name": "HTMLModel",
       "_view_count": null,
       "_view_module": "@jupyter-widgets/controls",
       "_view_module_version": "2.0.0",
       "_view_name": "HTMLView",
       "description": "",
       "description_allow_html": false,
       "layout": "IPY_MODEL_cb6348b42e70404abaa6ede56b56d1dc",
       "placeholder": "​",
       "style": "IPY_MODEL_e9120dd3d8db44bea8dc15c076f9989f",
       "tabbable": null,
       "tooltip": null,
       "value": "tokenizer_config.json: 100%"
      }
     },
     "98b65eefce3046c88e57658814474c0d": {
      "model_module": "@jupyter-widgets/controls",
      "model_module_version": "2.0.0",
      "model_name": "HTMLModel",
      "state": {
       "_dom_classes": [],
       "_model_module": "@jupyter-widgets/controls",
       "_model_module_version": "2.0.0",
       "_model_name": "HTMLModel",
       "_view_count": null,
       "_view_module": "@jupyter-widgets/controls",
       "_view_module_version": "2.0.0",
       "_view_name": "HTMLView",
       "description": "",
       "description_allow_html": false,
       "layout": "IPY_MODEL_eb6fd69fb07d4dc292f84262e0f21c21",
       "placeholder": "​",
       "style": "IPY_MODEL_30b87df573034491b9cc0899b16f1ab0",
       "tabbable": null,
       "tooltip": null,
       "value": " 483/483 [00:00&lt;00:00, 47.0kB/s]"
      }
     },
     "a22fe8ab6cdb41289d2cd9280fb10682": {
      "model_module": "@jupyter-widgets/controls",
      "model_module_version": "2.0.0",
      "model_name": "ProgressStyleModel",
      "state": {
       "_model_module": "@jupyter-widgets/controls",
       "_model_module_version": "2.0.0",
       "_model_name": "ProgressStyleModel",
       "_view_count": null,
       "_view_module": "@jupyter-widgets/base",
       "_view_module_version": "2.0.0",
       "_view_name": "StyleView",
       "bar_color": null,
       "description_width": ""
      }
     },
     "a455c746dfb04bc18b6f5d36eda20832": {
      "model_module": "@jupyter-widgets/base",
      "model_module_version": "2.0.0",
      "model_name": "LayoutModel",
      "state": {
       "_model_module": "@jupyter-widgets/base",
       "_model_module_version": "2.0.0",
       "_model_name": "LayoutModel",
       "_view_count": null,
       "_view_module": "@jupyter-widgets/base",
       "_view_module_version": "2.0.0",
       "_view_name": "LayoutView",
       "align_content": null,
       "align_items": null,
       "align_self": null,
       "border_bottom": null,
       "border_left": null,
       "border_right": null,
       "border_top": null,
       "bottom": null,
       "display": null,
       "flex": null,
       "flex_flow": null,
       "grid_area": null,
       "grid_auto_columns": null,
       "grid_auto_flow": null,
       "grid_auto_rows": null,
       "grid_column": null,
       "grid_gap": null,
       "grid_row": null,
       "grid_template_areas": null,
       "grid_template_columns": null,
       "grid_template_rows": null,
       "height": null,
       "justify_content": null,
       "justify_items": null,
       "left": null,
       "margin": null,
       "max_height": null,
       "max_width": null,
       "min_height": null,
       "min_width": null,
       "object_fit": null,
       "object_position": null,
       "order": null,
       "overflow": null,
       "padding": null,
       "right": null,
       "top": null,
       "visibility": null,
       "width": null
      }
     },
     "a8a12dba662741a3bdc6c9f7d5aa9a13": {
      "model_module": "@jupyter-widgets/controls",
      "model_module_version": "2.0.0",
      "model_name": "ProgressStyleModel",
      "state": {
       "_model_module": "@jupyter-widgets/controls",
       "_model_module_version": "2.0.0",
       "_model_name": "ProgressStyleModel",
       "_view_count": null,
       "_view_module": "@jupyter-widgets/base",
       "_view_module_version": "2.0.0",
       "_view_name": "StyleView",
       "bar_color": null,
       "description_width": ""
      }
     },
     "af36d787a211452c9e05405a6a2a5328": {
      "model_module": "@jupyter-widgets/base",
      "model_module_version": "2.0.0",
      "model_name": "LayoutModel",
      "state": {
       "_model_module": "@jupyter-widgets/base",
       "_model_module_version": "2.0.0",
       "_model_name": "LayoutModel",
       "_view_count": null,
       "_view_module": "@jupyter-widgets/base",
       "_view_module_version": "2.0.0",
       "_view_name": "LayoutView",
       "align_content": null,
       "align_items": null,
       "align_self": null,
       "border_bottom": null,
       "border_left": null,
       "border_right": null,
       "border_top": null,
       "bottom": null,
       "display": null,
       "flex": null,
       "flex_flow": null,
       "grid_area": null,
       "grid_auto_columns": null,
       "grid_auto_flow": null,
       "grid_auto_rows": null,
       "grid_column": null,
       "grid_gap": null,
       "grid_row": null,
       "grid_template_areas": null,
       "grid_template_columns": null,
       "grid_template_rows": null,
       "height": null,
       "justify_content": null,
       "justify_items": null,
       "left": null,
       "margin": null,
       "max_height": null,
       "max_width": null,
       "min_height": null,
       "min_width": null,
       "object_fit": null,
       "object_position": null,
       "order": null,
       "overflow": null,
       "padding": null,
       "right": null,
       "top": null,
       "visibility": null,
       "width": null
      }
     },
     "b0b5d2dffb4748e4a7991b2b5d2d65d5": {
      "model_module": "@jupyter-widgets/controls",
      "model_module_version": "2.0.0",
      "model_name": "HTMLModel",
      "state": {
       "_dom_classes": [],
       "_model_module": "@jupyter-widgets/controls",
       "_model_module_version": "2.0.0",
       "_model_name": "HTMLModel",
       "_view_count": null,
       "_view_module": "@jupyter-widgets/controls",
       "_view_module_version": "2.0.0",
       "_view_name": "HTMLView",
       "description": "",
       "description_allow_html": false,
       "layout": "IPY_MODEL_af36d787a211452c9e05405a6a2a5328",
       "placeholder": "​",
       "style": "IPY_MODEL_1d43972e1a7d407baf5b4467b29ce52f",
       "tabbable": null,
       "tooltip": null,
       "value": " 466k/466k [00:00&lt;00:00, 1.29MB/s]"
      }
     },
     "b41e19c3455c429590798c3014fd58bb": {
      "model_module": "@jupyter-widgets/controls",
      "model_module_version": "2.0.0",
      "model_name": "HTMLModel",
      "state": {
       "_dom_classes": [],
       "_model_module": "@jupyter-widgets/controls",
       "_model_module_version": "2.0.0",
       "_model_name": "HTMLModel",
       "_view_count": null,
       "_view_module": "@jupyter-widgets/controls",
       "_view_module_version": "2.0.0",
       "_view_name": "HTMLView",
       "description": "",
       "description_allow_html": false,
       "layout": "IPY_MODEL_cf65c312cbd2468bb7222e0a1b9b290f",
       "placeholder": "​",
       "style": "IPY_MODEL_28e5d9602c0b438cb014fa518e055aef",
       "tabbable": null,
       "tooltip": null,
       "value": "tokenizer.json: 100%"
      }
     },
     "be6acb72ed1e436eac35615c579e559b": {
      "model_module": "@jupyter-widgets/base",
      "model_module_version": "2.0.0",
      "model_name": "LayoutModel",
      "state": {
       "_model_module": "@jupyter-widgets/base",
       "_model_module_version": "2.0.0",
       "_model_name": "LayoutModel",
       "_view_count": null,
       "_view_module": "@jupyter-widgets/base",
       "_view_module_version": "2.0.0",
       "_view_name": "LayoutView",
       "align_content": null,
       "align_items": null,
       "align_self": null,
       "border_bottom": null,
       "border_left": null,
       "border_right": null,
       "border_top": null,
       "bottom": null,
       "display": null,
       "flex": null,
       "flex_flow": null,
       "grid_area": null,
       "grid_auto_columns": null,
       "grid_auto_flow": null,
       "grid_auto_rows": null,
       "grid_column": null,
       "grid_gap": null,
       "grid_row": null,
       "grid_template_areas": null,
       "grid_template_columns": null,
       "grid_template_rows": null,
       "height": null,
       "justify_content": null,
       "justify_items": null,
       "left": null,
       "margin": null,
       "max_height": null,
       "max_width": null,
       "min_height": null,
       "min_width": null,
       "object_fit": null,
       "object_position": null,
       "order": null,
       "overflow": null,
       "padding": null,
       "right": null,
       "top": null,
       "visibility": null,
       "width": null
      }
     },
     "c07f3de133d245cfb115d98d7caa79b9": {
      "model_module": "@jupyter-widgets/controls",
      "model_module_version": "2.0.0",
      "model_name": "HTMLModel",
      "state": {
       "_dom_classes": [],
       "_model_module": "@jupyter-widgets/controls",
       "_model_module_version": "2.0.0",
       "_model_name": "HTMLModel",
       "_view_count": null,
       "_view_module": "@jupyter-widgets/controls",
       "_view_module_version": "2.0.0",
       "_view_name": "HTMLView",
       "description": "",
       "description_allow_html": false,
       "layout": "IPY_MODEL_35d002e0b4ff4a54a36dc70e023ab713",
       "placeholder": "​",
       "style": "IPY_MODEL_e04f11afa1b44087a34aeb98a87dca1c",
       "tabbable": null,
       "tooltip": null,
       "value": " 48.0/48.0 [00:00&lt;00:00, 4.48kB/s]"
      }
     },
     "c2839b94365544a89c1101b1f1c4a2c7": {
      "model_module": "@jupyter-widgets/base",
      "model_module_version": "2.0.0",
      "model_name": "LayoutModel",
      "state": {
       "_model_module": "@jupyter-widgets/base",
       "_model_module_version": "2.0.0",
       "_model_name": "LayoutModel",
       "_view_count": null,
       "_view_module": "@jupyter-widgets/base",
       "_view_module_version": "2.0.0",
       "_view_name": "LayoutView",
       "align_content": null,
       "align_items": null,
       "align_self": null,
       "border_bottom": null,
       "border_left": null,
       "border_right": null,
       "border_top": null,
       "bottom": null,
       "display": null,
       "flex": null,
       "flex_flow": null,
       "grid_area": null,
       "grid_auto_columns": null,
       "grid_auto_flow": null,
       "grid_auto_rows": null,
       "grid_column": null,
       "grid_gap": null,
       "grid_row": null,
       "grid_template_areas": null,
       "grid_template_columns": null,
       "grid_template_rows": null,
       "height": null,
       "justify_content": null,
       "justify_items": null,
       "left": null,
       "margin": null,
       "max_height": null,
       "max_width": null,
       "min_height": null,
       "min_width": null,
       "object_fit": null,
       "object_position": null,
       "order": null,
       "overflow": null,
       "padding": null,
       "right": null,
       "top": null,
       "visibility": null,
       "width": null
      }
     },
     "c3fb9275471348f4bd44725a83f803fc": {
      "model_module": "@jupyter-widgets/controls",
      "model_module_version": "2.0.0",
      "model_name": "HTMLStyleModel",
      "state": {
       "_model_module": "@jupyter-widgets/controls",
       "_model_module_version": "2.0.0",
       "_model_name": "HTMLStyleModel",
       "_view_count": null,
       "_view_module": "@jupyter-widgets/base",
       "_view_module_version": "2.0.0",
       "_view_name": "StyleView",
       "background": null,
       "description_width": "",
       "font_size": null,
       "text_color": null
      }
     },
     "cb6348b42e70404abaa6ede56b56d1dc": {
      "model_module": "@jupyter-widgets/base",
      "model_module_version": "2.0.0",
      "model_name": "LayoutModel",
      "state": {
       "_model_module": "@jupyter-widgets/base",
       "_model_module_version": "2.0.0",
       "_model_name": "LayoutModel",
       "_view_count": null,
       "_view_module": "@jupyter-widgets/base",
       "_view_module_version": "2.0.0",
       "_view_name": "LayoutView",
       "align_content": null,
       "align_items": null,
       "align_self": null,
       "border_bottom": null,
       "border_left": null,
       "border_right": null,
       "border_top": null,
       "bottom": null,
       "display": null,
       "flex": null,
       "flex_flow": null,
       "grid_area": null,
       "grid_auto_columns": null,
       "grid_auto_flow": null,
       "grid_auto_rows": null,
       "grid_column": null,
       "grid_gap": null,
       "grid_row": null,
       "grid_template_areas": null,
       "grid_template_columns": null,
       "grid_template_rows": null,
       "height": null,
       "justify_content": null,
       "justify_items": null,
       "left": null,
       "margin": null,
       "max_height": null,
       "max_width": null,
       "min_height": null,
       "min_width": null,
       "object_fit": null,
       "object_position": null,
       "order": null,
       "overflow": null,
       "padding": null,
       "right": null,
       "top": null,
       "visibility": null,
       "width": null
      }
     },
     "cf65c312cbd2468bb7222e0a1b9b290f": {
      "model_module": "@jupyter-widgets/base",
      "model_module_version": "2.0.0",
      "model_name": "LayoutModel",
      "state": {
       "_model_module": "@jupyter-widgets/base",
       "_model_module_version": "2.0.0",
       "_model_name": "LayoutModel",
       "_view_count": null,
       "_view_module": "@jupyter-widgets/base",
       "_view_module_version": "2.0.0",
       "_view_name": "LayoutView",
       "align_content": null,
       "align_items": null,
       "align_self": null,
       "border_bottom": null,
       "border_left": null,
       "border_right": null,
       "border_top": null,
       "bottom": null,
       "display": null,
       "flex": null,
       "flex_flow": null,
       "grid_area": null,
       "grid_auto_columns": null,
       "grid_auto_flow": null,
       "grid_auto_rows": null,
       "grid_column": null,
       "grid_gap": null,
       "grid_row": null,
       "grid_template_areas": null,
       "grid_template_columns": null,
       "grid_template_rows": null,
       "height": null,
       "justify_content": null,
       "justify_items": null,
       "left": null,
       "margin": null,
       "max_height": null,
       "max_width": null,
       "min_height": null,
       "min_width": null,
       "object_fit": null,
       "object_position": null,
       "order": null,
       "overflow": null,
       "padding": null,
       "right": null,
       "top": null,
       "visibility": null,
       "width": null
      }
     },
     "d3f7496ce318437aa2f7f440d1deeb77": {
      "model_module": "@jupyter-widgets/controls",
      "model_module_version": "2.0.0",
      "model_name": "FloatProgressModel",
      "state": {
       "_dom_classes": [],
       "_model_module": "@jupyter-widgets/controls",
       "_model_module_version": "2.0.0",
       "_model_name": "FloatProgressModel",
       "_view_count": null,
       "_view_module": "@jupyter-widgets/controls",
       "_view_module_version": "2.0.0",
       "_view_name": "ProgressView",
       "bar_style": "success",
       "description": "",
       "description_allow_html": false,
       "layout": "IPY_MODEL_c2839b94365544a89c1101b1f1c4a2c7",
       "max": 231508.0,
       "min": 0.0,
       "orientation": "horizontal",
       "style": "IPY_MODEL_2679411d0bfd4c6eacb2aebe14d7e1ea",
       "tabbable": null,
       "tooltip": null,
       "value": 231508.0
      }
     },
     "de655bd654a544dc9b3719a9a5c28ee9": {
      "model_module": "@jupyter-widgets/controls",
      "model_module_version": "2.0.0",
      "model_name": "HBoxModel",
      "state": {
       "_dom_classes": [],
       "_model_module": "@jupyter-widgets/controls",
       "_model_module_version": "2.0.0",
       "_model_name": "HBoxModel",
       "_view_count": null,
       "_view_module": "@jupyter-widgets/controls",
       "_view_module_version": "2.0.0",
       "_view_name": "HBoxView",
       "box_style": "",
       "children": [
        "IPY_MODEL_17157b0ac9194f3ba20f62e08f99b517",
        "IPY_MODEL_04540cbe723f4411befb3839e1d23f9d",
        "IPY_MODEL_98b65eefce3046c88e57658814474c0d"
       ],
       "layout": "IPY_MODEL_a455c746dfb04bc18b6f5d36eda20832",
       "tabbable": null,
       "tooltip": null
      }
     },
     "e04f11afa1b44087a34aeb98a87dca1c": {
      "model_module": "@jupyter-widgets/controls",
      "model_module_version": "2.0.0",
      "model_name": "HTMLStyleModel",
      "state": {
       "_model_module": "@jupyter-widgets/controls",
       "_model_module_version": "2.0.0",
       "_model_name": "HTMLStyleModel",
       "_view_count": null,
       "_view_module": "@jupyter-widgets/base",
       "_view_module_version": "2.0.0",
       "_view_name": "StyleView",
       "background": null,
       "description_width": "",
       "font_size": null,
       "text_color": null
      }
     },
     "e1480a8247094db19072ca03bb002900": {
      "model_module": "@jupyter-widgets/controls",
      "model_module_version": "2.0.0",
      "model_name": "HBoxModel",
      "state": {
       "_dom_classes": [],
       "_model_module": "@jupyter-widgets/controls",
       "_model_module_version": "2.0.0",
       "_model_name": "HBoxModel",
       "_view_count": null,
       "_view_module": "@jupyter-widgets/controls",
       "_view_module_version": "2.0.0",
       "_view_name": "HBoxView",
       "box_style": "",
       "children": [
        "IPY_MODEL_235373e3d60f4083a6740e5795459a51",
        "IPY_MODEL_d3f7496ce318437aa2f7f440d1deeb77",
        "IPY_MODEL_edd463fec6324b82abb889459a8ad045"
       ],
       "layout": "IPY_MODEL_3bc54071190240bdb2485490ec37411f",
       "tabbable": null,
       "tooltip": null
      }
     },
     "e4a2d9067d684fd3a99b11b3c88fa4d1": {
      "model_module": "@jupyter-widgets/controls",
      "model_module_version": "2.0.0",
      "model_name": "HBoxModel",
      "state": {
       "_dom_classes": [],
       "_model_module": "@jupyter-widgets/controls",
       "_model_module_version": "2.0.0",
       "_model_name": "HBoxModel",
       "_view_count": null,
       "_view_module": "@jupyter-widgets/controls",
       "_view_module_version": "2.0.0",
       "_view_name": "HBoxView",
       "box_style": "",
       "children": [
        "IPY_MODEL_b41e19c3455c429590798c3014fd58bb",
        "IPY_MODEL_91007f8800ac49e8b14b17f585cba2fe",
        "IPY_MODEL_b0b5d2dffb4748e4a7991b2b5d2d65d5"
       ],
       "layout": "IPY_MODEL_465e5b9c3c294dc88d4528d75991ccc7",
       "tabbable": null,
       "tooltip": null
      }
     },
     "e9120dd3d8db44bea8dc15c076f9989f": {
      "model_module": "@jupyter-widgets/controls",
      "model_module_version": "2.0.0",
      "model_name": "HTMLStyleModel",
      "state": {
       "_model_module": "@jupyter-widgets/controls",
       "_model_module_version": "2.0.0",
       "_model_name": "HTMLStyleModel",
       "_view_count": null,
       "_view_module": "@jupyter-widgets/base",
       "_view_module_version": "2.0.0",
       "_view_name": "StyleView",
       "background": null,
       "description_width": "",
       "font_size": null,
       "text_color": null
      }
     },
     "eb6fd69fb07d4dc292f84262e0f21c21": {
      "model_module": "@jupyter-widgets/base",
      "model_module_version": "2.0.0",
      "model_name": "LayoutModel",
      "state": {
       "_model_module": "@jupyter-widgets/base",
       "_model_module_version": "2.0.0",
       "_model_name": "LayoutModel",
       "_view_count": null,
       "_view_module": "@jupyter-widgets/base",
       "_view_module_version": "2.0.0",
       "_view_name": "LayoutView",
       "align_content": null,
       "align_items": null,
       "align_self": null,
       "border_bottom": null,
       "border_left": null,
       "border_right": null,
       "border_top": null,
       "bottom": null,
       "display": null,
       "flex": null,
       "flex_flow": null,
       "grid_area": null,
       "grid_auto_columns": null,
       "grid_auto_flow": null,
       "grid_auto_rows": null,
       "grid_column": null,
       "grid_gap": null,
       "grid_row": null,
       "grid_template_areas": null,
       "grid_template_columns": null,
       "grid_template_rows": null,
       "height": null,
       "justify_content": null,
       "justify_items": null,
       "left": null,
       "margin": null,
       "max_height": null,
       "max_width": null,
       "min_height": null,
       "min_width": null,
       "object_fit": null,
       "object_position": null,
       "order": null,
       "overflow": null,
       "padding": null,
       "right": null,
       "top": null,
       "visibility": null,
       "width": null
      }
     },
     "edd463fec6324b82abb889459a8ad045": {
      "model_module": "@jupyter-widgets/controls",
      "model_module_version": "2.0.0",
      "model_name": "HTMLModel",
      "state": {
       "_dom_classes": [],
       "_model_module": "@jupyter-widgets/controls",
       "_model_module_version": "2.0.0",
       "_model_name": "HTMLModel",
       "_view_count": null,
       "_view_module": "@jupyter-widgets/controls",
       "_view_module_version": "2.0.0",
       "_view_name": "HTMLView",
       "description": "",
       "description_allow_html": false,
       "layout": "IPY_MODEL_3587d6394321485184e77e4c843d416d",
       "placeholder": "​",
       "style": "IPY_MODEL_2c95c7335a9848568a7998ab052e8f9e",
       "tabbable": null,
       "tooltip": null,
       "value": " 232k/232k [00:00&lt;00:00, 668kB/s]"
      }
     },
     "f64b5f3072fe4263b994b5178a6ac401": {
      "model_module": "@jupyter-widgets/controls",
      "model_module_version": "2.0.0",
      "model_name": "HTMLStyleModel",
      "state": {
       "_model_module": "@jupyter-widgets/controls",
       "_model_module_version": "2.0.0",
       "_model_name": "HTMLStyleModel",
       "_view_count": null,
       "_view_module": "@jupyter-widgets/base",
       "_view_module_version": "2.0.0",
       "_view_name": "StyleView",
       "background": null,
       "description_width": "",
       "font_size": null,
       "text_color": null
      }
     },
     "f6985e58b0d946b58725083b26f1591a": {
      "model_module": "@jupyter-widgets/controls",
      "model_module_version": "2.0.0",
      "model_name": "ProgressStyleModel",
      "state": {
       "_model_module": "@jupyter-widgets/controls",
       "_model_module_version": "2.0.0",
       "_model_name": "ProgressStyleModel",
       "_view_count": null,
       "_view_module": "@jupyter-widgets/base",
       "_view_module_version": "2.0.0",
       "_view_name": "StyleView",
       "bar_color": null,
       "description_width": ""
      }
     }
    },
    "version_major": 2,
    "version_minor": 0
   }
  }
 },
 "nbformat": 4,
 "nbformat_minor": 5
}
