{
 "cells": [
  {
   "cell_type": "code",
   "execution_count": 1,
   "id": "3ce88c0b",
   "metadata": {
    "_cell_guid": "72d8a046-c400-4fa8-8aab-b0e00143d37f",
    "_uuid": "5a9de2b7-d1cf-437d-9785-8059db2107bb",
    "collapsed": false,
    "execution": {
     "iopub.execute_input": "2025-04-01T16:23:40.965623Z",
     "iopub.status.busy": "2025-04-01T16:23:40.965296Z",
     "iopub.status.idle": "2025-04-01T16:24:07.930308Z",
     "shell.execute_reply": "2025-04-01T16:24:07.929249Z"
    },
    "jupyter": {
     "outputs_hidden": false
    },
    "papermill": {
     "duration": 26.976459,
     "end_time": "2025-04-01T16:24:07.932251",
     "exception": false,
     "start_time": "2025-04-01T16:23:40.955792",
     "status": "completed"
    },
    "tags": []
   },
   "outputs": [
    {
     "name": "stdout",
     "output_type": "stream",
     "text": [
      "\u001b[2K     \u001b[90m━━━━━━━━━━━━━━━━━━━━━━━━━━━━━━━━━━━━━━━━\u001b[0m \u001b[32m981.5/981.5 kB\u001b[0m \u001b[31m13.3 MB/s\u001b[0m eta \u001b[36m0:00:00\u001b[0m\r\n",
      "\u001b[?25h  Preparing metadata (setup.py) ... \u001b[?25l\u001b[?25hdone\r\n",
      "\u001b[2K     \u001b[90m━━━━━━━━━━━━━━━━━━━━━━━━━━━━━━━━━━━━━━━━\u001b[0m \u001b[32m33.2/33.2 MB\u001b[0m \u001b[31m47.9 MB/s\u001b[0m eta \u001b[36m0:00:00\u001b[0m\r\n",
      "\u001b[?25h  Preparing metadata (setup.py) ... \u001b[?25l\u001b[?25hdone\r\n",
      "\u001b[2K     \u001b[90m━━━━━━━━━━━━━━━━━━━━━━━━━━━━━━━━━━━━━━━━\u001b[0m \u001b[32m13.4/13.4 MB\u001b[0m \u001b[31m90.1 MB/s\u001b[0m eta \u001b[36m0:00:00\u001b[0m\r\n",
      "\u001b[?25h  Preparing metadata (setup.py) ... \u001b[?25l\u001b[?25hdone\r\n",
      "\u001b[2K   \u001b[90m━━━━━━━━━━━━━━━━━━━━━━━━━━━━━━━━━━━━━━━━\u001b[0m \u001b[32m6.3/6.3 MB\u001b[0m \u001b[31m88.8 MB/s\u001b[0m eta \u001b[36m0:00:00\u001b[0m\r\n",
      "\u001b[2K   \u001b[90m━━━━━━━━━━━━━━━━━━━━━━━━━━━━━━━━━━━━━━━━\u001b[0m \u001b[32m56.8/56.8 MB\u001b[0m \u001b[31m29.4 MB/s\u001b[0m eta \u001b[36m0:00:00\u001b[0m\r\n",
      "\u001b[2K   \u001b[90m━━━━━━━━━━━━━━━━━━━━━━━━━━━━━━━━━━━━━━━━\u001b[0m \u001b[32m5.2/5.2 MB\u001b[0m \u001b[31m83.6 MB/s\u001b[0m eta \u001b[36m0:00:00\u001b[0m\r\n",
      "\u001b[2K   \u001b[90m━━━━━━━━━━━━━━━━━━━━━━━━━━━━━━━━━━━━━━━━\u001b[0m \u001b[32m44.8/44.8 kB\u001b[0m \u001b[31m2.2 MB/s\u001b[0m eta \u001b[36m0:00:00\u001b[0m\r\n",
      "\u001b[?25h  Building wheel for langdetect (setup.py) ... \u001b[?25l\u001b[?25hdone\r\n",
      "  Building wheel for mecab_ko_dic (setup.py) ... \u001b[?25l\u001b[?25hdone\r\n",
      "  Building wheel for ipadic (setup.py) ... \u001b[?25l\u001b[?25hdone\r\n"
     ]
    }
   ],
   "source": [
    "!pip -q install transformers huggingface_hub langdetect pycountry wordfreq MeCab mecab_ko_dic ipadic"
   ]
  },
  {
   "cell_type": "code",
   "execution_count": 2,
   "id": "fc521b67",
   "metadata": {
    "execution": {
     "iopub.execute_input": "2025-04-01T16:24:07.953991Z",
     "iopub.status.busy": "2025-04-01T16:24:07.953661Z",
     "iopub.status.idle": "2025-04-01T16:24:14.737177Z",
     "shell.execute_reply": "2025-04-01T16:24:14.736170Z"
    },
    "papermill": {
     "duration": 6.796391,
     "end_time": "2025-04-01T16:24:14.739003",
     "exception": false,
     "start_time": "2025-04-01T16:24:07.942612",
     "status": "completed"
    },
    "tags": []
   },
   "outputs": [],
   "source": [
    "import pandas as pd\n",
    "import numpy as np\n",
    "import seaborn as sns\n",
    "import matplotlib.pyplot as plt\n",
    "import seaborn as sns\n",
    "import torch\n",
    "import scipy.stats as stats\n",
    "import re\n",
    "import nltk\n",
    "from nltk.corpus import words\n",
    "from collections import Counter\n",
    "import math\n",
    "import unicodedata\n",
    "import time\n",
    "from tqdm import tqdm\n",
    "import pickle\n",
    "from langdetect import detect\n",
    "import warnings\n",
    "import pycountry\n",
    "from scipy import stats\n",
    "from collections import defaultdict\n",
    "import itertools\n",
    "import os"
   ]
  },
  {
   "cell_type": "code",
   "execution_count": 3,
   "id": "7f485078",
   "metadata": {
    "execution": {
     "iopub.execute_input": "2025-04-01T16:24:14.759547Z",
     "iopub.status.busy": "2025-04-01T16:24:14.758997Z",
     "iopub.status.idle": "2025-04-01T16:24:18.644791Z",
     "shell.execute_reply": "2025-04-01T16:24:18.643701Z"
    },
    "papermill": {
     "duration": 3.897687,
     "end_time": "2025-04-01T16:24:18.646372",
     "exception": false,
     "start_time": "2025-04-01T16:24:14.748685",
     "status": "completed"
    },
    "tags": []
   },
   "outputs": [
    {
     "name": "stdout",
     "output_type": "stream",
     "text": [
      "File '/kaggle/working/embeddings.npy' does not exist.\n",
      "Index(['pos_word_count', 'neg_word_count', 'negated_pos_count',\n",
      "       'negated_neg_count', 'review', 'sentiment', 'language',\n",
      "       'pos_ngram_count', 'neg_ngram_count', 'polarity_score',\n",
      "       'exclamation_count', 'uppercase_ratio'],\n",
      "      dtype='object')\n"
     ]
    }
   ],
   "source": [
    "# Load in sentiment data with sentiment features calcualted\n",
    "train_df = pd.read_pickle('/kaggle/input/reviews-analyzer-dataset/sentiment_data/sentiment_train.pkl')\n",
    "val_df = pd.read_pickle('/kaggle/input/reviews-analyzer-dataset/sentiment_data/sentiment_val.pkl')\n",
    "test_df = pd.read_pickle('/kaggle/input/reviews-analyzer-dataset/sentiment_data/sentiment_train.pkl')\n",
    "\n",
    "# Recombine becuase we forgot to not split before\n",
    "file_path = '/kaggle/working/embeddings.npy'\n",
    "if os.path.exists(file_path):\n",
    "    os.remove(file_path)\n",
    "    print(f\"File '{file_path}' has been deleted.\")\n",
    "else:\n",
    "    print(f\"File '{file_path}' does not exist.\")\n",
    "\n",
    "# Clean out entries with no review\n",
    "train_df = train_df.dropna(subset=['review'])\n",
    "val_df = val_df.dropna(subset=['review'])\n",
    "test_df = test_df.dropna(subset=['review'])\n",
    "\n",
    "# Take samples for experimentation - FOR REAL RUN DON'T COMMENT sample size\n",
    "sample_size = 1000\n",
    "train_df = train_df.sample(n=sample_size)\n",
    "#val_df = val_df.sample(n=sample_size)\n",
    "#test_df = test_df.sample(n=sample_size)\n",
    "\n",
    "print(train_df.columns)"
   ]
  },
  {
   "cell_type": "code",
   "execution_count": 4,
   "id": "4b6779d2",
   "metadata": {
    "execution": {
     "iopub.execute_input": "2025-04-01T16:24:18.667332Z",
     "iopub.status.busy": "2025-04-01T16:24:18.666962Z",
     "iopub.status.idle": "2025-04-01T16:24:18.697589Z",
     "shell.execute_reply": "2025-04-01T16:24:18.696661Z"
    },
    "papermill": {
     "duration": 0.043001,
     "end_time": "2025-04-01T16:24:18.699457",
     "exception": false,
     "start_time": "2025-04-01T16:24:18.656456",
     "status": "completed"
    },
    "tags": []
   },
   "outputs": [
    {
     "data": {
      "text/html": [
       "<div>\n",
       "<style scoped>\n",
       "    .dataframe tbody tr th:only-of-type {\n",
       "        vertical-align: middle;\n",
       "    }\n",
       "\n",
       "    .dataframe tbody tr th {\n",
       "        vertical-align: top;\n",
       "    }\n",
       "\n",
       "    .dataframe thead th {\n",
       "        text-align: right;\n",
       "    }\n",
       "</style>\n",
       "<table border=\"1\" class=\"dataframe\">\n",
       "  <thead>\n",
       "    <tr style=\"text-align: right;\">\n",
       "      <th></th>\n",
       "      <th>pos_word_count</th>\n",
       "      <th>neg_word_count</th>\n",
       "      <th>negated_pos_count</th>\n",
       "      <th>negated_neg_count</th>\n",
       "      <th>review</th>\n",
       "      <th>sentiment</th>\n",
       "      <th>language</th>\n",
       "      <th>pos_ngram_count</th>\n",
       "      <th>neg_ngram_count</th>\n",
       "      <th>polarity_score</th>\n",
       "      <th>exclamation_count</th>\n",
       "      <th>uppercase_ratio</th>\n",
       "    </tr>\n",
       "  </thead>\n",
       "  <tbody>\n",
       "    <tr>\n",
       "      <th>709735</th>\n",
       "      <td>4.0</td>\n",
       "      <td>0.0</td>\n",
       "      <td>0.0</td>\n",
       "      <td>0.0</td>\n",
       "      <td>Definitely the best accounting course. My wife...</td>\n",
       "      <td>2</td>\n",
       "      <td>english</td>\n",
       "      <td>0.0</td>\n",
       "      <td>0.0</td>\n",
       "      <td>1.0000</td>\n",
       "      <td>0.0</td>\n",
       "      <td>0.032432</td>\n",
       "    </tr>\n",
       "    <tr>\n",
       "      <th>268409</th>\n",
       "      <td>2.0</td>\n",
       "      <td>0.0</td>\n",
       "      <td>0.0</td>\n",
       "      <td>0.0</td>\n",
       "      <td>Friendly, nice professor.</td>\n",
       "      <td>2</td>\n",
       "      <td>english</td>\n",
       "      <td>0.0</td>\n",
       "      <td>0.0</td>\n",
       "      <td>0.9154</td>\n",
       "      <td>0.0</td>\n",
       "      <td>0.038462</td>\n",
       "    </tr>\n",
       "    <tr>\n",
       "      <th>1147493</th>\n",
       "      <td>1.0</td>\n",
       "      <td>0.0</td>\n",
       "      <td>0.0</td>\n",
       "      <td>0.0</td>\n",
       "      <td>Brilliant!</td>\n",
       "      <td>2</td>\n",
       "      <td>english</td>\n",
       "      <td>0.0</td>\n",
       "      <td>0.0</td>\n",
       "      <td>0.5859</td>\n",
       "      <td>1.0</td>\n",
       "      <td>0.100000</td>\n",
       "    </tr>\n",
       "    <tr>\n",
       "      <th>1253757</th>\n",
       "      <td>0.0</td>\n",
       "      <td>0.0</td>\n",
       "      <td>0.0</td>\n",
       "      <td>0.0</td>\n",
       "      <td>Muy bueno. Aunque falta calidad en los videos.</td>\n",
       "      <td>2</td>\n",
       "      <td>spanish</td>\n",
       "      <td>0.0</td>\n",
       "      <td>0.0</td>\n",
       "      <td>0.0000</td>\n",
       "      <td>0.0</td>\n",
       "      <td>0.043478</td>\n",
       "    </tr>\n",
       "    <tr>\n",
       "      <th>1272356</th>\n",
       "      <td>0.0</td>\n",
       "      <td>3.0</td>\n",
       "      <td>0.0</td>\n",
       "      <td>0.0</td>\n",
       "      <td>En general me gustó mucho el curso, las unidad...</td>\n",
       "      <td>2</td>\n",
       "      <td>spanish</td>\n",
       "      <td>0.0</td>\n",
       "      <td>0.0</td>\n",
       "      <td>-1.0000</td>\n",
       "      <td>0.0</td>\n",
       "      <td>0.012216</td>\n",
       "    </tr>\n",
       "    <tr>\n",
       "      <th>...</th>\n",
       "      <td>...</td>\n",
       "      <td>...</td>\n",
       "      <td>...</td>\n",
       "      <td>...</td>\n",
       "      <td>...</td>\n",
       "      <td>...</td>\n",
       "      <td>...</td>\n",
       "      <td>...</td>\n",
       "      <td>...</td>\n",
       "      <td>...</td>\n",
       "      <td>...</td>\n",
       "      <td>...</td>\n",
       "    </tr>\n",
       "    <tr>\n",
       "      <th>883900</th>\n",
       "      <td>3.0</td>\n",
       "      <td>0.0</td>\n",
       "      <td>0.0</td>\n",
       "      <td>0.0</td>\n",
       "      <td>I love the course, thanks so much for making i...</td>\n",
       "      <td>2</td>\n",
       "      <td>english</td>\n",
       "      <td>0.0</td>\n",
       "      <td>0.0</td>\n",
       "      <td>1.0000</td>\n",
       "      <td>0.0</td>\n",
       "      <td>0.016529</td>\n",
       "    </tr>\n",
       "    <tr>\n",
       "      <th>1317351</th>\n",
       "      <td>1.0</td>\n",
       "      <td>0.0</td>\n",
       "      <td>0.0</td>\n",
       "      <td>0.0</td>\n",
       "      <td>AWESOME</td>\n",
       "      <td>2</td>\n",
       "      <td>tagalog</td>\n",
       "      <td>0.0</td>\n",
       "      <td>0.0</td>\n",
       "      <td>0.6249</td>\n",
       "      <td>0.0</td>\n",
       "      <td>1.000000</td>\n",
       "    </tr>\n",
       "    <tr>\n",
       "      <th>1414454</th>\n",
       "      <td>2.0</td>\n",
       "      <td>0.0</td>\n",
       "      <td>0.0</td>\n",
       "      <td>0.0</td>\n",
       "      <td>This course is really useful, as a overview of...</td>\n",
       "      <td>2</td>\n",
       "      <td>english</td>\n",
       "      <td>0.0</td>\n",
       "      <td>0.0</td>\n",
       "      <td>0.7586</td>\n",
       "      <td>0.0</td>\n",
       "      <td>0.012048</td>\n",
       "    </tr>\n",
       "    <tr>\n",
       "      <th>1179993</th>\n",
       "      <td>12.0</td>\n",
       "      <td>1.0</td>\n",
       "      <td>0.0</td>\n",
       "      <td>0.0</td>\n",
       "      <td>What an absolute delight it was to be enrolled...</td>\n",
       "      <td>2</td>\n",
       "      <td>english</td>\n",
       "      <td>1.0</td>\n",
       "      <td>0.0</td>\n",
       "      <td>1.0000</td>\n",
       "      <td>2.0</td>\n",
       "      <td>0.016209</td>\n",
       "    </tr>\n",
       "    <tr>\n",
       "      <th>1027221</th>\n",
       "      <td>2.0</td>\n",
       "      <td>0.0</td>\n",
       "      <td>0.0</td>\n",
       "      <td>0.0</td>\n",
       "      <td>Pretty good course overall. Ran into a few iss...</td>\n",
       "      <td>2</td>\n",
       "      <td>english</td>\n",
       "      <td>1.0</td>\n",
       "      <td>0.0</td>\n",
       "      <td>1.0000</td>\n",
       "      <td>0.0</td>\n",
       "      <td>0.032258</td>\n",
       "    </tr>\n",
       "  </tbody>\n",
       "</table>\n",
       "<p>1000 rows × 12 columns</p>\n",
       "</div>"
      ],
      "text/plain": [
       "         pos_word_count  neg_word_count  negated_pos_count  negated_neg_count  \\\n",
       "709735              4.0             0.0                0.0                0.0   \n",
       "268409              2.0             0.0                0.0                0.0   \n",
       "1147493             1.0             0.0                0.0                0.0   \n",
       "1253757             0.0             0.0                0.0                0.0   \n",
       "1272356             0.0             3.0                0.0                0.0   \n",
       "...                 ...             ...                ...                ...   \n",
       "883900              3.0             0.0                0.0                0.0   \n",
       "1317351             1.0             0.0                0.0                0.0   \n",
       "1414454             2.0             0.0                0.0                0.0   \n",
       "1179993            12.0             1.0                0.0                0.0   \n",
       "1027221             2.0             0.0                0.0                0.0   \n",
       "\n",
       "                                                    review  sentiment  \\\n",
       "709735   Definitely the best accounting course. My wife...          2   \n",
       "268409                          Friendly, nice professor.           2   \n",
       "1147493                                         Brilliant!          2   \n",
       "1253757     Muy bueno. Aunque falta calidad en los videos.          2   \n",
       "1272356  En general me gustó mucho el curso, las unidad...          2   \n",
       "...                                                    ...        ...   \n",
       "883900   I love the course, thanks so much for making i...          2   \n",
       "1317351                                            AWESOME          2   \n",
       "1414454  This course is really useful, as a overview of...          2   \n",
       "1179993  What an absolute delight it was to be enrolled...          2   \n",
       "1027221  Pretty good course overall. Ran into a few iss...          2   \n",
       "\n",
       "        language  pos_ngram_count  neg_ngram_count  polarity_score  \\\n",
       "709735   english              0.0              0.0          1.0000   \n",
       "268409   english              0.0              0.0          0.9154   \n",
       "1147493  english              0.0              0.0          0.5859   \n",
       "1253757  spanish              0.0              0.0          0.0000   \n",
       "1272356  spanish              0.0              0.0         -1.0000   \n",
       "...          ...              ...              ...             ...   \n",
       "883900   english              0.0              0.0          1.0000   \n",
       "1317351  tagalog              0.0              0.0          0.6249   \n",
       "1414454  english              0.0              0.0          0.7586   \n",
       "1179993  english              1.0              0.0          1.0000   \n",
       "1027221  english              1.0              0.0          1.0000   \n",
       "\n",
       "         exclamation_count  uppercase_ratio  \n",
       "709735                 0.0         0.032432  \n",
       "268409                 0.0         0.038462  \n",
       "1147493                1.0         0.100000  \n",
       "1253757                0.0         0.043478  \n",
       "1272356                0.0         0.012216  \n",
       "...                    ...              ...  \n",
       "883900                 0.0         0.016529  \n",
       "1317351                0.0         1.000000  \n",
       "1414454                0.0         0.012048  \n",
       "1179993                2.0         0.016209  \n",
       "1027221                0.0         0.032258  \n",
       "\n",
       "[1000 rows x 12 columns]"
      ]
     },
     "execution_count": 4,
     "metadata": {},
     "output_type": "execute_result"
    }
   ],
   "source": [
    "train_df"
   ]
  },
  {
   "cell_type": "code",
   "execution_count": 5,
   "id": "60ccee17",
   "metadata": {
    "execution": {
     "iopub.execute_input": "2025-04-01T16:24:18.721934Z",
     "iopub.status.busy": "2025-04-01T16:24:18.721614Z",
     "iopub.status.idle": "2025-04-01T16:24:18.738430Z",
     "shell.execute_reply": "2025-04-01T16:24:18.737589Z"
    },
    "papermill": {
     "duration": 0.02919,
     "end_time": "2025-04-01T16:24:18.739915",
     "exception": false,
     "start_time": "2025-04-01T16:24:18.710725",
     "status": "completed"
    },
    "tags": []
   },
   "outputs": [],
   "source": [
    "# FEATURE - Calculate entropy\n",
    "def calculate_entropy(text):\n",
    "    \"\"\"Calculate Shannon entropy of the text to detect randomness.\"\"\"\n",
    "    if not text:\n",
    "        return 0\n",
    "    if not isinstance(text, str) or pd.isna(text):\n",
    "        return 0  # Return 0 for NaN or non-string values\n",
    "    text = str(text).lower()\n",
    "    length = len(text)\n",
    "    if length == 0:  # Handle empty strings\n",
    "        return 0\n",
    "    char_counts = Counter(text)\n",
    "    entropy = -sum((count/length) * math.log2(count/length) for count in char_counts.values())\n",
    "    return entropy\n",
    "\n",
    "def create_entropy_feature(df, review_col='review'):\n",
    "    tqdm.pandas(desc='Calculating entropies: ')\n",
    "    df['entropy'] = df['review'].progress_apply(calculate_entropy)\n",
    "    return df\n",
    "\n",
    "# Suppress langdetect warnings for cleaner output\n",
    "warnings.filterwarnings(\"ignore\", category=UserWarning)\n",
    "\n",
    "def detect_language(text):\n",
    "\n",
    "    if not isinstance(text, str) or pd.isna(text) or len(text.strip()) < 3:\n",
    "        return 'unknown'  # For NaN, empty, or very short text\n",
    "    try:\n",
    "        return detect(text)\n",
    "    except:\n",
    "        return 'unknown'  # Fallback for any detection errors\n",
    "\n",
    "# Returns 0 if we can't find the langauge, 1 if we can\n",
    "def cannot_detect_language(text):\n",
    "    if text == 'unknown':\n",
    "        return 1\n",
    "    else:\n",
    "        return 0\n",
    "\n",
    "def create_can_detect_feature(df, review_col='review'):\n",
    "    tqdm.pandas(desc=\"Detecting Language...\")\n",
    "    df['language'] = df[review_col].progress_apply(detect_language)\n",
    "    df['cannot_detect_language'] = df['language'].progress_apply(cannot_detect_language)\n",
    "    return df\n",
    "\n",
    "# 3x FEATURES - Total characters in review, word count of review, avg word length\n",
    "def word_count(text):\n",
    "    words = re.split(f'\\s+', text.strip())\n",
    "    word_count = len(words)\n",
    "    return word_count\n",
    "\n",
    "def char_count(text):\n",
    "    return len(text)\n",
    "\n",
    "def create_word_and_char_counts_feature(df, review_col='review'):\n",
    "    tqdm.pandas(desc='Getting word/char counts...')\n",
    "    df['word_count'] = df[review_col].progress_apply(word_count)\n",
    "    df['n_chars'] = df[review_col].progress_apply(char_count)\n",
    "    return df\n",
    "\n",
    "def get_avg_word_length(text):\n",
    "    # avg word length\n",
    "    words = re.split(f'\\s+', text.strip())\n",
    "    word_count = len(words)\n",
    "    avg_word_length = sum(len(word) for word in words if word) / max(1, word_count) if words else 0\n",
    "    return avg_word_length\n",
    "\n",
    "def create_avg_word_length_feature(df, review_col='review'):\n",
    "    tqdm.pandas(desc='Getting avg word length feature...')\n",
    "    df['avg_word_length'] = df[review_col].progress_apply(get_avg_word_length)\n",
    "    return df\n",
    "\n",
    "# FEATURE - Amount of Reptition\n",
    "def get_max_repeated(text):\n",
    "    max_repeats = max([sum(1 for _ in g) for _, g in itertools.groupby(text)] or [0])\n",
    "    return max_repeats\n",
    "def create_repetition_feature(df, review_col='review'):\n",
    "    tqdm.pandas(desc='Creating repetition feature...')\n",
    "    df['max_repeated'] = df[review_col].progress_apply(get_max_repeated)\n",
    "    return df\n",
    "\n",
    "def get_punct_ratio(text):\n",
    "    char_length = len(text)\n",
    "    punct_count = sum(1 for c in text if c in '.,!?')\n",
    "    punct_ratio = punct_count / max(1, char_length)\n",
    "    return punct_ratio\n",
    "    \n",
    "def create_punct_ratio_feature(df, review_col='review'):\n",
    "    tqdm.pandas(desc='Creating punctuation ratio feature...')\n",
    "    df['punct_ratio'] = df[review_col].progress_apply(get_punct_ratio)\n",
    "    return df\n",
    "\n",
    "# FEATURE - Contains common n-grams\n",
    "# Step 1 - Build n-gram reference from sample of real reviews\n",
    "def build_ngram_reference(texts, n=2, top_k=1000, sample_size=10000):\n",
    "\n",
    "    # Sample texts to avoid over-processing (e.g., 1.19M reviews)\n",
    "    if len(texts) > sample_size:\n",
    "        texts = np.random.choice(texts, sample_size, replace=False)\n",
    "    \n",
    "    # Generate n-grams\n",
    "    ngrams = Counter()\n",
    "    for text in tqdm(texts, desc=\"Building n-gram reference...\"):\n",
    "        text = str(text).lower()\n",
    "        for i in range(len(text) - n + 1):\n",
    "            ngram = text[i:i+n]\n",
    "            if not ngram.isspace():\n",
    "                ngrams[ngram] += 1\n",
    "    \n",
    "    # Return top k most common n-grams\n",
    "    return set([ngram for ngram, _ in ngrams.most_common(top_k)])\n",
    "\n",
    "# FEATURE - ngram coherence, fraction of ngrams that appear in list of common ngrams\n",
    "def get_ngram_coherence(text, n=2):\n",
    "    text_lower = text.lower()\n",
    "    total_ngrams = max(1, len(text_lower) - n + 1)\n",
    "    valid_ngrams = sum(1 for i in range(total_ngrams) if text_lower[i:i+n] in ngram_ref)\n",
    "    ngram_coherence = valid_ngrams / total_ngrams\n",
    "    return ngram_coherence\n",
    "\n",
    "def create_ngram_coherence_feature(df, ngram_ref, review_col='review'):\n",
    "    tqdm.pandas(desc='Calcualting ngram coherenece...')\n",
    "    df['ngram_coherence'] = df[review_col].progress_apply(get_ngram_coherence)\n",
    "    return df"
   ]
  },
  {
   "cell_type": "code",
   "execution_count": 6,
   "id": "8c5284f2",
   "metadata": {
    "execution": {
     "iopub.execute_input": "2025-04-01T16:24:18.762199Z",
     "iopub.status.busy": "2025-04-01T16:24:18.761850Z",
     "iopub.status.idle": "2025-04-01T16:24:48.136302Z",
     "shell.execute_reply": "2025-04-01T16:24:48.135351Z"
    },
    "papermill": {
     "duration": 29.387462,
     "end_time": "2025-04-01T16:24:48.138183",
     "exception": false,
     "start_time": "2025-04-01T16:24:18.750721",
     "status": "completed"
    },
    "tags": []
   },
   "outputs": [
    {
     "data": {
      "application/vnd.jupyter.widget-view+json": {
       "model_id": "a69d0d5bd3054eeba8c9d682c6459a64",
       "version_major": 2,
       "version_minor": 0
      },
      "text/plain": [
       "tokenizer_config.json:   0%|          | 0.00/25.0 [00:00<?, ?B/s]"
      ]
     },
     "metadata": {},
     "output_type": "display_data"
    },
    {
     "data": {
      "application/vnd.jupyter.widget-view+json": {
       "model_id": "6b96d094f2d746e2978f947d2fc467d2",
       "version_major": 2,
       "version_minor": 0
      },
      "text/plain": [
       "sentencepiece.bpe.model:   0%|          | 0.00/5.07M [00:00<?, ?B/s]"
      ]
     },
     "metadata": {},
     "output_type": "display_data"
    },
    {
     "data": {
      "application/vnd.jupyter.widget-view+json": {
       "model_id": "4e3306d633e64fea936de9aaeaa16c60",
       "version_major": 2,
       "version_minor": 0
      },
      "text/plain": [
       "tokenizer.json:   0%|          | 0.00/9.10M [00:00<?, ?B/s]"
      ]
     },
     "metadata": {},
     "output_type": "display_data"
    },
    {
     "data": {
      "application/vnd.jupyter.widget-view+json": {
       "model_id": "40dd71ee70ba461481f6e73a2576385a",
       "version_major": 2,
       "version_minor": 0
      },
      "text/plain": [
       "config.json:   0%|          | 0.00/615 [00:00<?, ?B/s]"
      ]
     },
     "metadata": {},
     "output_type": "display_data"
    },
    {
     "data": {
      "application/vnd.jupyter.widget-view+json": {
       "model_id": "601e96be6f264fd88eb03b620e265734",
       "version_major": 2,
       "version_minor": 0
      },
      "text/plain": [
       "model.safetensors:   0%|          | 0.00/1.12G [00:00<?, ?B/s]"
      ]
     },
     "metadata": {},
     "output_type": "display_data"
    }
   ],
   "source": [
    "from transformers import XLMRobertaTokenizer, XLMRobertaModel\n",
    "import torch\n",
    "from sklearn.metrics.pairwise import cosine_similarity\n",
    "\n",
    "# Load pre-trained XLM-R model and tokenizer\n",
    "tokenizer = XLMRobertaTokenizer.from_pretrained('xlm-roberta-base')\n",
    "embeddings_model = XLMRobertaModel.from_pretrained('xlm-roberta-base')\n",
    "device = torch.device('cuda' if torch.cuda.is_available() else 'cpu')\n",
    "embeddings_model.to(device)\n",
    "embeddings_model.eval()\n",
    "\n",
    "# Function to get embeddings in batches\n",
    "def get_embeddings(texts, batch_size=32):\n",
    "    embeddings = []\n",
    "    for i in tqdm(range(0, len(texts), batch_size), desc=\"Generating embeddings\"):\n",
    "        batch_texts = texts[i:i + batch_size]\n",
    "        inputs = tokenizer(batch_texts, return_tensors='pt', padding=True, truncation=True, max_length=128)\n",
    "        inputs = {k: v.to(device) for k, v in inputs.items()}\n",
    "        with torch.no_grad():\n",
    "            outputs = embeddings_model(**inputs)\n",
    "        # Use [CLS] token embedding (first token)\n",
    "        batch_embeddings = outputs.last_hidden_state[:, 0, :].cpu().numpy()\n",
    "        embeddings.append(batch_embeddings)\n",
    "    return np.vstack(embeddings)\n",
    "    \n",
    "# Compute centroid from substantive reviews\n",
    "def compute_centroid(df, review_col='review', label_col='is_gibberish', sample_size=10000):\n",
    "    # Use real reviews (training data only)\n",
    "    real_texts = df[df[label_col] == 0][review_col].dropna().tolist()\n",
    "    if len(real_texts) > sample_size:\n",
    "        real_texts = np.random.choice(real_texts, sample_size, replace=False).tolist()\n",
    "    embeddings = get_embeddings(real_texts)\n",
    "    return np.mean(embeddings, axis=0)\n",
    "\n",
    "# Add embedding-based features\n",
    "def add_embedding_features(df, centroid, review_col='review', embed_path=None):\n",
    "    if embed_path and os.path.exists(embed_path):\n",
    "        print(f\"Loading embeddings from {embed_path}\")\n",
    "        embeddings = np.load(embed_path)\n",
    "    else:\n",
    "        texts = df[review_col].fillna('').tolist()\n",
    "        embeddings = get_embeddings(texts)\n",
    "        if embed_path:\n",
    "            np.save(embed_path, embeddings)\n",
    "            print(f\"Saved embeddings to {embed_path}\")\n",
    "    \n",
    "    # Cosine similarity to centroid\n",
    "    cosine_sim = cosine_similarity(embeddings, centroid.reshape(1, -1)).flatten()\n",
    "    \n",
    "    # Anomaly score (Euclidean distance)\n",
    "    anomaly_score = np.linalg.norm(embeddings - centroid, axis=1)\n",
    "    \n",
    "    df['cosine_to_centroid'] = cosine_sim\n",
    "    df['anomaly_score'] = anomaly_score\n",
    "    return df"
   ]
  },
  {
   "cell_type": "code",
   "execution_count": 7,
   "id": "d56e9e9e",
   "metadata": {
    "execution": {
     "iopub.execute_input": "2025-04-01T16:24:48.161958Z",
     "iopub.status.busy": "2025-04-01T16:24:48.161290Z",
     "iopub.status.idle": "2025-04-01T16:24:48.166875Z",
     "shell.execute_reply": "2025-04-01T16:24:48.165937Z"
    },
    "papermill": {
     "duration": 0.018712,
     "end_time": "2025-04-01T16:24:48.168435",
     "exception": false,
     "start_time": "2025-04-01T16:24:48.149723",
     "status": "completed"
    },
    "tags": []
   },
   "outputs": [],
   "source": [
    "def create_feature_df(df, review_col='review', ngram_ref=None, centroid=None):\n",
    "    df = create_entropy_feature(df, review_col='review')\n",
    "    df = create_can_detect_feature(df, review_col='review')\n",
    "    #df = create_alphabet_tag_feature(df, review_col='review')\n",
    "    df = create_word_and_char_counts_feature(df, review_col='review')\n",
    "    df = create_avg_word_length_feature(df, review_col='review')\n",
    "    df = create_repetition_feature(df, review_col='review')\n",
    "    df = create_punct_ratio_feature(df, review_col='review')\n",
    "    df = create_ngram_coherence_feature(df, ngram_ref, review_col='review')\n",
    "    df = add_embedding_features(df, centroid)\n",
    "    #train_embed_path = 'train_embeddings.npy'\n",
    "    #test_embed_path = 'test_embeddings.npy'\n",
    "    return df"
   ]
  },
  {
   "cell_type": "code",
   "execution_count": 8,
   "id": "850abd13",
   "metadata": {
    "execution": {
     "iopub.execute_input": "2025-04-01T16:24:48.191600Z",
     "iopub.status.busy": "2025-04-01T16:24:48.191221Z",
     "iopub.status.idle": "2025-04-01T16:24:58.769564Z",
     "shell.execute_reply": "2025-04-01T16:24:58.768520Z"
    },
    "papermill": {
     "duration": 10.591942,
     "end_time": "2025-04-01T16:24:58.771472",
     "exception": false,
     "start_time": "2025-04-01T16:24:48.179530",
     "status": "completed"
    },
    "tags": []
   },
   "outputs": [
    {
     "name": "stderr",
     "output_type": "stream",
     "text": [
      "Calculating entropies: 100%|██████████| 1000/1000 [00:00<00:00, 56530.82it/s]\n",
      "Detecting Language...: 100%|██████████| 1000/1000 [00:06<00:00, 156.08it/s]\n",
      "Detecting Language...: 100%|██████████| 1000/1000 [00:00<00:00, 427031.56it/s]\n",
      "Getting word/char counts...: 100%|██████████| 1000/1000 [00:00<00:00, 90579.94it/s]\n",
      "Getting word/char counts...: 100%|██████████| 1000/1000 [00:00<00:00, 563220.63it/s]\n",
      "Getting avg word length feature...: 100%|██████████| 1000/1000 [00:00<00:00, 68948.97it/s]\n",
      "Creating repetition feature...: 100%|██████████| 1000/1000 [00:00<00:00, 13379.13it/s]\n",
      "Creating punctuation ratio feature...: 100%|██████████| 1000/1000 [00:00<00:00, 114796.07it/s]\n",
      "Calcualting ngram coherenece...: 100%|██████████| 1000/1000 [00:00<00:00, 29346.60it/s]\n",
      "Generating embeddings: 100%|██████████| 32/32 [00:03<00:00,  8.16it/s]\n"
     ]
    }
   ],
   "source": [
    "# Load precomputed centroid and ngram_ref from Amazon full training set\n",
    "with open('/kaggle/input/reviews-analyzer-dataset/coursera_gibberish/ngram_ref.pkl', 'rb') as f:\n",
    "    ngram_ref = pickle.load(f)\n",
    "with open('/kaggle/input/reviews-analyzer-dataset/coursera_gibberish/centroid.pkl', 'rb') as f:\n",
    "    centroid = pickle.load(f)\n",
    "    \n",
    "# Step 3: Create feature DataFrames\n",
    "train_features = create_feature_df(train_df, ngram_ref=ngram_ref, centroid=centroid)"
   ]
  },
  {
   "cell_type": "code",
   "execution_count": 9,
   "id": "35486b2c",
   "metadata": {
    "execution": {
     "iopub.execute_input": "2025-04-01T16:24:58.805629Z",
     "iopub.status.busy": "2025-04-01T16:24:58.805276Z",
     "iopub.status.idle": "2025-04-01T16:24:58.810975Z",
     "shell.execute_reply": "2025-04-01T16:24:58.810243Z"
    },
    "papermill": {
     "duration": 0.024279,
     "end_time": "2025-04-01T16:24:58.812435",
     "exception": false,
     "start_time": "2025-04-01T16:24:58.788156",
     "status": "completed"
    },
    "tags": []
   },
   "outputs": [
    {
     "data": {
      "text/plain": [
       "Index(['pos_word_count', 'neg_word_count', 'negated_pos_count',\n",
       "       'negated_neg_count', 'review', 'sentiment', 'language',\n",
       "       'pos_ngram_count', 'neg_ngram_count', 'polarity_score',\n",
       "       'exclamation_count', 'uppercase_ratio', 'entropy',\n",
       "       'cannot_detect_language', 'word_count', 'n_chars', 'avg_word_length',\n",
       "       'max_repeated', 'punct_ratio', 'ngram_coherence', 'cosine_to_centroid',\n",
       "       'anomaly_score'],\n",
       "      dtype='object')"
      ]
     },
     "execution_count": 9,
     "metadata": {},
     "output_type": "execute_result"
    }
   ],
   "source": [
    "train_features.columns"
   ]
  },
  {
   "cell_type": "code",
   "execution_count": 10,
   "id": "6deb3ebe",
   "metadata": {
    "execution": {
     "iopub.execute_input": "2025-04-01T16:24:58.846634Z",
     "iopub.status.busy": "2025-04-01T16:24:58.846262Z",
     "iopub.status.idle": "2025-04-01T16:25:04.025474Z",
     "shell.execute_reply": "2025-04-01T16:25:04.024342Z"
    },
    "papermill": {
     "duration": 5.198382,
     "end_time": "2025-04-01T16:25:04.027874",
     "exception": false,
     "start_time": "2025-04-01T16:24:58.829492",
     "status": "completed"
    },
    "tags": []
   },
   "outputs": [
    {
     "data": {
      "image/png": "[encoded data removed]",
      "text/plain": [
       "<Figure size 1500x1000 with 20 Axes>"
      ]
     },
     "metadata": {},
     "output_type": "display_data"
    }
   ],
   "source": [
    "#sns.histplot(data=train_features, x='neg_word_count')\n",
    "train_features[['pos_word_count', 'neg_word_count', 'negated_pos_count',\n",
    "       'negated_neg_count', 'pos_ngram_count', 'neg_ngram_count',\n",
    "       'polarity_score', 'exclamation_count', 'uppercase_ratio',\n",
    "       'sentiment', 'entropy',\n",
    "       'word_count', 'n_chars', 'avg_word_length', 'max_repeated',\n",
    "       'punct_ratio', 'ngram_coherence', 'cosine_to_centroid',\n",
    "       'anomaly_score']].hist(figsize=(15, 10))\n",
    "plt.suptitle(\"Distributions of Sentiment and Gibberish Features - Coursera Reviews\", fontweight='bold', fontsize=14)\n",
    "plt.tight_layout()\n",
    "plt.savefig('dists_of_sentiment_and_gibberish_features.png')\n",
    "plt.show()"
   ]
  },
  {
   "cell_type": "code",
   "execution_count": 11,
   "id": "44c481b9",
   "metadata": {
    "execution": {
     "iopub.execute_input": "2025-04-01T16:25:04.071794Z",
     "iopub.status.busy": "2025-04-01T16:25:04.071422Z",
     "iopub.status.idle": "2025-04-01T16:25:04.368984Z",
     "shell.execute_reply": "2025-04-01T16:25:04.367919Z"
    },
    "papermill": {
     "duration": 0.320045,
     "end_time": "2025-04-01T16:25:04.370737",
     "exception": false,
     "start_time": "2025-04-01T16:25:04.050692",
     "status": "completed"
    },
    "tags": []
   },
   "outputs": [],
   "source": [
    "# Choose the relevant columns\n",
    "model_features = ['cannot_detect_language', 'entropy', 'word_count', 'avg_word_length',\n",
    "                  'ngram_coherence', 'anomaly_score', 'punct_ratio', 'max_repeated']\n",
    "feed_into_model_df = train_features.reindex(columns=model_features)\n",
    "\n",
    "# Run the model on coursera stuff\n",
    "model_path = '/kaggle/input/reviews-analyzer-dataset/gibberish_random_forest_model.pkl'\n",
    "with open(model_path, 'rb') as f:\n",
    "    gibberish_model = pickle.load(f)\n",
    "\n",
    "train_filtered_df = train_features.copy()\n",
    "train_filtered_df['is_gibberish'] = gibberish_model.predict(feed_into_model_df)\n",
    "train_filtered_df['gibberish_probs'] = gibberish_model.predict_proba(feed_into_model_df)[:,1]"
   ]
  },
  {
   "cell_type": "code",
   "execution_count": 12,
   "id": "135cdd81",
   "metadata": {
    "execution": {
     "iopub.execute_input": "2025-04-01T16:25:04.411412Z",
     "iopub.status.busy": "2025-04-01T16:25:04.411012Z",
     "iopub.status.idle": "2025-04-01T16:25:04.422690Z",
     "shell.execute_reply": "2025-04-01T16:25:04.421758Z"
    },
    "papermill": {
     "duration": 0.033744,
     "end_time": "2025-04-01T16:25:04.424313",
     "exception": false,
     "start_time": "2025-04-01T16:25:04.390569",
     "status": "completed"
    },
    "tags": []
   },
   "outputs": [
    {
     "data": {
      "text/plain": [
       "is_gibberish\n",
       "0    710\n",
       "1    290\n",
       "Name: count, dtype: int64"
      ]
     },
     "execution_count": 12,
     "metadata": {},
     "output_type": "execute_result"
    }
   ],
   "source": [
    "train_filtered_df.is_gibberish.value_counts()"
   ]
  },
  {
   "cell_type": "markdown",
   "id": "2568bd98",
   "metadata": {
    "papermill": {
     "duration": 0.01928,
     "end_time": "2025-04-01T16:25:04.463908",
     "exception": false,
     "start_time": "2025-04-01T16:25:04.444628",
     "status": "completed"
    },
    "tags": []
   },
   "source": [
    "Looks like way too many reviews are getting tagged as gibberish. At first glance, looks like shorter reviews could be the issue. Let's investigate and then do some model pruning."
   ]
  },
  {
   "cell_type": "markdown",
   "id": "a6d86ead",
   "metadata": {
    "papermill": {
     "duration": 0.020375,
     "end_time": "2025-04-01T16:25:04.503743",
     "exception": false,
     "start_time": "2025-04-01T16:25:04.483368",
     "status": "completed"
    },
    "tags": []
   },
   "source": [
    "## Investigating What is Classified as \"Gibberish\""
   ]
  },
  {
   "cell_type": "markdown",
   "id": "4154a605",
   "metadata": {
    "papermill": {
     "duration": 0.018781,
     "end_time": "2025-04-01T16:25:04.542405",
     "exception": false,
     "start_time": "2025-04-01T16:25:04.523624",
     "status": "completed"
    },
    "tags": []
   },
   "source": [
    "### Word Count and Polarity"
   ]
  },
  {
   "cell_type": "code",
   "execution_count": 13,
   "id": "dd0c8c64",
   "metadata": {
    "execution": {
     "iopub.execute_input": "2025-04-01T16:25:04.581724Z",
     "iopub.status.busy": "2025-04-01T16:25:04.581334Z",
     "iopub.status.idle": "2025-04-01T16:25:04.589101Z",
     "shell.execute_reply": "2025-04-01T16:25:04.588001Z"
    },
    "papermill": {
     "duration": 0.029307,
     "end_time": "2025-04-01T16:25:04.590726",
     "exception": false,
     "start_time": "2025-04-01T16:25:04.561419",
     "status": "completed"
    },
    "tags": []
   },
   "outputs": [
    {
     "name": "stdout",
     "output_type": "stream",
     "text": [
      "Columns with inf values: []\n"
     ]
    }
   ],
   "source": [
    "#train_filtered_df.replace([np.inf, -np.inf], np.nan, inplace=True)\n",
    "inf_columns = train_filtered_df.columns[(train_filtered_df == np.inf).any()]\n",
    "print(\"Columns with inf values:\", inf_columns.tolist())"
   ]
  },
  {
   "cell_type": "code",
   "execution_count": 14,
   "id": "1cd5bb78",
   "metadata": {
    "execution": {
     "iopub.execute_input": "2025-04-01T16:25:04.632918Z",
     "iopub.status.busy": "2025-04-01T16:25:04.632448Z",
     "iopub.status.idle": "2025-04-01T16:25:05.834861Z",
     "shell.execute_reply": "2025-04-01T16:25:05.833879Z"
    },
    "papermill": {
     "duration": 1.224534,
     "end_time": "2025-04-01T16:25:05.836440",
     "exception": false,
     "start_time": "2025-04-01T16:25:04.611906",
     "status": "completed"
    },
    "tags": []
   },
   "outputs": [
    {
     "name": "stderr",
     "output_type": "stream",
     "text": [
      "/usr/local/lib/python3.10/dist-packages/seaborn/_oldcore.py:1119: FutureWarning: use_inf_as_na option is deprecated and will be removed in a future version. Convert inf values to NaN before operating instead.\n",
      "  with pd.option_context('mode.use_inf_as_na', True):\n",
      "/usr/local/lib/python3.10/dist-packages/seaborn/_oldcore.py:1075: FutureWarning: When grouping with a length-1 list-like, you will need to pass a length-1 tuple to get_group in a future version of pandas. Pass `(name,)` instead of `name` to silence this warning.\n",
      "  data_subset = grouped_data.get_group(pd_key)\n",
      "/usr/local/lib/python3.10/dist-packages/seaborn/_oldcore.py:1075: FutureWarning: When grouping with a length-1 list-like, you will need to pass a length-1 tuple to get_group in a future version of pandas. Pass `(name,)` instead of `name` to silence this warning.\n",
      "  data_subset = grouped_data.get_group(pd_key)\n",
      "/usr/local/lib/python3.10/dist-packages/seaborn/_oldcore.py:1075: FutureWarning: When grouping with a length-1 list-like, you will need to pass a length-1 tuple to get_group in a future version of pandas. Pass `(name,)` instead of `name` to silence this warning.\n",
      "  data_subset = grouped_data.get_group(pd_key)\n"
     ]
    },
    {
     "data": {
      "image/png": "[encoded data removed]",
      "text/plain": [
       "<Figure size 800x400 with 2 Axes>"
      ]
     },
     "metadata": {},
     "output_type": "display_data"
    }
   ],
   "source": [
    "# Investigate word counts vs. is gibberish\n",
    "fig, axes = plt.subplots(1,2, figsize=(8,4))\n",
    "sns.histplot(data=train_filtered_df, x='word_count', hue='is_gibberish', ax=axes[0])\n",
    "sns.boxplot(data=train_filtered_df, x=\"is_gibberish\", y='word_count', ax=axes[1])\n",
    "plt.suptitle(f'Word Count Distribution (Sample of n={sample_size} Reviews)', fontweight='bold', fontsize=14)\n",
    "plt.tight_layout()\n",
    "plt.savefig('word_count_gibberish.png')"
   ]
  },
  {
   "cell_type": "markdown",
   "id": "91951030",
   "metadata": {
    "papermill": {
     "duration": 0.020553,
     "end_time": "2025-04-01T16:25:05.878245",
     "exception": false,
     "start_time": "2025-04-01T16:25:05.857692",
     "status": "completed"
    },
    "tags": []
   },
   "source": [
    "So it's pretty clear this is a major issue. Nearly all of the gibberish entries are super short word count wise. Let's look at all of the entries with fewer than 15 words. But if we check some of these out."
   ]
  },
  {
   "cell_type": "code",
   "execution_count": 15,
   "id": "db13c0ae",
   "metadata": {
    "execution": {
     "iopub.execute_input": "2025-04-01T16:25:05.920095Z",
     "iopub.status.busy": "2025-04-01T16:25:05.919661Z",
     "iopub.status.idle": "2025-04-01T16:25:05.930579Z",
     "shell.execute_reply": "2025-04-01T16:25:05.929490Z"
    },
    "papermill": {
     "duration": 0.033674,
     "end_time": "2025-04-01T16:25:05.932174",
     "exception": false,
     "start_time": "2025-04-01T16:25:05.898500",
     "status": "completed"
    },
    "tags": []
   },
   "outputs": [
    {
     "name": "stdout",
     "output_type": "stream",
     "text": [
      "| Stat (N=1000 Sample) | Value | \n",
      "| -- | -- |\n",
      "| No. Short Entries that are Gibberish | 290 |\n",
      "| No. Short Entries Total | 516|\n",
      "| Pct Short Entries that are Gibberish | 56.20%|\n",
      "| Pct Gibberish Entries that are Short | 100.00%|\n"
     ]
    }
   ],
   "source": [
    "short_gibb_entries = train_filtered_df[(train_filtered_df['word_count']<=15) & (train_filtered_df['is_gibberish'] == 1)]\n",
    "short_entries = train_filtered_df[(train_filtered_df['word_count']<=15)]\n",
    "gibb_entries = train_filtered_df[(train_filtered_df['is_gibberish'] == 1)]\n",
    "print(f\"| Stat (N={sample_size} Sample) | Value | \")\n",
    "print(f\"| -- | -- |\")\n",
    "print(f\"| No. Short Entries that are Gibberish | {len(short_gibb_entries)} |\")\n",
    "print(f\"| No. Short Entries Total | {len(short_entries)}|\")\n",
    "print(f\"| Pct Short Entries that are Gibberish | {len(short_gibb_entries)/len(short_entries):.2%}|\")\n",
    "print(f\"| Pct Gibberish Entries that are Short | {len(short_gibb_entries)/len(gibb_entries):.2%}|\")\n"
   ]
  },
  {
   "cell_type": "markdown",
   "id": "90be3495",
   "metadata": {
    "papermill": {
     "duration": 0.020533,
     "end_time": "2025-04-01T16:25:05.973212",
     "exception": false,
     "start_time": "2025-04-01T16:25:05.952679",
     "status": "completed"
    },
    "tags": []
   },
   "source": [
    "| Stat (N=1000 Sample) | Value | \n",
    "| -- | -- |\n",
    "| No. Short Entries (Gibberish) | 311 |\n",
    "| No. Short Entries Total | 540|\n",
    "| Pct Short Entries that are Gibberish | 57.59%|\n",
    "| Pct Gibberish Entries that are Short | 100.00%|"
   ]
  },
  {
   "cell_type": "code",
   "execution_count": 16,
   "id": "bd184a58",
   "metadata": {
    "execution": {
     "iopub.execute_input": "2025-04-01T16:25:06.016217Z",
     "iopub.status.busy": "2025-04-01T16:25:06.015841Z",
     "iopub.status.idle": "2025-04-01T16:25:07.905844Z",
     "shell.execute_reply": "2025-04-01T16:25:07.904864Z"
    },
    "papermill": {
     "duration": 1.91521,
     "end_time": "2025-04-01T16:25:07.909476",
     "exception": false,
     "start_time": "2025-04-01T16:25:05.994266",
     "status": "completed"
    },
    "tags": []
   },
   "outputs": [
    {
     "data": {
      "image/png": "[encoded data removed]",
      "text/plain": [
       "<Figure size 1000x800 with 4 Axes>"
      ]
     },
     "metadata": {},
     "output_type": "display_data"
    }
   ],
   "source": [
    "short_reviews_df = train_filtered_df[train_filtered_df['word_count'] <= 15]\n",
    "fig, axes = plt.subplots(2,2, figsize=(10,8))\n",
    "sns.scatterplot(data = short_reviews_df, x='word_count', y='gibberish_probs', hue='is_gibberish', ax=axes[0][0])\n",
    "sns.scatterplot(data=short_reviews_df, x='polarity_score', y='gibberish_probs', hue='is_gibberish', ax=axes[0][1])\n",
    "sns.scatterplot(data=short_reviews_df, x='avg_word_length', y='gibberish_probs', hue='is_gibberish', ax=axes[1][0])\n",
    "sns.scatterplot(data=short_reviews_df, x='entropy', y='gibberish_probs', hue='is_gibberish', ax=axes[1][1])\n",
    "plt.suptitle(f'Gibberish Prob. vs. Important Features w/ Word Length <= 15 (Sample n={sample_size})', fontweight='bold', fontsize=14)\n",
    "plt.tight_layout()\n",
    "plt.savefig('gibberish_probs_vs_features.png')"
   ]
  },
  {
   "cell_type": "markdown",
   "id": "2f43fbeb",
   "metadata": {
    "papermill": {
     "duration": 0.027193,
     "end_time": "2025-04-01T16:25:07.964150",
     "exception": false,
     "start_time": "2025-04-01T16:25:07.936957",
     "status": "completed"
    },
    "tags": []
   },
   "source": [
    "Word count is clearly an issue. How can we identify short word counts that are NOT really gibberish. Lots look like \"great course\" or \"thanks\" or \"good one\". How can we otherwise flag these? We could look at polarity, entropy, etc. Let's look at those. Recall that polarity is (Per chatgpt):\n",
    "\n",
    "**Interpreting Polarity Scores**\n",
    "- Polarity ≈ 0 → Neutral sentiment (balanced positive/negative or no strong sentiment)\n",
    "- Polarity > 0 → Positive sentiment (more positive words/phrases than negative)\n",
    "- Polarity < 0 → Negative sentiment (more negative words/phrases than positive)\n",
    "\n",
    "**Specific values:**\n",
    "- 0: Completely neutral (e.g., \"This is a course.\").\n",
    "- 1: Slightly positive (e.g., \"Decent course.\").\n",
    "- 2–3: Clearly positive (e.g., \"Good and useful course!\").\n",
    "- 5+: Strongly positive (e.g., \"Absolutely amazing and fantastic!\").\n",
    "- -1: Slightly negative (e.g., \"Not great.\").\n",
    "- -2 to -3: Clearly negative (e.g., \"Boring and useless.\").\n",
    "- <-5: Extremely negative (e.g., \"Horrible, worst ever!\")."
   ]
  },
  {
   "cell_type": "code",
   "execution_count": 17,
   "id": "a0ececc5",
   "metadata": {
    "execution": {
     "iopub.execute_input": "2025-04-01T16:25:08.019526Z",
     "iopub.status.busy": "2025-04-01T16:25:08.019181Z",
     "iopub.status.idle": "2025-04-01T16:25:08.051949Z",
     "shell.execute_reply": "2025-04-01T16:25:08.050851Z"
    },
    "papermill": {
     "duration": 0.062441,
     "end_time": "2025-04-01T16:25:08.053624",
     "exception": false,
     "start_time": "2025-04-01T16:25:07.991183",
     "status": "completed"
    },
    "tags": []
   },
   "outputs": [
    {
     "name": "stdout",
     "output_type": "stream",
     "text": [
      "Pct. of Short Gibberish Reviews w/ Polarity 0: 6.30%\n"
     ]
    }
   ],
   "source": [
    "# Look at entries with neutral polarity and low word count\n",
    "short_reviews_df[(short_reviews_df['is_gibberish'] == 1) & (short_reviews_df['polarity_score'] == 0)].sample(n=10).review.to_markdown()\n",
    "print(f\"Pct. of Short Gibberish Reviews w/ Polarity 0: {(len(short_reviews_df[(short_reviews_df['is_gibberish'] == 1) & (short_reviews_df['polarity_score'] == 0)].review))/sample_size:.2%}\")"
   ]
  },
  {
   "cell_type": "markdown",
   "id": "eca7a07e",
   "metadata": {
    "papermill": {
     "duration": 0.027477,
     "end_time": "2025-04-01T16:25:08.108992",
     "exception": false,
     "start_time": "2025-04-01T16:25:08.081515",
     "status": "completed"
    },
    "tags": []
   },
   "source": [
    "\n",
    "| Short Reviews (<15 words) Marked Gibberish and Polarity = 0  |\n",
    "|:-------------------------------------------------|\n",
    "| Very Nourishing.                                 |\n",
    "| simple and informative                           |\n",
    "| Approche claire et très pédagogique              |\n",
    "| Need some more practical examples on sub modules |\n",
    "| .                                                |\n",
    "| _                                                |\n",
    "| COMPLETO Y MUY APLICATIVO                        |\n",
    "| Very informative course.timely needed one.       |\n",
    "| Some code can not work.                          |\n",
    "| basico, pero bien.                               |"
   ]
  },
  {
   "cell_type": "code",
   "execution_count": 18,
   "id": "e6b01640",
   "metadata": {
    "execution": {
     "iopub.execute_input": "2025-04-01T16:25:08.163472Z",
     "iopub.status.busy": "2025-04-01T16:25:08.163159Z",
     "iopub.status.idle": "2025-04-01T16:25:08.173194Z",
     "shell.execute_reply": "2025-04-01T16:25:08.172147Z"
    },
    "papermill": {
     "duration": 0.038952,
     "end_time": "2025-04-01T16:25:08.174656",
     "exception": false,
     "start_time": "2025-04-01T16:25:08.135704",
     "status": "completed"
    },
    "tags": []
   },
   "outputs": [
    {
     "name": "stdout",
     "output_type": "stream",
     "text": [
      "Pct. of Short Gibberish Reviews w/ Polarity 1: 7.50%\n"
     ]
    }
   ],
   "source": [
    "short_reviews_df[(short_reviews_df['is_gibberish'] == 1) & (short_reviews_df['polarity_score']== 1)].sample(n=10).review.to_markdown()\n",
    "print(f\"Pct. of Short Gibberish Reviews w/ Polarity 1: {(len(short_reviews_df[(short_reviews_df['is_gibberish'] == 1) & (short_reviews_df['polarity_score'] == 1)].review))/sample_size:.2%}\")"
   ]
  },
  {
   "cell_type": "markdown",
   "id": "7175e9de",
   "metadata": {
    "papermill": {
     "duration": 0.027474,
     "end_time": "2025-04-01T16:25:08.230807",
     "exception": false,
     "start_time": "2025-04-01T16:25:08.203333",
     "status": "completed"
    },
    "tags": []
   },
   "source": [
    "| Short Reviews (<15 words) Marked Gibberish with Polarity = 1 | \n",
    "|:-------------------------------------------------------------------|\n",
    "| Excellent course!                                                  |\n",
    "| Excellent course!                                                  |\n",
    "| Excelente Curso, practico y didactico.                             |\n",
    "| Excellent course I did on coursera!!!!                             |\n",
    "| Very useful websites I learned AWS machine learning                |\n",
    "| great course                                                       |\n",
    "| One of the best course ever😇😇😇😇                                |\n",
    "| great introduction to topics necessary for a IT help desk position |\n",
    "| Very good course                                                   |\n",
    "| thank you so much for the great course                             |"
   ]
  },
  {
   "cell_type": "markdown",
   "id": "325b2162",
   "metadata": {
    "papermill": {
     "duration": 0.027073,
     "end_time": "2025-04-01T16:25:08.285297",
     "exception": false,
     "start_time": "2025-04-01T16:25:08.258224",
     "status": "completed"
    },
    "tags": []
   },
   "source": [
    "**High Polarity Reviews**\n",
    "- Although many of these short, high polarity reviews are not very \"substantive\" (meaning we can't really draw any insights from them) they are reflective of strong positive feelings.\n",
    "\n",
    "**Neutral Polarity Reviews**\n",
    "- The polarity 0 results that are short and marked as gibberish are a bit less interesting. They don't convey strong positive/negative feelings AND they are not substantive. So what insights can we draw from them?\n",
    "\n",
    "**Note**\n",
    "- Although the original intent of a gibberish detector was to identify meaningless text, I think we have an opportunity to classify meaningful vs. non-meaningful reviews as well"
   ]
  },
  {
   "cell_type": "markdown",
   "id": "43e3b322",
   "metadata": {
    "papermill": {
     "duration": 0.027229,
     "end_time": "2025-04-01T16:25:08.339635",
     "exception": false,
     "start_time": "2025-04-01T16:25:08.312406",
     "status": "completed"
    },
    "tags": []
   },
   "source": [
    "### Classifier Probability Cutoff"
   ]
  },
  {
   "cell_type": "code",
   "execution_count": 19,
   "id": "53f4c534",
   "metadata": {
    "execution": {
     "iopub.execute_input": "2025-04-01T16:25:08.395780Z",
     "iopub.status.busy": "2025-04-01T16:25:08.395410Z",
     "iopub.status.idle": "2025-04-01T16:25:08.405992Z",
     "shell.execute_reply": "2025-04-01T16:25:08.404740Z"
    },
    "papermill": {
     "duration": 0.040729,
     "end_time": "2025-04-01T16:25:08.407615",
     "exception": false,
     "start_time": "2025-04-01T16:25:08.366886",
     "status": "completed"
    },
    "tags": []
   },
   "outputs": [
    {
     "data": {
      "text/plain": [
       "656803                                    Correcto\n",
       "872986                                       good!\n",
       "1159964                           excelente curso \n",
       "720507     every one should go through this course\n",
       "553870                              Thank You! Sir\n",
       "                            ...                   \n",
       "1129989                                      Top !\n",
       "535829                                        sdfd\n",
       "1107404                         Amazing experience\n",
       "103186                                        Nice\n",
       "1317351                                    AWESOME\n",
       "Name: review, Length: 131, dtype: object"
      ]
     },
     "execution_count": 19,
     "metadata": {},
     "output_type": "execute_result"
    }
   ],
   "source": [
    "cutoff = 0.90\n",
    "train_filtered_df['is_gibberish_high_cutoff'] = train_filtered_df['gibberish_probs'] > cutoff\n",
    "train_filtered_df[train_filtered_df['is_gibberish_high_cutoff'] == 1].review"
   ]
  },
  {
   "cell_type": "code",
   "execution_count": 20,
   "id": "4ce63f4d",
   "metadata": {
    "execution": {
     "iopub.execute_input": "2025-04-01T16:25:08.464508Z",
     "iopub.status.busy": "2025-04-01T16:25:08.464130Z",
     "iopub.status.idle": "2025-04-01T16:25:08.548303Z",
     "shell.execute_reply": "2025-04-01T16:25:08.547365Z"
    },
    "papermill": {
     "duration": 0.114593,
     "end_time": "2025-04-01T16:25:08.550345",
     "exception": false,
     "start_time": "2025-04-01T16:25:08.435752",
     "status": "completed"
    },
    "tags": []
   },
   "outputs": [],
   "source": [
    "cutoffs = np.linspace(0.5, 1, 50)  # 50 cutoff points from 0 to 1\n",
    "\n",
    "# Initialize lists to store results\n",
    "num_gibberish = []\n",
    "avg_polarity = []\n",
    "avg_word_count = []\n",
    "avg_entropy = []\n",
    "\n",
    "for cutoff in cutoffs:\n",
    "    gibberish_reviews = train_filtered_df[train_filtered_df['gibberish_probs'] >= cutoff]\n",
    "    \n",
    "    num_gibberish.append(len(gibberish_reviews))\n",
    "    avg_polarity.append(gibberish_reviews['polarity_score'].mean() if not gibberish_reviews.empty else np.nan)\n",
    "    avg_word_count.append(gibberish_reviews['review'].str.split().str.len().mean() if not gibberish_reviews.empty else np.nan)\n",
    "    avg_entropy.append(gibberish_reviews['entropy'].mean() if not gibberish_reviews.empty else np.nan)"
   ]
  },
  {
   "cell_type": "code",
   "execution_count": 21,
   "id": "253714e0",
   "metadata": {
    "execution": {
     "iopub.execute_input": "2025-04-01T16:25:08.608338Z",
     "iopub.status.busy": "2025-04-01T16:25:08.607916Z",
     "iopub.status.idle": "2025-04-01T16:25:10.471429Z",
     "shell.execute_reply": "2025-04-01T16:25:10.470208Z"
    },
    "papermill": {
     "duration": 1.894934,
     "end_time": "2025-04-01T16:25:10.474394",
     "exception": false,
     "start_time": "2025-04-01T16:25:08.579460",
     "status": "completed"
    },
    "tags": []
   },
   "outputs": [
    {
     "data": {
      "image/png": "[encoded data removed]",
      "text/plain": [
       "<Figure size 1200x800 with 4 Axes>"
      ]
     },
     "metadata": {},
     "output_type": "display_data"
    }
   ],
   "source": [
    "fig, axes = plt.subplots(2, 2, figsize=(12,8))\n",
    "axes[0][0].plot(cutoffs, num_gibberish, marker='o', linestyle='-')\n",
    "axes[0][0].set_xlabel(\"Probability Cutoff\")\n",
    "axes[0][0].set_ylabel(\"Number of Gibberish Reviews\")\n",
    "axes[0][0].set_title(f\"Gibberish Classification vs. Cutoff (Sample of {sample_size})\")\n",
    "axes[0][0].grid(True)\n",
    "\n",
    "# Plot Average Polarity vs. Cutoff\n",
    "axes[0][1].plot(cutoffs, avg_polarity, marker='o', linestyle='-', color='r')\n",
    "axes[0][1].set_xlabel(\"Probability Cutoff\")\n",
    "axes[0][1].set_ylabel(\"Average Polarity of Gibberish\")\n",
    "axes[0][1].set_title(f\"Polarity of Gibberish Reviews vs. Cutoff (Sample of {sample_size})\")\n",
    "axes[0][1].grid(True)\n",
    "\n",
    "# Plot Average Word Count vs. Cutoff\n",
    "axes[1][0].plot(cutoffs, avg_word_count, marker='o', linestyle='-', color='g')\n",
    "axes[1][0].set_xlabel(\"Probability Cutoff\")\n",
    "axes[1][0].set_ylabel(\"Average Word Count of Gibberish\")\n",
    "axes[1][0].set_title(f\"Word Count of Gibberish Reviews vs. Cutoff (Sample of {sample_size})\")\n",
    "axes[1][0].grid(True)\n",
    "\n",
    "# Plot Average Word Entropy vs. Cutoff\n",
    "axes[1][1].plot(cutoffs, avg_entropy, marker='o', linestyle='-', color='orange')\n",
    "axes[1][1].set_xlabel(\"Probability Cutoff\")\n",
    "axes[1][1].set_ylabel(\"Average Entropy of Gibberish\")\n",
    "axes[1][1].set_title(f\"Entropy of Gibberish Reviews vs. Cutoff (Sample of {sample_size})\")\n",
    "axes[1][1].grid(True)\n",
    "\n",
    "plt.tight_layout()\n",
    "plt.savefig('gibberish_vs_cutoffs_multi_var.png')"
   ]
  },
  {
   "cell_type": "markdown",
   "id": "a7fbd2da",
   "metadata": {
    "papermill": {
     "duration": 0.032603,
     "end_time": "2025-04-01T16:25:10.539210",
     "exception": false,
     "start_time": "2025-04-01T16:25:10.506607",
     "status": "completed"
    },
    "tags": []
   },
   "source": [
    "### Hybrid Approach with Model + Word Validity Check\n",
    "- We can try thresholds, where it looks like we'll get mostly low entropy, low word count, low polarity actual gibberish (or meaningless reviews) if we simply up our threshold to say 0.9 instead of 0.5.\n",
    "- However, we could also check to see if reviews have at least a few real words."
   ]
  },
  {
   "cell_type": "code",
   "execution_count": 22,
   "id": "7332738c",
   "metadata": {
    "execution": {
     "iopub.execute_input": "2025-04-01T16:25:10.609488Z",
     "iopub.status.busy": "2025-04-01T16:25:10.608943Z",
     "iopub.status.idle": "2025-04-01T16:25:16.868014Z",
     "shell.execute_reply": "2025-04-01T16:25:16.866877Z"
    },
    "papermill": {
     "duration": 6.296134,
     "end_time": "2025-04-01T16:25:16.869626",
     "exception": false,
     "start_time": "2025-04-01T16:25:10.573492",
     "status": "completed"
    },
    "tags": []
   },
   "outputs": [
    {
     "name": "stderr",
     "output_type": "stream",
     "text": [
      "Adjusting Cutoff and Finding real words...:  68%|██████▊   | 685/1000 [00:03<00:00, 328.35it/s]Building prefix dict from /usr/local/lib/python3.10/dist-packages/wordfreq/data/jieba_zh.txt ...\n",
      "Dumping model to file cache /tmp/jieba.ub9d891415b68a921ca1e5556598ea8ee.cache\n",
      "Loading model cost 0.079 seconds.\n",
      "Prefix dict has been built successfully.\n",
      "Adjusting Cutoff and Finding real words...: 100%|██████████| 1000/1000 [00:05<00:00, 175.04it/s]\n"
     ]
    }
   ],
   "source": [
    "import nltk\n",
    "from nltk.tokenize import word_tokenize\n",
    "from wordfreq import word_frequency\n",
    "\n",
    "# Set minimum word frequency for a word to be considered \"real\"\n",
    "FREQUENCY_THRESHOLD = 1e-6  # Adjust based on experimentation\n",
    "\n",
    "# Function to check if a word is commonly used in a given language\n",
    "def is_real_word(word, lang, wordlist='large'):\n",
    "    try:\n",
    "        return word_frequency(word, lang, minimum=0, wordlist=wordlist) > FREQUENCY_THRESHOLD\n",
    "    except LookupError:\n",
    "        return 0\n",
    "\n",
    "# Updated function using detected language\n",
    "def adjust_is_gibberish(row, length_threshold=5, word_ratio_threshold=0.75):\n",
    "    review = row[\"review\"]\n",
    "    detected_lang = row['language']\n",
    "    \n",
    "    # If language is undetectable, assume gibberish (optional rule)\n",
    "    if row[\"cannot_detect_language\"]:\n",
    "        return True  # Consider these gibberish\n",
    "\n",
    "    # Tokenize the review\n",
    "    tokens = word_tokenize(review.lower())\n",
    "    tokens = [w for w in tokens if w.isalpha()]  # Remove non-alphabetic tokens\n",
    "    \n",
    "    # Identify meaningful words using word frequency data\n",
    "    meaningful_words = [word for word in tokens if is_real_word(word, detected_lang)]\n",
    "    \n",
    "    # Allow very short but meaningful reviews (e.g., \"Excellent!\", \"Great course!\")\n",
    "    if len(tokens) < length_threshold and len(meaningful_words) == len(tokens):\n",
    "        return False\n",
    "    \n",
    "    # If the proportion of meaningful words is too low, consider it gibberish\n",
    "    if len(meaningful_words) / max(len(tokens), 1) < word_ratio_threshold:\n",
    "        return True\n",
    "\n",
    "    return False\n",
    "\n",
    "# Apply function to each row using the detected language column\n",
    "tqdm.pandas(desc='Adjusting Cutoff and Finding real words...')\n",
    "CUTOFF = 0.90\n",
    "train_filtered_df['is_gibberish'] = train_filtered_df['gibberish_probs'] > CUTOFF\n",
    "train_filtered_df[\"is_gibberish\"] = train_filtered_df.progress_apply(adjust_is_gibberish, axis=1)"
   ]
  },
  {
   "cell_type": "code",
   "execution_count": 23,
   "id": "34cc5387",
   "metadata": {
    "execution": {
     "iopub.execute_input": "2025-04-01T16:25:16.935734Z",
     "iopub.status.busy": "2025-04-01T16:25:16.935386Z",
     "iopub.status.idle": "2025-04-01T16:25:16.941001Z",
     "shell.execute_reply": "2025-04-01T16:25:16.939843Z"
    },
    "papermill": {
     "duration": 0.040232,
     "end_time": "2025-04-01T16:25:16.942635",
     "exception": false,
     "start_time": "2025-04-01T16:25:16.902403",
     "status": "completed"
    },
    "tags": []
   },
   "outputs": [
    {
     "name": "stdout",
     "output_type": "stream",
     "text": [
      "After Real World Filtering - Pct Marked As Gibberish = 6.20%\n"
     ]
    }
   ],
   "source": [
    "print(f\"After Real World Filtering - Pct Marked As Gibberish = {train_filtered_df['is_gibberish'].sum()/len(train_filtered_df['is_gibberish']):.2%}\")"
   ]
  },
  {
   "cell_type": "code",
   "execution_count": 24,
   "id": "223e4e1c",
   "metadata": {
    "execution": {
     "iopub.execute_input": "2025-04-01T16:25:17.007249Z",
     "iopub.status.busy": "2025-04-01T16:25:17.006884Z",
     "iopub.status.idle": "2025-04-01T16:25:17.014244Z",
     "shell.execute_reply": "2025-04-01T16:25:17.013308Z"
    },
    "papermill": {
     "duration": 0.041204,
     "end_time": "2025-04-01T16:25:17.015622",
     "exception": false,
     "start_time": "2025-04-01T16:25:16.974418",
     "status": "completed"
    },
    "tags": []
   },
   "outputs": [
    {
     "data": {
      "text/plain": [
       "{'da': '/usr/local/lib/python3.10/dist-packages/wordfreq/data/small_da.msgpack.gz',\n",
       " 'is': '/usr/local/lib/python3.10/dist-packages/wordfreq/data/small_is.msgpack.gz',\n",
       " 'id': '/usr/local/lib/python3.10/dist-packages/wordfreq/data/small_id.msgpack.gz',\n",
       " 'ro': '/usr/local/lib/python3.10/dist-packages/wordfreq/data/small_ro.msgpack.gz',\n",
       " 'ru': '/usr/local/lib/python3.10/dist-packages/wordfreq/data/large_ru.msgpack.gz',\n",
       " 'pl': '/usr/local/lib/python3.10/dist-packages/wordfreq/data/large_pl.msgpack.gz',\n",
       " 'en': '/usr/local/lib/python3.10/dist-packages/wordfreq/data/large_en.msgpack.gz',\n",
       " 'cs': '/usr/local/lib/python3.10/dist-packages/wordfreq/data/large_cs.msgpack.gz',\n",
       " 'hi': '/usr/local/lib/python3.10/dist-packages/wordfreq/data/small_hi.msgpack.gz',\n",
       " 'ar': '/usr/local/lib/python3.10/dist-packages/wordfreq/data/large_ar.msgpack.gz',\n",
       " 'fr': '/usr/local/lib/python3.10/dist-packages/wordfreq/data/large_fr.msgpack.gz',\n",
       " 'ms': '/usr/local/lib/python3.10/dist-packages/wordfreq/data/small_ms.msgpack.gz',\n",
       " 'lt': '/usr/local/lib/python3.10/dist-packages/wordfreq/data/small_lt.msgpack.gz',\n",
       " 'el': '/usr/local/lib/python3.10/dist-packages/wordfreq/data/small_el.msgpack.gz',\n",
       " 'ko': '/usr/local/lib/python3.10/dist-packages/wordfreq/data/small_ko.msgpack.gz',\n",
       " 'zh': '/usr/local/lib/python3.10/dist-packages/wordfreq/data/large_zh.msgpack.gz',\n",
       " 'pt': '/usr/local/lib/python3.10/dist-packages/wordfreq/data/large_pt.msgpack.gz',\n",
       " 'bn': '/usr/local/lib/python3.10/dist-packages/wordfreq/data/large_bn.msgpack.gz',\n",
       " 'he': '/usr/local/lib/python3.10/dist-packages/wordfreq/data/large_he.msgpack.gz',\n",
       " 'bg': '/usr/local/lib/python3.10/dist-packages/wordfreq/data/small_bg.msgpack.gz',\n",
       " 'sk': '/usr/local/lib/python3.10/dist-packages/wordfreq/data/small_sk.msgpack.gz',\n",
       " 'nl': '/usr/local/lib/python3.10/dist-packages/wordfreq/data/large_nl.msgpack.gz',\n",
       " 'it': '/usr/local/lib/python3.10/dist-packages/wordfreq/data/large_it.msgpack.gz',\n",
       " 'lv': '/usr/local/lib/python3.10/dist-packages/wordfreq/data/small_lv.msgpack.gz',\n",
       " 'fil': '/usr/local/lib/python3.10/dist-packages/wordfreq/data/small_fil.msgpack.gz',\n",
       " 'vi': '/usr/local/lib/python3.10/dist-packages/wordfreq/data/small_vi.msgpack.gz',\n",
       " 'mk': '/usr/local/lib/python3.10/dist-packages/wordfreq/data/large_mk.msgpack.gz',\n",
       " 'tr': '/usr/local/lib/python3.10/dist-packages/wordfreq/data/small_tr.msgpack.gz',\n",
       " 'nb': '/usr/local/lib/python3.10/dist-packages/wordfreq/data/large_nb.msgpack.gz',\n",
       " 'ca': '/usr/local/lib/python3.10/dist-packages/wordfreq/data/large_ca.msgpack.gz',\n",
       " 'ta': '/usr/local/lib/python3.10/dist-packages/wordfreq/data/small_ta.msgpack.gz',\n",
       " 'ja': '/usr/local/lib/python3.10/dist-packages/wordfreq/data/large_ja.msgpack.gz',\n",
       " 'sv': '/usr/local/lib/python3.10/dist-packages/wordfreq/data/large_sv.msgpack.gz',\n",
       " 'de': '/usr/local/lib/python3.10/dist-packages/wordfreq/data/large_de.msgpack.gz',\n",
       " 'fi': '/usr/local/lib/python3.10/dist-packages/wordfreq/data/large_fi.msgpack.gz',\n",
       " 'ur': '/usr/local/lib/python3.10/dist-packages/wordfreq/data/small_ur.msgpack.gz',\n",
       " 'sl': '/usr/local/lib/python3.10/dist-packages/wordfreq/data/small_sl.msgpack.gz',\n",
       " 'sh': '/usr/local/lib/python3.10/dist-packages/wordfreq/data/small_sh.msgpack.gz',\n",
       " 'uk': '/usr/local/lib/python3.10/dist-packages/wordfreq/data/large_uk.msgpack.gz',\n",
       " 'hu': '/usr/local/lib/python3.10/dist-packages/wordfreq/data/small_hu.msgpack.gz',\n",
       " 'fa': '/usr/local/lib/python3.10/dist-packages/wordfreq/data/small_fa.msgpack.gz',\n",
       " 'es': '/usr/local/lib/python3.10/dist-packages/wordfreq/data/large_es.msgpack.gz'}"
      ]
     },
     "execution_count": 24,
     "metadata": {},
     "output_type": "execute_result"
    }
   ],
   "source": [
    "import wordfreq\n",
    "wordfreq.available_languages()"
   ]
  },
  {
   "cell_type": "markdown",
   "id": "f179a554",
   "metadata": {
    "papermill": {
     "duration": 0.032123,
     "end_time": "2025-04-01T16:25:17.080278",
     "exception": false,
     "start_time": "2025-04-01T16:25:17.048155",
     "status": "completed"
    },
    "tags": []
   },
   "source": [
    "## Apply to Full Train, Val and Test Sets\n",
    "- The below can probably be used as a script later"
   ]
  },
  {
   "cell_type": "code",
   "execution_count": 25,
   "id": "eb57905a",
   "metadata": {
    "execution": {
     "iopub.execute_input": "2025-04-01T16:25:17.147613Z",
     "iopub.status.busy": "2025-04-01T16:25:17.147244Z",
     "iopub.status.idle": "2025-04-01T16:25:18.636525Z",
     "shell.execute_reply": "2025-04-01T16:25:18.635672Z"
    },
    "papermill": {
     "duration": 1.52531,
     "end_time": "2025-04-01T16:25:18.638392",
     "exception": false,
     "start_time": "2025-04-01T16:25:17.113082",
     "status": "completed"
    },
    "tags": []
   },
   "outputs": [
    {
     "name": "stdout",
     "output_type": "stream",
     "text": [
      "File '/kaggle/working/embeddings.npy' does not exist.\n"
     ]
    }
   ],
   "source": [
    "# Load in sentiment data with sentiment features calcualted\n",
    "train_df = pd.read_pickle('/kaggle/input/reviews-analyzer-dataset/sentiment_data/sentiment_train.pkl')\n",
    "val_df = pd.read_pickle('/kaggle/input/reviews-analyzer-dataset/sentiment_data/sentiment_val.pkl')\n",
    "test_df = pd.read_pickle('/kaggle/input/reviews-analyzer-dataset/sentiment_data/sentiment_test.pkl')\n",
    "\n",
    "# Recombine becuase we forgot to not split before\n",
    "file_path = '/kaggle/working/embeddings.npy'\n",
    "if os.path.exists(file_path):\n",
    "    os.remove(file_path)\n",
    "    print(f\"File '{file_path}' has been deleted.\")\n",
    "else:\n",
    "    print(f\"File '{file_path}' does not exist.\")\n",
    "\n",
    "# Clean out entries with no review\n",
    "train_df = train_df.dropna(subset=['review'])\n",
    "val_df = val_df.dropna(subset=['review'])\n",
    "test_df = test_df.dropna(subset=['review'])"
   ]
  },
  {
   "cell_type": "code",
   "execution_count": 26,
   "id": "ab71ce84",
   "metadata": {
    "execution": {
     "iopub.execute_input": "2025-04-01T16:25:18.705309Z",
     "iopub.status.busy": "2025-04-01T16:25:18.704923Z",
     "iopub.status.idle": "2025-04-01T16:25:18.710509Z",
     "shell.execute_reply": "2025-04-01T16:25:18.709579Z"
    },
    "papermill": {
     "duration": 0.040809,
     "end_time": "2025-04-01T16:25:18.712005",
     "exception": false,
     "start_time": "2025-04-01T16:25:18.671196",
     "status": "completed"
    },
    "tags": []
   },
   "outputs": [
    {
     "name": "stdout",
     "output_type": "stream",
     "text": [
      "Training Size = 1163768\n",
      "Validation Size = 145471\n",
      "Testing Size = 145472\n"
     ]
    }
   ],
   "source": [
    "print(f\"Training Size = {len(train_df)}\")\n",
    "print(f\"Validation Size = {len(val_df)}\")\n",
    "print(f\"Testing Size = {len(test_df)}\")"
   ]
  },
  {
   "cell_type": "code",
   "execution_count": 27,
   "id": "a19c0e09",
   "metadata": {
    "execution": {
     "iopub.execute_input": "2025-04-01T16:25:18.778568Z",
     "iopub.status.busy": "2025-04-01T16:25:18.778201Z",
     "iopub.status.idle": "2025-04-01T17:19:52.315045Z",
     "shell.execute_reply": "2025-04-01T17:19:52.313905Z"
    },
    "papermill": {
     "duration": 3273.571593,
     "end_time": "2025-04-01T17:19:52.316986",
     "exception": false,
     "start_time": "2025-04-01T16:25:18.745393",
     "status": "completed"
    },
    "tags": []
   },
   "outputs": [
    {
     "name": "stderr",
     "output_type": "stream",
     "text": [
      "Calculating entropies: 100%|██████████| 290942/290942 [00:04<00:00, 62729.77it/s]\n",
      "Detecting Language...: 100%|██████████| 290942/290942 [25:22<00:00, 191.12it/s]\n",
      "Detecting Language...: 100%|██████████| 290942/290942 [00:00<00:00, 924601.47it/s] \n",
      "Getting word/char counts...: 100%|██████████| 290942/290942 [00:02<00:00, 111629.15it/s]\n",
      "Getting word/char counts...: 100%|██████████| 290942/290942 [00:00<00:00, 799600.56it/s]\n",
      "Getting avg word length feature...: 100%|██████████| 290942/290942 [00:03<00:00, 85243.24it/s]\n",
      "Creating repetition feature...: 100%|██████████| 290942/290942 [00:18<00:00, 15614.21it/s]\n",
      "Creating punctuation ratio feature...: 100%|██████████| 290942/290942 [00:02<00:00, 131040.06it/s]\n",
      "Calcualting ngram coherenece...: 100%|██████████| 290942/290942 [00:08<00:00, 33881.10it/s]\n",
      "Generating embeddings: 100%|██████████| 9092/9092 [16:00<00:00,  9.46it/s]\n",
      "Calculating entropies: 100%|██████████| 36368/36368 [00:00<00:00, 63520.10it/s]\n",
      "Detecting Language...: 100%|██████████| 36368/36368 [03:11<00:00, 189.81it/s]\n",
      "Detecting Language...: 100%|██████████| 36368/36368 [00:00<00:00, 860549.64it/s]\n",
      "Getting word/char counts...: 100%|██████████| 36368/36368 [00:00<00:00, 106303.68it/s]\n",
      "Getting word/char counts...: 100%|██████████| 36368/36368 [00:00<00:00, 720010.04it/s]\n",
      "Getting avg word length feature...: 100%|██████████| 36368/36368 [00:00<00:00, 84617.08it/s]\n",
      "Creating repetition feature...: 100%|██████████| 36368/36368 [00:02<00:00, 15588.93it/s]\n",
      "Creating punctuation ratio feature...: 100%|██████████| 36368/36368 [00:00<00:00, 133945.71it/s]\n",
      "Calcualting ngram coherenece...: 100%|██████████| 36368/36368 [00:01<00:00, 34770.69it/s]\n",
      "Generating embeddings: 100%|██████████| 1137/1137 [01:59<00:00,  9.49it/s]\n",
      "Calculating entropies: 100%|██████████| 36368/36368 [00:00<00:00, 59754.86it/s]\n",
      "Detecting Language...: 100%|██████████| 36368/36368 [03:13<00:00, 188.22it/s]\n",
      "Detecting Language...: 100%|██████████| 36368/36368 [00:00<00:00, 835584.45it/s]\n",
      "Getting word/char counts...: 100%|██████████| 36368/36368 [00:00<00:00, 108838.10it/s]\n",
      "Getting word/char counts...: 100%|██████████| 36368/36368 [00:00<00:00, 719670.35it/s]\n",
      "Getting avg word length feature...: 100%|██████████| 36368/36368 [00:00<00:00, 85252.59it/s]\n",
      "Creating repetition feature...: 100%|██████████| 36368/36368 [00:02<00:00, 15972.50it/s]\n",
      "Creating punctuation ratio feature...: 100%|██████████| 36368/36368 [00:00<00:00, 136362.70it/s]\n",
      "Calcualting ngram coherenece...: 100%|██████████| 36368/36368 [00:01<00:00, 34071.20it/s]\n",
      "Generating embeddings: 100%|██████████| 1137/1137 [01:59<00:00,  9.49it/s]\n"
     ]
    }
   ],
   "source": [
    "SAMPLE_FRAC = 0.25\n",
    "# Re grab all of the featurs for full training, val, and test sets\n",
    "train_features = create_feature_df(train_df.sample(frac=SAMPLE_FRAC), ngram_ref=ngram_ref, centroid=centroid)\n",
    "val_features = create_feature_df(val_df.sample(frac=SAMPLE_FRAC), ngram_ref=ngram_ref, centroid=centroid)\n",
    "test_features = create_feature_df(test_df.sample(frac=SAMPLE_FRAC), ngram_ref=ngram_ref, centroid=centroid)\n",
    "\n",
    "# Choose the relevant columns\n",
    "model_features = ['cannot_detect_language', 'entropy', 'word_count', 'avg_word_length',\n",
    "                  'ngram_coherence', 'anomaly_score', 'punct_ratio', 'max_repeated']\n",
    "feed_train_into_model_df = train_features.reindex(columns = model_features)\n",
    "feed_val_into_model_df = test_features.reindex(columns=model_features)\n",
    "feed_test_into_model_df = val_features.reindex(columns=model_features)\n",
    "\n",
    "# Run the model trained on amazon reviews on coursera stuff\n",
    "model_path = '/kaggle/input/reviews-analyzer-dataset/gibberish_random_forest_model.pkl'\n",
    "with open(model_path, 'rb') as f:\n",
    "    gibberish_model = pickle.load(f)\n",
    "\n",
    "# Filter the FULL train set\n",
    "train_filtered_df = train_features.copy()\n",
    "train_filtered_df['is_gibberish'] = gibberish_model.predict(feed_train_into_model_df)\n",
    "train_filtered_df['gibberish_probs'] = gibberish_model.predict_proba(feed_train_into_model_df)[:,1]\n",
    "train_filtered_df['is_gibberish'] = train_filtered_df['gibberish_probs'] > CUTOFF\n",
    "train_filtered_df[\"is_gibberish\"] = train_filtered_df.apply(adjust_is_gibberish, axis=1)\n",
    "\n",
    "# Filter the val set\n",
    "val_filtered_df = val_features.copy()\n",
    "val_filtered_df['is_gibberish'] = gibberish_model.predict(feed_val_into_model_df)\n",
    "val_filtered_df['gibberish_probs'] = gibberish_model.predict_proba(feed_val_into_model_df)[:,1]\n",
    "val_filtered_df['is_gibberish'] = val_filtered_df['gibberish_probs'] > CUTOFF\n",
    "val_filtered_df[\"is_gibberish\"] = val_filtered_df.apply(adjust_is_gibberish, axis=1)\n",
    "\n",
    "# Filter the test set\n",
    "test_filtered_df = test_features.copy()\n",
    "test_filtered_df['is_gibberish'] = gibberish_model.predict(feed_test_into_model_df)\n",
    "test_filtered_df['gibberish_probs'] = gibberish_model.predict_proba(feed_test_into_model_df)[:,1]\n",
    "test_filtered_df[\"is_gibberish\"] = test_filtered_df.apply(adjust_is_gibberish, axis=1)"
   ]
  },
  {
   "cell_type": "markdown",
   "id": "9443f49d",
   "metadata": {
    "papermill": {
     "duration": 1.524585,
     "end_time": "2025-04-01T17:19:55.332994",
     "exception": false,
     "start_time": "2025-04-01T17:19:53.808409",
     "status": "completed"
    },
    "tags": []
   },
   "source": [
    "### Export Data"
   ]
  },
  {
   "cell_type": "code",
   "execution_count": 28,
   "id": "df68e3ba",
   "metadata": {
    "execution": {
     "iopub.execute_input": "2025-04-01T17:19:58.166707Z",
     "iopub.status.busy": "2025-04-01T17:19:58.166384Z",
     "iopub.status.idle": "2025-04-01T17:19:58.172891Z",
     "shell.execute_reply": "2025-04-01T17:19:58.171979Z"
    },
    "papermill": {
     "duration": 1.490779,
     "end_time": "2025-04-01T17:19:58.174331",
     "exception": false,
     "start_time": "2025-04-01T17:19:56.683552",
     "status": "completed"
    },
    "tags": []
   },
   "outputs": [
    {
     "data": {
      "text/plain": [
       "'\\nimport pickle\\nimport pandas as pd\\nimport numpy as np\\nimport os\\nfrom joblib import Parallel, delayed\\n\\n# Load the trained model\\nmodel_path = \\'/kaggle/input/reviews-analyzer-dataset/gibberish_random_forest_model.pkl\\'\\nwith open(model_path, \\'rb\\') as f:\\n    gibberish_model = pickle.load(f)\\n\\n# Define batch size and save path\\nBATCH_SIZE = 5000  # Adjust as needed\\nSAVE_PATH = \"processed_batches.pkl\"  # Stores progress\\n\\n# Function to process a single batch\\ndef process_batch(batch_df, batch_idx, ngram_ref, centroid, cutoff=0.5):\\n    \"\"\"Process a batch and save output.\"\"\"\\n    batch_features = create_feature_df(batch_df, ngram_ref=ngram_ref, centroid=centroid)\\n\\n    model_features = [\\'cannot_detect_language\\', \\'entropy\\', \\'word_count\\', \\'avg_word_length\\',\\n                      \\'ngram_coherence\\', \\'anomaly_score\\', \\'punct_ratio\\', \\'max_repeated\\']\\n    \\n    batch_features = batch_features.reindex(columns=model_features)\\n\\n    # Predict gibberish\\n    batch_features[\\'is_gibberish\\'] = gibberish_model.predict(batch_features)\\n    batch_features[\\'gibberish_probs\\'] = gibberish_model.predict_proba(batch_features)[:, 1]\\n    batch_features[\\'is_gibberish\\'] = batch_features[\\'gibberish_probs\\'] > cutoff\\n    batch_features[\"is_gibberish\"] = batch_features.apply(adjust_is_gibberish, axis=1)\\n\\n    # Save batch result\\n    batch_file = f\"batch_{batch_idx}.pkl\"\\n    batch_features.to_pickle(batch_file)\\n\\n    print(f\"✅ Saved batch {batch_idx} -> {batch_file}\")\\n\\n# Function to track progress and resume if interrupted\\ndef batch_process_data(df, batch_size, ngram_ref, centroid, cutoff=0.5, num_jobs=4):\\n    \"\"\"Process data in parallel batches with resume capability.\"\"\"\\n    num_batches = int(np.ceil(len(df) / batch_size))\\n    processed_batches = set()\\n\\n    # Load previously completed batches\\n    if os.path.exists(SAVE_PATH):\\n        processed_batches = pickle.load(open(SAVE_PATH, \"rb\"))\\n        print(f\"🔄 Resuming from saved progress... {len(processed_batches)} batches completed\")\\n\\n    # Process only unprocessed batches\\n    unprocessed_batches = [i for i in range(num_batches) if i not in processed_batches]\\n\\n    def process_and_save(batch_idx):\\n        start = batch_idx * batch_size\\n        end = min((batch_idx + 1) * batch_size, len(df))\\n        batch_df = df.iloc[start:end]\\n\\n        process_batch(batch_df, batch_idx, ngram_ref, centroid, cutoff)\\n\\n        # Update progress file\\n        processed_batches.add(batch_idx)\\n        with open(SAVE_PATH, \"wb\") as f:\\n            pickle.dump(processed_batches, f)\\n\\n    # Use parallel processing\\n    Parallel(n_jobs=num_jobs)(delayed(process_and_save)(i) for i in unprocessed_batches)\\n\\n    # Combine all batch files into final dataframe\\n    batch_files = [f\"batch_{i}.pkl\" for i in range(num_batches) if os.path.exists(f\"batch_{i}.pkl\")]\\n    train_filtered_df = pd.concat([pd.read_pickle(f) for f in batch_files], ignore_index=True)\\n\\n    return train_filtered_df\\n\\n# Run parallelized batch processing\\ntrain_filtered_df = batch_process_data(train_df, BATCH_SIZE, ngram_ref, centroid, CUTOFF, num_jobs=4)\\n'"
      ]
     },
     "execution_count": 28,
     "metadata": {},
     "output_type": "execute_result"
    }
   ],
   "source": [
    "'''\n",
    "import pickle\n",
    "import pandas as pd\n",
    "import numpy as np\n",
    "import os\n",
    "from joblib import Parallel, delayed\n",
    "\n",
    "# Load the trained model\n",
    "model_path = '/kaggle/input/reviews-analyzer-dataset/gibberish_random_forest_model.pkl'\n",
    "with open(model_path, 'rb') as f:\n",
    "    gibberish_model = pickle.load(f)\n",
    "\n",
    "# Define batch size and save path\n",
    "BATCH_SIZE = 5000  # Adjust as needed\n",
    "SAVE_PATH = \"processed_batches.pkl\"  # Stores progress\n",
    "\n",
    "# Function to process a single batch\n",
    "def process_batch(batch_df, batch_idx, ngram_ref, centroid, cutoff=0.5):\n",
    "    \"\"\"Process a batch and save output.\"\"\"\n",
    "    batch_features = create_feature_df(batch_df, ngram_ref=ngram_ref, centroid=centroid)\n",
    "\n",
    "    model_features = ['cannot_detect_language', 'entropy', 'word_count', 'avg_word_length',\n",
    "                      'ngram_coherence', 'anomaly_score', 'punct_ratio', 'max_repeated']\n",
    "    \n",
    "    batch_features = batch_features.reindex(columns=model_features)\n",
    "\n",
    "    # Predict gibberish\n",
    "    batch_features['is_gibberish'] = gibberish_model.predict(batch_features)\n",
    "    batch_features['gibberish_probs'] = gibberish_model.predict_proba(batch_features)[:, 1]\n",
    "    batch_features['is_gibberish'] = batch_features['gibberish_probs'] > cutoff\n",
    "    batch_features[\"is_gibberish\"] = batch_features.apply(adjust_is_gibberish, axis=1)\n",
    "\n",
    "    # Save batch result\n",
    "    batch_file = f\"batch_{batch_idx}.pkl\"\n",
    "    batch_features.to_pickle(batch_file)\n",
    "\n",
    "    print(f\"✅ Saved batch {batch_idx} -> {batch_file}\")\n",
    "\n",
    "# Function to track progress and resume if interrupted\n",
    "def batch_process_data(df, batch_size, ngram_ref, centroid, cutoff=0.5, num_jobs=4):\n",
    "    \"\"\"Process data in parallel batches with resume capability.\"\"\"\n",
    "    num_batches = int(np.ceil(len(df) / batch_size))\n",
    "    processed_batches = set()\n",
    "\n",
    "    # Load previously completed batches\n",
    "    if os.path.exists(SAVE_PATH):\n",
    "        processed_batches = pickle.load(open(SAVE_PATH, \"rb\"))\n",
    "        print(f\"🔄 Resuming from saved progress... {len(processed_batches)} batches completed\")\n",
    "\n",
    "    # Process only unprocessed batches\n",
    "    unprocessed_batches = [i for i in range(num_batches) if i not in processed_batches]\n",
    "\n",
    "    def process_and_save(batch_idx):\n",
    "        start = batch_idx * batch_size\n",
    "        end = min((batch_idx + 1) * batch_size, len(df))\n",
    "        batch_df = df.iloc[start:end]\n",
    "\n",
    "        process_batch(batch_df, batch_idx, ngram_ref, centroid, cutoff)\n",
    "\n",
    "        # Update progress file\n",
    "        processed_batches.add(batch_idx)\n",
    "        with open(SAVE_PATH, \"wb\") as f:\n",
    "            pickle.dump(processed_batches, f)\n",
    "\n",
    "    # Use parallel processing\n",
    "    Parallel(n_jobs=num_jobs)(delayed(process_and_save)(i) for i in unprocessed_batches)\n",
    "\n",
    "    # Combine all batch files into final dataframe\n",
    "    batch_files = [f\"batch_{i}.pkl\" for i in range(num_batches) if os.path.exists(f\"batch_{i}.pkl\")]\n",
    "    train_filtered_df = pd.concat([pd.read_pickle(f) for f in batch_files], ignore_index=True)\n",
    "\n",
    "    return train_filtered_df\n",
    "\n",
    "# Run parallelized batch processing\n",
    "train_filtered_df = batch_process_data(train_df, BATCH_SIZE, ngram_ref, centroid, CUTOFF, num_jobs=4)\n",
    "'''"
   ]
  },
  {
   "cell_type": "code",
   "execution_count": 29,
   "id": "e1a068a7",
   "metadata": {
    "execution": {
     "iopub.execute_input": "2025-04-01T17:20:01.122911Z",
     "iopub.status.busy": "2025-04-01T17:20:01.122545Z",
     "iopub.status.idle": "2025-04-01T17:20:07.122412Z",
     "shell.execute_reply": "2025-04-01T17:20:07.121388Z"
    },
    "papermill": {
     "duration": 7.513123,
     "end_time": "2025-04-01T17:20:07.124061",
     "exception": false,
     "start_time": "2025-04-01T17:19:59.610938",
     "status": "completed"
    },
    "tags": []
   },
   "outputs": [
    {
     "name": "stdout",
     "output_type": "stream",
     "text": [
      "Saving datasets as pickle files...\n"
     ]
    },
    {
     "name": "stderr",
     "output_type": "stream",
     "text": [
      "Saving Pickle Files: 100%|██████████| 3/3 [00:00<00:00, 12.96it/s]\n"
     ]
    },
    {
     "name": "stdout",
     "output_type": "stream",
     "text": [
      "Saved pickle files to /kaggle/working/: ['sentiment_train_clean.pkl', 'sentiment_val_clean.pkl', 'sentiment_test_clean.pkl']\n",
      "Zipping files...\n"
     ]
    },
    {
     "name": "stderr",
     "output_type": "stream",
     "text": [
      "Adding Files to Zip: 100%|██████████| 3/3 [00:05<00:00,  1.92s/it]"
     ]
    },
    {
     "name": "stdout",
     "output_type": "stream",
     "text": [
      "Saved and zipped files to /kaggle/working/clean_sentiment_data.zip\n"
     ]
    },
    {
     "name": "stderr",
     "output_type": "stream",
     "text": [
      "\n"
     ]
    }
   ],
   "source": [
    "import zipfile\n",
    "\n",
    "# Save as pickle files\n",
    "output_dir = '/kaggle/working/'  # Kaggle default; adjust for local (e.g., './data/')\n",
    "os.makedirs(output_dir, exist_ok=True)\n",
    "\n",
    "files_to_save = {\n",
    "    'sentiment_train_clean.pkl': train_filtered_df,\n",
    "    'sentiment_val_clean.pkl': val_filtered_df,\n",
    "    'sentiment_test_clean.pkl': test_filtered_df,\n",
    "}\n",
    "\n",
    "print(\"Saving datasets as pickle files...\")\n",
    "for filename, obj in tqdm(files_to_save.items(), desc=\"Saving Pickle Files\"):\n",
    "    with open(os.path.join(output_dir, filename), 'wb') as f:\n",
    "        pickle.dump(obj, f)\n",
    "\n",
    "print(f\"Saved pickle files to {output_dir}: {list(files_to_save.keys())}\")\n",
    "\n",
    "# Zip the pickle files\n",
    "zip_filename = os.path.join(output_dir, 'clean_sentiment_data.zip')\n",
    "print(\"Zipping files...\")\n",
    "with zipfile.ZipFile(zip_filename, 'w', compression=zipfile.ZIP_DEFLATED) as zipf:\n",
    "    for filename in tqdm(files_to_save.keys(), desc=\"Adding Files to Zip\"):\n",
    "        zipf.write(os.path.join(output_dir, filename), arcname=filename)\n",
    "\n",
    "print(f\"Saved and zipped files to {zip_filename}\")"
   ]
  },
  {
   "cell_type": "code",
   "execution_count": null,
   "id": "1a8e398e",
   "metadata": {
    "papermill": {
     "duration": 1.445441,
     "end_time": "2025-04-01T17:20:09.943415",
     "exception": false,
     "start_time": "2025-04-01T17:20:08.497974",
     "status": "completed"
    },
    "tags": []
   },
   "outputs": [],
   "source": []
  }
 ],
 "metadata": {
  "kaggle": {
   "accelerator": "gpu",
   "dataSources": [
    {
     "datasetId": 6829806,
     "sourceId": 11217598,
     "sourceType": "datasetVersion"
    }
   ],
   "dockerImageVersionId": 30918,
   "isGpuEnabled": true,
   "isInternetEnabled": true,
   "language": "python",
   "sourceType": "notebook"
  },
  "kernelspec": {
   "display_name": "Python 3",
   "language": "python",
   "name": "python3"
  },
  "language_info": {
   "codemirror_mode": {
    "name": "ipython",
    "version": 3
   },
   "file_extension": ".py",
   "mimetype": "text/x-python",
   "name": "python",
   "nbconvert_exporter": "python",
   "pygments_lexer": "ipython3",
   "version": "3.10.12"
  },
  "papermill": {
   "default_parameters": {},
   "duration": 3397.059834,
   "end_time": "2025-04-01T17:20:14.979042",
   "environment_variables": {},
   "exception": null,
   "input_path": "__notebook__.ipynb",
   "output_path": "__notebook__.ipynb",
   "parameters": {},
   "start_time": "2025-04-01T16:23:37.919208",
   "version": "2.6.0"
  },
  "widgets": {
   "application/vnd.jupyter.widget-state+json": {
    "state": {
     "03c0a62aa80d4878b9d8130bf3f76a3e": {
      "model_module": "@jupyter-widgets/base",
      "model_module_version": "2.0.0",
      "model_name": "LayoutModel",
      "state": {
       "_model_module": "@jupyter-widgets/base",
       "_model_module_version": "2.0.0",
       "_model_name": "LayoutModel",
       "_view_count": null,
       "_view_module": "@jupyter-widgets/base",
       "_view_module_version": "2.0.0",
       "_view_name": "LayoutView",
       "align_content": null,
       "align_items": null,
       "align_self": null,
       "border_bottom": null,
       "border_left": null,
       "border_right": null,
       "border_top": null,
       "bottom": null,
       "display": null,
       "flex": null,
       "flex_flow": null,
       "grid_area": null,
       "grid_auto_columns": null,
       "grid_auto_flow": null,
       "grid_auto_rows": null,
       "grid_column": null,
       "grid_gap": null,
       "grid_row": null,
       "grid_template_areas": null,
       "grid_template_columns": null,
       "grid_template_rows": null,
       "height": null,
       "justify_content": null,
       "justify_items": null,
       "left": null,
       "margin": null,
       "max_height": null,
       "max_width": null,
       "min_height": null,
       "min_width": null,
       "object_fit": null,
       "object_position": null,
       "order": null,
       "overflow": null,
       "padding": null,
       "right": null,
       "top": null,
       "visibility": null,
       "width": null
      }
     },
     "0d9423c4485a434ca6d659d0c60e3edc": {
      "model_module": "@jupyter-widgets/base",
      "model_module_version": "2.0.0",
      "model_name": "LayoutModel",
      "state": {
       "_model_module": "@jupyter-widgets/base",
       "_model_module_version": "2.0.0",
       "_model_name": "LayoutModel",
       "_view_count": null,
       "_view_module": "@jupyter-widgets/base",
       "_view_module_version": "2.0.0",
       "_view_name": "LayoutView",
       "align_content": null,
       "align_items": null,
       "align_self": null,
       "border_bottom": null,
       "border_left": null,
       "border_right": null,
       "border_top": null,
       "bottom": null,
       "display": null,
       "flex": null,
       "flex_flow": null,
       "grid_area": null,
       "grid_auto_columns": null,
       "grid_auto_flow": null,
       "grid_auto_rows": null,
       "grid_column": null,
       "grid_gap": null,
       "grid_row": null,
       "grid_template_areas": null,
       "grid_template_columns": null,
       "grid_template_rows": null,
       "height": null,
       "justify_content": null,
       "justify_items": null,
       "left": null,
       "margin": null,
       "max_height": null,
       "max_width": null,
       "min_height": null,
       "min_width": null,
       "object_fit": null,
       "object_position": null,
       "order": null,
       "overflow": null,
       "padding": null,
       "right": null,
       "top": null,
       "visibility": null,
       "width": null
      }
     },
     "0ed15f4430ca479295b8f9164785b1a6": {
      "model_module": "@jupyter-widgets/controls",
      "model_module_version": "2.0.0",
      "model_name": "HTMLStyleModel",
      "state": {
       "_model_module": "@jupyter-widgets/controls",
       "_model_module_version": "2.0.0",
       "_model_name": "HTMLStyleModel",
       "_view_count": null,
       "_view_module": "@jupyter-widgets/base",
       "_view_module_version": "2.0.0",
       "_view_name": "StyleView",
       "background": null,
       "description_width": "",
       "font_size": null,
       "text_color": null
      }
     },
     "1c6652e1bd2f4fe9806cd2cd3d8b75cc": {
      "model_module": "@jupyter-widgets/base",
      "model_module_version": "2.0.0",
      "model_name": "LayoutModel",
      "state": {
       "_model_module": "@jupyter-widgets/base",
       "_model_module_version": "2.0.0",
       "_model_name": "LayoutModel",
       "_view_count": null,
       "_view_module": "@jupyter-widgets/base",
       "_view_module_version": "2.0.0",
       "_view_name": "LayoutView",
       "align_content": null,
       "align_items": null,
       "align_self": null,
       "border_bottom": null,
       "border_left": null,
       "border_right": null,
       "border_top": null,
       "bottom": null,
       "display": null,
       "flex": null,
       "flex_flow": null,
       "grid_area": null,
       "grid_auto_columns": null,
       "grid_auto_flow": null,
       "grid_auto_rows": null,
       "grid_column": null,
       "grid_gap": null,
       "grid_row": null,
       "grid_template_areas": null,
       "grid_template_columns": null,
       "grid_template_rows": null,
       "height": null,
       "justify_content": null,
       "justify_items": null,
       "left": null,
       "margin": null,
       "max_height": null,
       "max_width": null,
       "min_height": null,
       "min_width": null,
       "object_fit": null,
       "object_position": null,
       "order": null,
       "overflow": null,
       "padding": null,
       "right": null,
       "top": null,
       "visibility": null,
       "width": null
      }
     },
     "238b677f7bbf45b28b14912bd5a61e53": {
      "model_module": "@jupyter-widgets/base",
      "model_module_version": "2.0.0",
      "model_name": "LayoutModel",
      "state": {
       "_model_module": "@jupyter-widgets/base",
       "_model_module_version": "2.0.0",
       "_model_name": "LayoutModel",
       "_view_count": null,
       "_view_module": "@jupyter-widgets/base",
       "_view_module_version": "2.0.0",
       "_view_name": "LayoutView",
       "align_content": null,
       "align_items": null,
       "align_self": null,
       "border_bottom": null,
       "border_left": null,
       "border_right": null,
       "border_top": null,
       "bottom": null,
       "display": null,
       "flex": null,
       "flex_flow": null,
       "grid_area": null,
       "grid_auto_columns": null,
       "grid_auto_flow": null,
       "grid_auto_rows": null,
       "grid_column": null,
       "grid_gap": null,
       "grid_row": null,
       "grid_template_areas": null,
       "grid_template_columns": null,
       "grid_template_rows": null,
       "height": null,
       "justify_content": null,
       "justify_items": null,
       "left": null,
       "margin": null,
       "max_height": null,
       "max_width": null,
       "min_height": null,
       "min_width": null,
       "object_fit": null,
       "object_position": null,
       "order": null,
       "overflow": null,
       "padding": null,
       "right": null,
       "top": null,
       "visibility": null,
       "width": null
      }
     },
     "23ff324d7079404c954832c48a572ba6": {
      "model_module": "@jupyter-widgets/controls",
      "model_module_version": "2.0.0",
      "model_name": "ProgressStyleModel",
      "state": {
       "_model_module": "@jupyter-widgets/controls",
       "_model_module_version": "2.0.0",
       "_model_name": "ProgressStyleModel",
       "_view_count": null,
       "_view_module": "@jupyter-widgets/base",
       "_view_module_version": "2.0.0",
       "_view_name": "StyleView",
       "bar_color": null,
       "description_width": ""
      }
     },
     "26ef015356c94cd99087c9a48c027624": {
      "model_module": "@jupyter-widgets/base",
      "model_module_version": "2.0.0",
      "model_name": "LayoutModel",
      "state": {
       "_model_module": "@jupyter-widgets/base",
       "_model_module_version": "2.0.0",
       "_model_name": "LayoutModel",
       "_view_count": null,
       "_view_module": "@jupyter-widgets/base",
       "_view_module_version": "2.0.0",
       "_view_name": "LayoutView",
       "align_content": null,
       "align_items": null,
       "align_self": null,
       "border_bottom": null,
       "border_left": null,
       "border_right": null,
       "border_top": null,
       "bottom": null,
       "display": null,
       "flex": null,
       "flex_flow": null,
       "grid_area": null,
       "grid_auto_columns": null,
       "grid_auto_flow": null,
       "grid_auto_rows": null,
       "grid_column": null,
       "grid_gap": null,
       "grid_row": null,
       "grid_template_areas": null,
       "grid_template_columns": null,
       "grid_template_rows": null,
       "height": null,
       "justify_content": null,
       "justify_items": null,
       "left": null,
       "margin": null,
       "max_height": null,
       "max_width": null,
       "min_height": null,
       "min_width": null,
       "object_fit": null,
       "object_position": null,
       "order": null,
       "overflow": null,
       "padding": null,
       "right": null,
       "top": null,
       "visibility": null,
       "width": null
      }
     },
     "2984e4ea9a3f4a1c9efd4bc193658859": {
      "model_module": "@jupyter-widgets/base",
      "model_module_version": "2.0.0",
      "model_name": "LayoutModel",
      "state": {
       "_model_module": "@jupyter-widgets/base",
       "_model_module_version": "2.0.0",
       "_model_name": "LayoutModel",
       "_view_count": null,
       "_view_module": "@jupyter-widgets/base",
       "_view_module_version": "2.0.0",
       "_view_name": "LayoutView",
       "align_content": null,
       "align_items": null,
       "align_self": null,
       "border_bottom": null,
       "border_left": null,
       "border_right": null,
       "border_top": null,
       "bottom": null,
       "display": null,
       "flex": null,
       "flex_flow": null,
       "grid_area": null,
       "grid_auto_columns": null,
       "grid_auto_flow": null,
       "grid_auto_rows": null,
       "grid_column": null,
       "grid_gap": null,
       "grid_row": null,
       "grid_template_areas": null,
       "grid_template_columns": null,
       "grid_template_rows": null,
       "height": null,
       "justify_content": null,
       "justify_items": null,
       "left": null,
       "margin": null,
       "max_height": null,
       "max_width": null,
       "min_height": null,
       "min_width": null,
       "object_fit": null,
       "object_position": null,
       "order": null,
       "overflow": null,
       "padding": null,
       "right": null,
       "top": null,
       "visibility": null,
       "width": null
      }
     },
     "31d91eb0120b412e895a97b638f96ada": {
      "model_module": "@jupyter-widgets/controls",
      "model_module_version": "2.0.0",
      "model_name": "HTMLStyleModel",
      "state": {
       "_model_module": "@jupyter-widgets/controls",
       "_model_module_version": "2.0.0",
       "_model_name": "HTMLStyleModel",
       "_view_count": null,
       "_view_module": "@jupyter-widgets/base",
       "_view_module_version": "2.0.0",
       "_view_name": "StyleView",
       "background": null,
       "description_width": "",
       "font_size": null,
       "text_color": null
      }
     },
     "3b38e4dcd5654f5fa486ecab5f83e113": {
      "model_module": "@jupyter-widgets/controls",
      "model_module_version": "2.0.0",
      "model_name": "HTMLStyleModel",
      "state": {
       "_model_module": "@jupyter-widgets/controls",
       "_model_module_version": "2.0.0",
       "_model_name": "HTMLStyleModel",
       "_view_count": null,
       "_view_module": "@jupyter-widgets/base",
       "_view_module_version": "2.0.0",
       "_view_name": "StyleView",
       "background": null,
       "description_width": "",
       "font_size": null,
       "text_color": null
      }
     },
     "3c0436b67a3b4a2e869c1cf2b391eb0a": {
      "model_module": "@jupyter-widgets/base",
      "model_module_version": "2.0.0",
      "model_name": "LayoutModel",
      "state": {
       "_model_module": "@jupyter-widgets/base",
       "_model_module_version": "2.0.0",
       "_model_name": "LayoutModel",
       "_view_count": null,
       "_view_module": "@jupyter-widgets/base",
       "_view_module_version": "2.0.0",
       "_view_name": "LayoutView",
       "align_content": null,
       "align_items": null,
       "align_self": null,
       "border_bottom": null,
       "border_left": null,
       "border_right": null,
       "border_top": null,
       "bottom": null,
       "display": null,
       "flex": null,
       "flex_flow": null,
       "grid_area": null,
       "grid_auto_columns": null,
       "grid_auto_flow": null,
       "grid_auto_rows": null,
       "grid_column": null,
       "grid_gap": null,
       "grid_row": null,
       "grid_template_areas": null,
       "grid_template_columns": null,
       "grid_template_rows": null,
       "height": null,
       "justify_content": null,
       "justify_items": null,
       "left": null,
       "margin": null,
       "max_height": null,
       "max_width": null,
       "min_height": null,
       "min_width": null,
       "object_fit": null,
       "object_position": null,
       "order": null,
       "overflow": null,
       "padding": null,
       "right": null,
       "top": null,
       "visibility": null,
       "width": null
      }
     },
     "40dd71ee70ba461481f6e73a2576385a": {
      "model_module": "@jupyter-widgets/controls",
      "model_module_version": "2.0.0",
      "model_name": "HBoxModel",
      "state": {
       "_dom_classes": [],
       "_model_module": "@jupyter-widgets/controls",
       "_model_module_version": "2.0.0",
       "_model_name": "HBoxModel",
       "_view_count": null,
       "_view_module": "@jupyter-widgets/controls",
       "_view_module_version": "2.0.0",
       "_view_name": "HBoxView",
       "box_style": "",
       "children": [
        "IPY_MODEL_95041ec456364661a1ca0e6a28afbc8e",
        "IPY_MODEL_63591da8146d4843a364eebea59f08c4",
        "IPY_MODEL_5cb9f697d6094f5c99b9cf5412080964"
       ],
       "layout": "IPY_MODEL_26ef015356c94cd99087c9a48c027624",
       "tabbable": null,
       "tooltip": null
      }
     },
     "4e3306d633e64fea936de9aaeaa16c60": {
      "model_module": "@jupyter-widgets/controls",
      "model_module_version": "2.0.0",
      "model_name": "HBoxModel",
      "state": {
       "_dom_classes": [],
       "_model_module": "@jupyter-widgets/controls",
       "_model_module_version": "2.0.0",
       "_model_name": "HBoxModel",
       "_view_count": null,
       "_view_module": "@jupyter-widgets/controls",
       "_view_module_version": "2.0.0",
       "_view_name": "HBoxView",
       "box_style": "",
       "children": [
        "IPY_MODEL_cb6968ee74f145269adfa1b9e082792b",
        "IPY_MODEL_6f381cbafa1342f5bb50e6dd8ad9f80f",
        "IPY_MODEL_f6d0badc05ae4cb5937d55c4801eaf69"
       ],
       "layout": "IPY_MODEL_03c0a62aa80d4878b9d8130bf3f76a3e",
       "tabbable": null,
       "tooltip": null
      }
     },
     "5444b51360ca4de8937a945a297538f6": {
      "model_module": "@jupyter-widgets/base",
      "model_module_version": "2.0.0",
      "model_name": "LayoutModel",
      "state": {
       "_model_module": "@jupyter-widgets/base",
       "_model_module_version": "2.0.0",
       "_model_name": "LayoutModel",
       "_view_count": null,
       "_view_module": "@jupyter-widgets/base",
       "_view_module_version": "2.0.0",
       "_view_name": "LayoutView",
       "align_content": null,
       "align_items": null,
       "align_self": null,
       "border_bottom": null,
       "border_left": null,
       "border_right": null,
       "border_top": null,
       "bottom": null,
       "display": null,
       "flex": null,
       "flex_flow": null,
       "grid_area": null,
       "grid_auto_columns": null,
       "grid_auto_flow": null,
       "grid_auto_rows": null,
       "grid_column": null,
       "grid_gap": null,
       "grid_row": null,
       "grid_template_areas": null,
       "grid_template_columns": null,
       "grid_template_rows": null,
       "height": null,
       "justify_content": null,
       "justify_items": null,
       "left": null,
       "margin": null,
       "max_height": null,
       "max_width": null,
       "min_height": null,
       "min_width": null,
       "object_fit": null,
       "object_position": null,
       "order": null,
       "overflow": null,
       "padding": null,
       "right": null,
       "top": null,
       "visibility": null,
       "width": null
      }
     },
     "5a2d84540fac40e588b59a2af13776de": {
      "model_module": "@jupyter-widgets/base",
      "model_module_version": "2.0.0",
      "model_name": "LayoutModel",
      "state": {
       "_model_module": "@jupyter-widgets/base",
       "_model_module_version": "2.0.0",
       "_model_name": "LayoutModel",
       "_view_count": null,
       "_view_module": "@jupyter-widgets/base",
       "_view_module_version": "2.0.0",
       "_view_name": "LayoutView",
       "align_content": null,
       "align_items": null,
       "align_self": null,
       "border_bottom": null,
       "border_left": null,
       "border_right": null,
       "border_top": null,
       "bottom": null,
       "display": null,
       "flex": null,
       "flex_flow": null,
       "grid_area": null,
       "grid_auto_columns": null,
       "grid_auto_flow": null,
       "grid_auto_rows": null,
       "grid_column": null,
       "grid_gap": null,
       "grid_row": null,
       "grid_template_areas": null,
       "grid_template_columns": null,
       "grid_template_rows": null,
       "height": null,
       "justify_content": null,
       "justify_items": null,
       "left": null,
       "margin": null,
       "max_height": null,
       "max_width": null,
       "min_height": null,
       "min_width": null,
       "object_fit": null,
       "object_position": null,
       "order": null,
       "overflow": null,
       "padding": null,
       "right": null,
       "top": null,
       "visibility": null,
       "width": null
      }
     },
     "5cb9f697d6094f5c99b9cf5412080964": {
      "model_module": "@jupyter-widgets/controls",
      "model_module_version": "2.0.0",
      "model_name": "HTMLModel",
      "state": {
       "_dom_classes": [],
       "_model_module": "@jupyter-widgets/controls",
       "_model_module_version": "2.0.0",
       "_model_name": "HTMLModel",
       "_view_count": null,
       "_view_module": "@jupyter-widgets/controls",
       "_view_module_version": "2.0.0",
       "_view_name": "HTMLView",
       "description": "",
       "description_allow_html": false,
       "layout": "IPY_MODEL_2984e4ea9a3f4a1c9efd4bc193658859",
       "placeholder": "​",
       "style": "IPY_MODEL_0ed15f4430ca479295b8f9164785b1a6",
       "tabbable": null,
       "tooltip": null,
       "value": " 615/615 [00:00&lt;00:00, 27.0kB/s]"
      }
     },
     "601e96be6f264fd88eb03b620e265734": {
      "model_module": "@jupyter-widgets/controls",
      "model_module_version": "2.0.0",
      "model_name": "HBoxModel",
      "state": {
       "_dom_classes": [],
       "_model_module": "@jupyter-widgets/controls",
       "_model_module_version": "2.0.0",
       "_model_name": "HBoxModel",
       "_view_count": null,
       "_view_module": "@jupyter-widgets/controls",
       "_view_module_version": "2.0.0",
       "_view_name": "HBoxView",
       "box_style": "",
       "children": [
        "IPY_MODEL_b3907b4e99454da0a02d0dd64209244f",
        "IPY_MODEL_9564472500c04a31af8ea9c044a970c2",
        "IPY_MODEL_b08389f542074544bb734d3d5453cbd1"
       ],
       "layout": "IPY_MODEL_e5f7d4fa1e5f4673872b0c78b3e861b7",
       "tabbable": null,
       "tooltip": null
      }
     },
     "63591da8146d4843a364eebea59f08c4": {
      "model_module": "@jupyter-widgets/controls",
      "model_module_version": "2.0.0",
      "model_name": "FloatProgressModel",
      "state": {
       "_dom_classes": [],
       "_model_module": "@jupyter-widgets/controls",
       "_model_module_version": "2.0.0",
       "_model_name": "FloatProgressModel",
       "_view_count": null,
       "_view_module": "@jupyter-widgets/controls",
       "_view_module_version": "2.0.0",
       "_view_name": "ProgressView",
       "bar_style": "success",
       "description": "",
       "description_allow_html": false,
       "layout": "IPY_MODEL_5a2d84540fac40e588b59a2af13776de",
       "max": 615.0,
       "min": 0.0,
       "orientation": "horizontal",
       "style": "IPY_MODEL_abb4641a8dcb4adbb0c6d57ee60624d6",
       "tabbable": null,
       "tooltip": null,
       "value": 615.0
      }
     },
     "65c1094fab874e1db78ba20236e309f4": {
      "model_module": "@jupyter-widgets/base",
      "model_module_version": "2.0.0",
      "model_name": "LayoutModel",
      "state": {
       "_model_module": "@jupyter-widgets/base",
       "_model_module_version": "2.0.0",
       "_model_name": "LayoutModel",
       "_view_count": null,
       "_view_module": "@jupyter-widgets/base",
       "_view_module_version": "2.0.0",
       "_view_name": "LayoutView",
       "align_content": null,
       "align_items": null,
       "align_self": null,
       "border_bottom": null,
       "border_left": null,
       "border_right": null,
       "border_top": null,
       "bottom": null,
       "display": null,
       "flex": null,
       "flex_flow": null,
       "grid_area": null,
       "grid_auto_columns": null,
       "grid_auto_flow": null,
       "grid_auto_rows": null,
       "grid_column": null,
       "grid_gap": null,
       "grid_row": null,
       "grid_template_areas": null,
       "grid_template_columns": null,
       "grid_template_rows": null,
       "height": null,
       "justify_content": null,
       "justify_items": null,
       "left": null,
       "margin": null,
       "max_height": null,
       "max_width": null,
       "min_height": null,
       "min_width": null,
       "object_fit": null,
       "object_position": null,
       "order": null,
       "overflow": null,
       "padding": null,
       "right": null,
       "top": null,
       "visibility": null,
       "width": null
      }
     },
     "6b96d094f2d746e2978f947d2fc467d2": {
      "model_module": "@jupyter-widgets/controls",
      "model_module_version": "2.0.0",
      "model_name": "HBoxModel",
      "state": {
       "_dom_classes": [],
       "_model_module": "@jupyter-widgets/controls",
       "_model_module_version": "2.0.0",
       "_model_name": "HBoxModel",
       "_view_count": null,
       "_view_module": "@jupyter-widgets/controls",
       "_view_module_version": "2.0.0",
       "_view_name": "HBoxView",
       "box_style": "",
       "children": [
        "IPY_MODEL_dc676bcea3db46108d1461c9f6ea6029",
        "IPY_MODEL_fe2f53e538cd494a9221da55544f9b7a",
        "IPY_MODEL_efee0d4b9a80433f9f176756de6fb229"
       ],
       "layout": "IPY_MODEL_f0e71ff234ac47aea66c43f3cd68702c",
       "tabbable": null,
       "tooltip": null
      }
     },
     "6df1635346ba4055a4a58eb9711e31fa": {
      "model_module": "@jupyter-widgets/controls",
      "model_module_version": "2.0.0",
      "model_name": "HTMLStyleModel",
      "state": {
       "_model_module": "@jupyter-widgets/controls",
       "_model_module_version": "2.0.0",
       "_model_name": "HTMLStyleModel",
       "_view_count": null,
       "_view_module": "@jupyter-widgets/base",
       "_view_module_version": "2.0.0",
       "_view_name": "StyleView",
       "background": null,
       "description_width": "",
       "font_size": null,
       "text_color": null
      }
     },
     "6f381cbafa1342f5bb50e6dd8ad9f80f": {
      "model_module": "@jupyter-widgets/controls",
      "model_module_version": "2.0.0",
      "model_name": "FloatProgressModel",
      "state": {
       "_dom_classes": [],
       "_model_module": "@jupyter-widgets/controls",
       "_model_module_version": "2.0.0",
       "_model_name": "FloatProgressModel",
       "_view_count": null,
       "_view_module": "@jupyter-widgets/controls",
       "_view_module_version": "2.0.0",
       "_view_name": "ProgressView",
       "bar_style": "success",
       "description": "",
       "description_allow_html": false,
       "layout": "IPY_MODEL_0d9423c4485a434ca6d659d0c60e3edc",
       "max": 9096718.0,
       "min": 0.0,
       "orientation": "horizontal",
       "style": "IPY_MODEL_def855d3f119409eaeec24325a2fc8a7",
       "tabbable": null,
       "tooltip": null,
       "value": 9096718.0
      }
     },
     "70a8902444354d709f148e5db7932231": {
      "model_module": "@jupyter-widgets/base",
      "model_module_version": "2.0.0",
      "model_name": "LayoutModel",
      "state": {
       "_model_module": "@jupyter-widgets/base",
       "_model_module_version": "2.0.0",
       "_model_name": "LayoutModel",
       "_view_count": null,
       "_view_module": "@jupyter-widgets/base",
       "_view_module_version": "2.0.0",
       "_view_name": "LayoutView",
       "align_content": null,
       "align_items": null,
       "align_self": null,
       "border_bottom": null,
       "border_left": null,
       "border_right": null,
       "border_top": null,
       "bottom": null,
       "display": null,
       "flex": null,
       "flex_flow": null,
       "grid_area": null,
       "grid_auto_columns": null,
       "grid_auto_flow": null,
       "grid_auto_rows": null,
       "grid_column": null,
       "grid_gap": null,
       "grid_row": null,
       "grid_template_areas": null,
       "grid_template_columns": null,
       "grid_template_rows": null,
       "height": null,
       "justify_content": null,
       "justify_items": null,
       "left": null,
       "margin": null,
       "max_height": null,
       "max_width": null,
       "min_height": null,
       "min_width": null,
       "object_fit": null,
       "object_position": null,
       "order": null,
       "overflow": null,
       "padding": null,
       "right": null,
       "top": null,
       "visibility": null,
       "width": null
      }
     },
     "72eab78d235c45bb86c72d10abea2b19": {
      "model_module": "@jupyter-widgets/base",
      "model_module_version": "2.0.0",
      "model_name": "LayoutModel",
      "state": {
       "_model_module": "@jupyter-widgets/base",
       "_model_module_version": "2.0.0",
       "_model_name": "LayoutModel",
       "_view_count": null,
       "_view_module": "@jupyter-widgets/base",
       "_view_module_version": "2.0.0",
       "_view_name": "LayoutView",
       "align_content": null,
       "align_items": null,
       "align_self": null,
       "border_bottom": null,
       "border_left": null,
       "border_right": null,
       "border_top": null,
       "bottom": null,
       "display": null,
       "flex": null,
       "flex_flow": null,
       "grid_area": null,
       "grid_auto_columns": null,
       "grid_auto_flow": null,
       "grid_auto_rows": null,
       "grid_column": null,
       "grid_gap": null,
       "grid_row": null,
       "grid_template_areas": null,
       "grid_template_columns": null,
       "grid_template_rows": null,
       "height": null,
       "justify_content": null,
       "justify_items": null,
       "left": null,
       "margin": null,
       "max_height": null,
       "max_width": null,
       "min_height": null,
       "min_width": null,
       "object_fit": null,
       "object_position": null,
       "order": null,
       "overflow": null,
       "padding": null,
       "right": null,
       "top": null,
       "visibility": null,
       "width": null
      }
     },
     "7932209cc8234f8482ef1307fe288e86": {
      "model_module": "@jupyter-widgets/controls",
      "model_module_version": "2.0.0",
      "model_name": "ProgressStyleModel",
      "state": {
       "_model_module": "@jupyter-widgets/controls",
       "_model_module_version": "2.0.0",
       "_model_name": "ProgressStyleModel",
       "_view_count": null,
       "_view_module": "@jupyter-widgets/base",
       "_view_module_version": "2.0.0",
       "_view_name": "StyleView",
       "bar_color": null,
       "description_width": ""
      }
     },
     "7f292ca6375f4b08a793dcbf303d3f39": {
      "model_module": "@jupyter-widgets/controls",
      "model_module_version": "2.0.0",
      "model_name": "HTMLStyleModel",
      "state": {
       "_model_module": "@jupyter-widgets/controls",
       "_model_module_version": "2.0.0",
       "_model_name": "HTMLStyleModel",
       "_view_count": null,
       "_view_module": "@jupyter-widgets/base",
       "_view_module_version": "2.0.0",
       "_view_name": "StyleView",
       "background": null,
       "description_width": "",
       "font_size": null,
       "text_color": null
      }
     },
     "822c29f2a88149bc89a11dacd5c92602": {
      "model_module": "@jupyter-widgets/base",
      "model_module_version": "2.0.0",
      "model_name": "LayoutModel",
      "state": {
       "_model_module": "@jupyter-widgets/base",
       "_model_module_version": "2.0.0",
       "_model_name": "LayoutModel",
       "_view_count": null,
       "_view_module": "@jupyter-widgets/base",
       "_view_module_version": "2.0.0",
       "_view_name": "LayoutView",
       "align_content": null,
       "align_items": null,
       "align_self": null,
       "border_bottom": null,
       "border_left": null,
       "border_right": null,
       "border_top": null,
       "bottom": null,
       "display": null,
       "flex": null,
       "flex_flow": null,
       "grid_area": null,
       "grid_auto_columns": null,
       "grid_auto_flow": null,
       "grid_auto_rows": null,
       "grid_column": null,
       "grid_gap": null,
       "grid_row": null,
       "grid_template_areas": null,
       "grid_template_columns": null,
       "grid_template_rows": null,
       "height": null,
       "justify_content": null,
       "justify_items": null,
       "left": null,
       "margin": null,
       "max_height": null,
       "max_width": null,
       "min_height": null,
       "min_width": null,
       "object_fit": null,
       "object_position": null,
       "order": null,
       "overflow": null,
       "padding": null,
       "right": null,
       "top": null,
       "visibility": null,
       "width": null
      }
     },
     "827a7d7289d4430489377b625dba2171": {
      "model_module": "@jupyter-widgets/base",
      "model_module_version": "2.0.0",
      "model_name": "LayoutModel",
      "state": {
       "_model_module": "@jupyter-widgets/base",
       "_model_module_version": "2.0.0",
       "_model_name": "LayoutModel",
       "_view_count": null,
       "_view_module": "@jupyter-widgets/base",
       "_view_module_version": "2.0.0",
       "_view_name": "LayoutView",
       "align_content": null,
       "align_items": null,
       "align_self": null,
       "border_bottom": null,
       "border_left": null,
       "border_right": null,
       "border_top": null,
       "bottom": null,
       "display": null,
       "flex": null,
       "flex_flow": null,
       "grid_area": null,
       "grid_auto_columns": null,
       "grid_auto_flow": null,
       "grid_auto_rows": null,
       "grid_column": null,
       "grid_gap": null,
       "grid_row": null,
       "grid_template_areas": null,
       "grid_template_columns": null,
       "grid_template_rows": null,
       "height": null,
       "justify_content": null,
       "justify_items": null,
       "left": null,
       "margin": null,
       "max_height": null,
       "max_width": null,
       "min_height": null,
       "min_width": null,
       "object_fit": null,
       "object_position": null,
       "order": null,
       "overflow": null,
       "padding": null,
       "right": null,
       "top": null,
       "visibility": null,
       "width": null
      }
     },
     "92d983eb539042e9a3f57e70cbff79c5": {
      "model_module": "@jupyter-widgets/base",
      "model_module_version": "2.0.0",
      "model_name": "LayoutModel",
      "state": {
       "_model_module": "@jupyter-widgets/base",
       "_model_module_version": "2.0.0",
       "_model_name": "LayoutModel",
       "_view_count": null,
       "_view_module": "@jupyter-widgets/base",
       "_view_module_version": "2.0.0",
       "_view_name": "LayoutView",
       "align_content": null,
       "align_items": null,
       "align_self": null,
       "border_bottom": null,
       "border_left": null,
       "border_right": null,
       "border_top": null,
       "bottom": null,
       "display": null,
       "flex": null,
       "flex_flow": null,
       "grid_area": null,
       "grid_auto_columns": null,
       "grid_auto_flow": null,
       "grid_auto_rows": null,
       "grid_column": null,
       "grid_gap": null,
       "grid_row": null,
       "grid_template_areas": null,
       "grid_template_columns": null,
       "grid_template_rows": null,
       "height": null,
       "justify_content": null,
       "justify_items": null,
       "left": null,
       "margin": null,
       "max_height": null,
       "max_width": null,
       "min_height": null,
       "min_width": null,
       "object_fit": null,
       "object_position": null,
       "order": null,
       "overflow": null,
       "padding": null,
       "right": null,
       "top": null,
       "visibility": null,
       "width": null
      }
     },
     "95041ec456364661a1ca0e6a28afbc8e": {
      "model_module": "@jupyter-widgets/controls",
      "model_module_version": "2.0.0",
      "model_name": "HTMLModel",
      "state": {
       "_dom_classes": [],
       "_model_module": "@jupyter-widgets/controls",
       "_model_module_version": "2.0.0",
       "_model_name": "HTMLModel",
       "_view_count": null,
       "_view_module": "@jupyter-widgets/controls",
       "_view_module_version": "2.0.0",
       "_view_name": "HTMLView",
       "description": "",
       "description_allow_html": false,
       "layout": "IPY_MODEL_827a7d7289d4430489377b625dba2171",
       "placeholder": "​",
       "style": "IPY_MODEL_31d91eb0120b412e895a97b638f96ada",
       "tabbable": null,
       "tooltip": null,
       "value": "config.json: 100%"
      }
     },
     "9564472500c04a31af8ea9c044a970c2": {
      "model_module": "@jupyter-widgets/controls",
      "model_module_version": "2.0.0",
      "model_name": "FloatProgressModel",
      "state": {
       "_dom_classes": [],
       "_model_module": "@jupyter-widgets/controls",
       "_model_module_version": "2.0.0",
       "_model_name": "FloatProgressModel",
       "_view_count": null,
       "_view_module": "@jupyter-widgets/controls",
       "_view_module_version": "2.0.0",
       "_view_name": "ProgressView",
       "bar_style": "success",
       "description": "",
       "description_allow_html": false,
       "layout": "IPY_MODEL_3c0436b67a3b4a2e869c1cf2b391eb0a",
       "max": 1115567652.0,
       "min": 0.0,
       "orientation": "horizontal",
       "style": "IPY_MODEL_cb8b0b90b2a341ed9bc6f84f8dbd7953",
       "tabbable": null,
       "tooltip": null,
       "value": 1115567652.0
      }
     },
     "99f359ed119c42ce884b35c42c831eba": {
      "model_module": "@jupyter-widgets/controls",
      "model_module_version": "2.0.0",
      "model_name": "HTMLStyleModel",
      "state": {
       "_model_module": "@jupyter-widgets/controls",
       "_model_module_version": "2.0.0",
       "_model_name": "HTMLStyleModel",
       "_view_count": null,
       "_view_module": "@jupyter-widgets/base",
       "_view_module_version": "2.0.0",
       "_view_name": "StyleView",
       "background": null,
       "description_width": "",
       "font_size": null,
       "text_color": null
      }
     },
     "9f191336560e46418273abf691f9f3e7": {
      "model_module": "@jupyter-widgets/base",
      "model_module_version": "2.0.0",
      "model_name": "LayoutModel",
      "state": {
       "_model_module": "@jupyter-widgets/base",
       "_model_module_version": "2.0.0",
       "_model_name": "LayoutModel",
       "_view_count": null,
       "_view_module": "@jupyter-widgets/base",
       "_view_module_version": "2.0.0",
       "_view_name": "LayoutView",
       "align_content": null,
       "align_items": null,
       "align_self": null,
       "border_bottom": null,
       "border_left": null,
       "border_right": null,
       "border_top": null,
       "bottom": null,
       "display": null,
       "flex": null,
       "flex_flow": null,
       "grid_area": null,
       "grid_auto_columns": null,
       "grid_auto_flow": null,
       "grid_auto_rows": null,
       "grid_column": null,
       "grid_gap": null,
       "grid_row": null,
       "grid_template_areas": null,
       "grid_template_columns": null,
       "grid_template_rows": null,
       "height": null,
       "justify_content": null,
       "justify_items": null,
       "left": null,
       "margin": null,
       "max_height": null,
       "max_width": null,
       "min_height": null,
       "min_width": null,
       "object_fit": null,
       "object_position": null,
       "order": null,
       "overflow": null,
       "padding": null,
       "right": null,
       "top": null,
       "visibility": null,
       "width": null
      }
     },
     "a69d0d5bd3054eeba8c9d682c6459a64": {
      "model_module": "@jupyter-widgets/controls",
      "model_module_version": "2.0.0",
      "model_name": "HBoxModel",
      "state": {
       "_dom_classes": [],
       "_model_module": "@jupyter-widgets/controls",
       "_model_module_version": "2.0.0",
       "_model_name": "HBoxModel",
       "_view_count": null,
       "_view_module": "@jupyter-widgets/controls",
       "_view_module_version": "2.0.0",
       "_view_name": "HBoxView",
       "box_style": "",
       "children": [
        "IPY_MODEL_b8e3d857a17848e7b69c62baa3f06a87",
        "IPY_MODEL_e6b01cf6b620463fa44eab3913d26d34",
        "IPY_MODEL_dc6b2d3e8cf84a8c93aaf47a19e77227"
       ],
       "layout": "IPY_MODEL_da44593a715546fd9b3f473277609ca1",
       "tabbable": null,
       "tooltip": null
      }
     },
     "abb4641a8dcb4adbb0c6d57ee60624d6": {
      "model_module": "@jupyter-widgets/controls",
      "model_module_version": "2.0.0",
      "model_name": "ProgressStyleModel",
      "state": {
       "_model_module": "@jupyter-widgets/controls",
       "_model_module_version": "2.0.0",
       "_model_name": "ProgressStyleModel",
       "_view_count": null,
       "_view_module": "@jupyter-widgets/base",
       "_view_module_version": "2.0.0",
       "_view_name": "StyleView",
       "bar_color": null,
       "description_width": ""
      }
     },
     "b08389f542074544bb734d3d5453cbd1": {
      "model_module": "@jupyter-widgets/controls",
      "model_module_version": "2.0.0",
      "model_name": "HTMLModel",
      "state": {
       "_dom_classes": [],
       "_model_module": "@jupyter-widgets/controls",
       "_model_module_version": "2.0.0",
       "_model_name": "HTMLModel",
       "_view_count": null,
       "_view_module": "@jupyter-widgets/controls",
       "_view_module_version": "2.0.0",
       "_view_name": "HTMLView",
       "description": "",
       "description_allow_html": false,
       "layout": "IPY_MODEL_9f191336560e46418273abf691f9f3e7",
       "placeholder": "​",
       "style": "IPY_MODEL_ee2b2c7d120a4a60aab74d0ce26e0ef3",
       "tabbable": null,
       "tooltip": null,
       "value": " 1.12G/1.12G [00:04&lt;00:00, 238MB/s]"
      }
     },
     "b3907b4e99454da0a02d0dd64209244f": {
      "model_module": "@jupyter-widgets/controls",
      "model_module_version": "2.0.0",
      "model_name": "HTMLModel",
      "state": {
       "_dom_classes": [],
       "_model_module": "@jupyter-widgets/controls",
       "_model_module_version": "2.0.0",
       "_model_name": "HTMLModel",
       "_view_count": null,
       "_view_module": "@jupyter-widgets/controls",
       "_view_module_version": "2.0.0",
       "_view_name": "HTMLView",
       "description": "",
       "description_allow_html": false,
       "layout": "IPY_MODEL_70a8902444354d709f148e5db7932231",
       "placeholder": "​",
       "style": "IPY_MODEL_d568d1a64aec4e6598d5d15222a2821f",
       "tabbable": null,
       "tooltip": null,
       "value": "model.safetensors: 100%"
      }
     },
     "b8e3d857a17848e7b69c62baa3f06a87": {
      "model_module": "@jupyter-widgets/controls",
      "model_module_version": "2.0.0",
      "model_name": "HTMLModel",
      "state": {
       "_dom_classes": [],
       "_model_module": "@jupyter-widgets/controls",
       "_model_module_version": "2.0.0",
       "_model_name": "HTMLModel",
       "_view_count": null,
       "_view_module": "@jupyter-widgets/controls",
       "_view_module_version": "2.0.0",
       "_view_name": "HTMLView",
       "description": "",
       "description_allow_html": false,
       "layout": "IPY_MODEL_238b677f7bbf45b28b14912bd5a61e53",
       "placeholder": "​",
       "style": "IPY_MODEL_6df1635346ba4055a4a58eb9711e31fa",
       "tabbable": null,
       "tooltip": null,
       "value": "tokenizer_config.json: 100%"
      }
     },
     "bcbcd3a842ca415ca973c9124838eaea": {
      "model_module": "@jupyter-widgets/controls",
      "model_module_version": "2.0.0",
      "model_name": "HTMLStyleModel",
      "state": {
       "_model_module": "@jupyter-widgets/controls",
       "_model_module_version": "2.0.0",
       "_model_name": "HTMLStyleModel",
       "_view_count": null,
       "_view_module": "@jupyter-widgets/base",
       "_view_module_version": "2.0.0",
       "_view_name": "StyleView",
       "background": null,
       "description_width": "",
       "font_size": null,
       "text_color": null
      }
     },
     "cb6968ee74f145269adfa1b9e082792b": {
      "model_module": "@jupyter-widgets/controls",
      "model_module_version": "2.0.0",
      "model_name": "HTMLModel",
      "state": {
       "_dom_classes": [],
       "_model_module": "@jupyter-widgets/controls",
       "_model_module_version": "2.0.0",
       "_model_name": "HTMLModel",
       "_view_count": null,
       "_view_module": "@jupyter-widgets/controls",
       "_view_module_version": "2.0.0",
       "_view_name": "HTMLView",
       "description": "",
       "description_allow_html": false,
       "layout": "IPY_MODEL_5444b51360ca4de8937a945a297538f6",
       "placeholder": "​",
       "style": "IPY_MODEL_bcbcd3a842ca415ca973c9124838eaea",
       "tabbable": null,
       "tooltip": null,
       "value": "tokenizer.json: 100%"
      }
     },
     "cb8b0b90b2a341ed9bc6f84f8dbd7953": {
      "model_module": "@jupyter-widgets/controls",
      "model_module_version": "2.0.0",
      "model_name": "ProgressStyleModel",
      "state": {
       "_model_module": "@jupyter-widgets/controls",
       "_model_module_version": "2.0.0",
       "_model_name": "ProgressStyleModel",
       "_view_count": null,
       "_view_module": "@jupyter-widgets/base",
       "_view_module_version": "2.0.0",
       "_view_name": "StyleView",
       "bar_color": null,
       "description_width": ""
      }
     },
     "d568d1a64aec4e6598d5d15222a2821f": {
      "model_module": "@jupyter-widgets/controls",
      "model_module_version": "2.0.0",
      "model_name": "HTMLStyleModel",
      "state": {
       "_model_module": "@jupyter-widgets/controls",
       "_model_module_version": "2.0.0",
       "_model_name": "HTMLStyleModel",
       "_view_count": null,
       "_view_module": "@jupyter-widgets/base",
       "_view_module_version": "2.0.0",
       "_view_name": "StyleView",
       "background": null,
       "description_width": "",
       "font_size": null,
       "text_color": null
      }
     },
     "da44593a715546fd9b3f473277609ca1": {
      "model_module": "@jupyter-widgets/base",
      "model_module_version": "2.0.0",
      "model_name": "LayoutModel",
      "state": {
       "_model_module": "@jupyter-widgets/base",
       "_model_module_version": "2.0.0",
       "_model_name": "LayoutModel",
       "_view_count": null,
       "_view_module": "@jupyter-widgets/base",
       "_view_module_version": "2.0.0",
       "_view_name": "LayoutView",
       "align_content": null,
       "align_items": null,
       "align_self": null,
       "border_bottom": null,
       "border_left": null,
       "border_right": null,
       "border_top": null,
       "bottom": null,
       "display": null,
       "flex": null,
       "flex_flow": null,
       "grid_area": null,
       "grid_auto_columns": null,
       "grid_auto_flow": null,
       "grid_auto_rows": null,
       "grid_column": null,
       "grid_gap": null,
       "grid_row": null,
       "grid_template_areas": null,
       "grid_template_columns": null,
       "grid_template_rows": null,
       "height": null,
       "justify_content": null,
       "justify_items": null,
       "left": null,
       "margin": null,
       "max_height": null,
       "max_width": null,
       "min_height": null,
       "min_width": null,
       "object_fit": null,
       "object_position": null,
       "order": null,
       "overflow": null,
       "padding": null,
       "right": null,
       "top": null,
       "visibility": null,
       "width": null
      }
     },
     "dc676bcea3db46108d1461c9f6ea6029": {
      "model_module": "@jupyter-widgets/controls",
      "model_module_version": "2.0.0",
      "model_name": "HTMLModel",
      "state": {
       "_dom_classes": [],
       "_model_module": "@jupyter-widgets/controls",
       "_model_module_version": "2.0.0",
       "_model_name": "HTMLModel",
       "_view_count": null,
       "_view_module": "@jupyter-widgets/controls",
       "_view_module_version": "2.0.0",
       "_view_name": "HTMLView",
       "description": "",
       "description_allow_html": false,
       "layout": "IPY_MODEL_92d983eb539042e9a3f57e70cbff79c5",
       "placeholder": "​",
       "style": "IPY_MODEL_7f292ca6375f4b08a793dcbf303d3f39",
       "tabbable": null,
       "tooltip": null,
       "value": "sentencepiece.bpe.model: 100%"
      }
     },
     "dc6b2d3e8cf84a8c93aaf47a19e77227": {
      "model_module": "@jupyter-widgets/controls",
      "model_module_version": "2.0.0",
      "model_name": "HTMLModel",
      "state": {
       "_dom_classes": [],
       "_model_module": "@jupyter-widgets/controls",
       "_model_module_version": "2.0.0",
       "_model_name": "HTMLModel",
       "_view_count": null,
       "_view_module": "@jupyter-widgets/controls",
       "_view_module_version": "2.0.0",
       "_view_name": "HTMLView",
       "description": "",
       "description_allow_html": false,
       "layout": "IPY_MODEL_f23ee54fc9124c7a8e5811c70b6a7c13",
       "placeholder": "​",
       "style": "IPY_MODEL_99f359ed119c42ce884b35c42c831eba",
       "tabbable": null,
       "tooltip": null,
       "value": " 25.0/25.0 [00:00&lt;00:00, 2.16kB/s]"
      }
     },
     "def855d3f119409eaeec24325a2fc8a7": {
      "model_module": "@jupyter-widgets/controls",
      "model_module_version": "2.0.0",
      "model_name": "ProgressStyleModel",
      "state": {
       "_model_module": "@jupyter-widgets/controls",
       "_model_module_version": "2.0.0",
       "_model_name": "ProgressStyleModel",
       "_view_count": null,
       "_view_module": "@jupyter-widgets/base",
       "_view_module_version": "2.0.0",
       "_view_name": "StyleView",
       "bar_color": null,
       "description_width": ""
      }
     },
     "e5f7d4fa1e5f4673872b0c78b3e861b7": {
      "model_module": "@jupyter-widgets/base",
      "model_module_version": "2.0.0",
      "model_name": "LayoutModel",
      "state": {
       "_model_module": "@jupyter-widgets/base",
       "_model_module_version": "2.0.0",
       "_model_name": "LayoutModel",
       "_view_count": null,
       "_view_module": "@jupyter-widgets/base",
       "_view_module_version": "2.0.0",
       "_view_name": "LayoutView",
       "align_content": null,
       "align_items": null,
       "align_self": null,
       "border_bottom": null,
       "border_left": null,
       "border_right": null,
       "border_top": null,
       "bottom": null,
       "display": null,
       "flex": null,
       "flex_flow": null,
       "grid_area": null,
       "grid_auto_columns": null,
       "grid_auto_flow": null,
       "grid_auto_rows": null,
       "grid_column": null,
       "grid_gap": null,
       "grid_row": null,
       "grid_template_areas": null,
       "grid_template_columns": null,
       "grid_template_rows": null,
       "height": null,
       "justify_content": null,
       "justify_items": null,
       "left": null,
       "margin": null,
       "max_height": null,
       "max_width": null,
       "min_height": null,
       "min_width": null,
       "object_fit": null,
       "object_position": null,
       "order": null,
       "overflow": null,
       "padding": null,
       "right": null,
       "top": null,
       "visibility": null,
       "width": null
      }
     },
     "e6b01cf6b620463fa44eab3913d26d34": {
      "model_module": "@jupyter-widgets/controls",
      "model_module_version": "2.0.0",
      "model_name": "FloatProgressModel",
      "state": {
       "_dom_classes": [],
       "_model_module": "@jupyter-widgets/controls",
       "_model_module_version": "2.0.0",
       "_model_name": "FloatProgressModel",
       "_view_count": null,
       "_view_module": "@jupyter-widgets/controls",
       "_view_module_version": "2.0.0",
       "_view_name": "ProgressView",
       "bar_style": "success",
       "description": "",
       "description_allow_html": false,
       "layout": "IPY_MODEL_1c6652e1bd2f4fe9806cd2cd3d8b75cc",
       "max": 25.0,
       "min": 0.0,
       "orientation": "horizontal",
       "style": "IPY_MODEL_23ff324d7079404c954832c48a572ba6",
       "tabbable": null,
       "tooltip": null,
       "value": 25.0
      }
     },
     "ee2b2c7d120a4a60aab74d0ce26e0ef3": {
      "model_module": "@jupyter-widgets/controls",
      "model_module_version": "2.0.0",
      "model_name": "HTMLStyleModel",
      "state": {
       "_model_module": "@jupyter-widgets/controls",
       "_model_module_version": "2.0.0",
       "_model_name": "HTMLStyleModel",
       "_view_count": null,
       "_view_module": "@jupyter-widgets/base",
       "_view_module_version": "2.0.0",
       "_view_name": "StyleView",
       "background": null,
       "description_width": "",
       "font_size": null,
       "text_color": null
      }
     },
     "efee0d4b9a80433f9f176756de6fb229": {
      "model_module": "@jupyter-widgets/controls",
      "model_module_version": "2.0.0",
      "model_name": "HTMLModel",
      "state": {
       "_dom_classes": [],
       "_model_module": "@jupyter-widgets/controls",
       "_model_module_version": "2.0.0",
       "_model_name": "HTMLModel",
       "_view_count": null,
       "_view_module": "@jupyter-widgets/controls",
       "_view_module_version": "2.0.0",
       "_view_name": "HTMLView",
       "description": "",
       "description_allow_html": false,
       "layout": "IPY_MODEL_822c29f2a88149bc89a11dacd5c92602",
       "placeholder": "​",
       "style": "IPY_MODEL_3b38e4dcd5654f5fa486ecab5f83e113",
       "tabbable": null,
       "tooltip": null,
       "value": " 5.07M/5.07M [00:00&lt;00:00, 28.7MB/s]"
      }
     },
     "f0e71ff234ac47aea66c43f3cd68702c": {
      "model_module": "@jupyter-widgets/base",
      "model_module_version": "2.0.0",
      "model_name": "LayoutModel",
      "state": {
       "_model_module": "@jupyter-widgets/base",
       "_model_module_version": "2.0.0",
       "_model_name": "LayoutModel",
       "_view_count": null,
       "_view_module": "@jupyter-widgets/base",
       "_view_module_version": "2.0.0",
       "_view_name": "LayoutView",
       "align_content": null,
       "align_items": null,
       "align_self": null,
       "border_bottom": null,
       "border_left": null,
       "border_right": null,
       "border_top": null,
       "bottom": null,
       "display": null,
       "flex": null,
       "flex_flow": null,
       "grid_area": null,
       "grid_auto_columns": null,
       "grid_auto_flow": null,
       "grid_auto_rows": null,
       "grid_column": null,
       "grid_gap": null,
       "grid_row": null,
       "grid_template_areas": null,
       "grid_template_columns": null,
       "grid_template_rows": null,
       "height": null,
       "justify_content": null,
       "justify_items": null,
       "left": null,
       "margin": null,
       "max_height": null,
       "max_width": null,
       "min_height": null,
       "min_width": null,
       "object_fit": null,
       "object_position": null,
       "order": null,
       "overflow": null,
       "padding": null,
       "right": null,
       "top": null,
       "visibility": null,
       "width": null
      }
     },
     "f23ee54fc9124c7a8e5811c70b6a7c13": {
      "model_module": "@jupyter-widgets/base",
      "model_module_version": "2.0.0",
      "model_name": "LayoutModel",
      "state": {
       "_model_module": "@jupyter-widgets/base",
       "_model_module_version": "2.0.0",
       "_model_name": "LayoutModel",
       "_view_count": null,
       "_view_module": "@jupyter-widgets/base",
       "_view_module_version": "2.0.0",
       "_view_name": "LayoutView",
       "align_content": null,
       "align_items": null,
       "align_self": null,
       "border_bottom": null,
       "border_left": null,
       "border_right": null,
       "border_top": null,
       "bottom": null,
       "display": null,
       "flex": null,
       "flex_flow": null,
       "grid_area": null,
       "grid_auto_columns": null,
       "grid_auto_flow": null,
       "grid_auto_rows": null,
       "grid_column": null,
       "grid_gap": null,
       "grid_row": null,
       "grid_template_areas": null,
       "grid_template_columns": null,
       "grid_template_rows": null,
       "height": null,
       "justify_content": null,
       "justify_items": null,
       "left": null,
       "margin": null,
       "max_height": null,
       "max_width": null,
       "min_height": null,
       "min_width": null,
       "object_fit": null,
       "object_position": null,
       "order": null,
       "overflow": null,
       "padding": null,
       "right": null,
       "top": null,
       "visibility": null,
       "width": null
      }
     },
     "f6d0badc05ae4cb5937d55c4801eaf69": {
      "model_module": "@jupyter-widgets/controls",
      "model_module_version": "2.0.0",
      "model_name": "HTMLModel",
      "state": {
       "_dom_classes": [],
       "_model_module": "@jupyter-widgets/controls",
       "_model_module_version": "2.0.0",
       "_model_name": "HTMLModel",
       "_view_count": null,
       "_view_module": "@jupyter-widgets/controls",
       "_view_module_version": "2.0.0",
       "_view_name": "HTMLView",
       "description": "",
       "description_allow_html": false,
       "layout": "IPY_MODEL_72eab78d235c45bb86c72d10abea2b19",
       "placeholder": "​",
       "style": "IPY_MODEL_f89f14d780f04591b4d88f20ad3b89a8",
       "tabbable": null,
       "tooltip": null,
       "value": " 9.10M/9.10M [00:00&lt;00:00, 31.8MB/s]"
      }
     },
     "f89f14d780f04591b4d88f20ad3b89a8": {
      "model_module": "@jupyter-widgets/controls",
      "model_module_version": "2.0.0",
      "model_name": "HTMLStyleModel",
      "state": {
       "_model_module": "@jupyter-widgets/controls",
       "_model_module_version": "2.0.0",
       "_model_name": "HTMLStyleModel",
       "_view_count": null,
       "_view_module": "@jupyter-widgets/base",
       "_view_module_version": "2.0.0",
       "_view_name": "StyleView",
       "background": null,
       "description_width": "",
       "font_size": null,
       "text_color": null
      }
     },
     "fe2f53e538cd494a9221da55544f9b7a": {
      "model_module": "@jupyter-widgets/controls",
      "model_module_version": "2.0.0",
      "model_name": "FloatProgressModel",
      "state": {
       "_dom_classes": [],
       "_model_module": "@jupyter-widgets/controls",
       "_model_module_version": "2.0.0",
       "_model_name": "FloatProgressModel",
       "_view_count": null,
       "_view_module": "@jupyter-widgets/controls",
       "_view_module_version": "2.0.0",
       "_view_name": "ProgressView",
       "bar_style": "success",
       "description": "",
       "description_allow_html": false,
       "layout": "IPY_MODEL_65c1094fab874e1db78ba20236e309f4",
       "max": 5069051.0,
       "min": 0.0,
       "orientation": "horizontal",
       "style": "IPY_MODEL_7932209cc8234f8482ef1307fe288e86",
       "tabbable": null,
       "tooltip": null,
       "value": 5069051.0
      }
     }
    },
    "version_major": 2,
    "version_minor": 0
   }
  }
 },
 "nbformat": 4,
 "nbformat_minor": 5
}
